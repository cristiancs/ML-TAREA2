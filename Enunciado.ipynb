{
 "cells": [
  {
   "cell_type": "markdown",
   "metadata": {},
   "source": [
    "<img src=\"http://www.exalumnos.usm.cl/wp-content/uploads/2015/06/Isotipo-Negro.gif\" title=\"Title text\" width=\"20%\" height=\"20%\" />\n",
    "\n",
    "\n",
    "<hr style=\"height:2px;border:none\"/>\n",
    "<h1 align='center'> INF-393 Máquinas de Aprendizaje II-2018 </h1>\n",
    "\n",
    "<H3 align='center'> Tarea 2 - Fronteras no Lineales </H3>\n",
    "<hr style=\"height:2px;border:none\"/>\n",
    "\n",
    "**Temas**  \n",
    "* similaridad: KNN\n",
    "* Selección de hı́per-parámetros estructurales en SVM, Arboles de Decisión, k-NN y Redes Neuronales.\n",
    "* Métodos de *kernel*.\n",
    "* Extracción de características.\n",
    "* Múltiples anotaciones\n",
    "\n",
    "** Formalidades **  \n",
    "* Equipos de trabajo de: 2 personas (*cada uno debe estar en condiciones de realizar una presentación y discutir sobre cada punto del trabajo realizado*)\n",
    "* Se debe preparar una presentación de 20 minutos. Presentador será elegido aleatoriamente.\n",
    "* Se debe preparar un (breve) Jupyter/IPython notebook que explique la actividad realizada y las conclusiones del trabajo\n",
    "* Fecha de discusión y entrega: 8 de Noviembre.\n",
    "* Formato de entrega: envı́o de link Github al correo electrónico del ayudante (*<francisco.mena.13@sansano.usm.cl>*) , incluyendo al profesor en copia (*<jnancu@inf.utfsm.cl>*). Por favor especificar el siguiente asunto: [Tarea2-INF393-II-2018]\n",
    "\n",
    "<hr style=\"height:2px;border:none\"/>\n",
    "\n",
    "### Paquetes de instalación\n",
    "\n",
    "Como es usual utilizaremos *numpy, scipy, matplotlib* y *sklearn*. Además de éstas se necesitará instalar **keras**, una librerı́a en python para prototipado rápido de modelos basados en redes neuronales, muy similar en espı́ritu a *sklearn*. La librerı́a puede usar *TensorFlow* o *Theano* como backend, siendo éstas las librerı́as más populares para desarrollar nuevos modelos de redes neuronales o implementar eficientemente modelos conocidos con fines prácticos. Para detalles sobre la instalación puede revisar [[1]](#refs) o escribir un email a su ayudante.\n",
    "\n",
    "\n",
    "\n",
    "La tarea se divide en secciones:\n",
    "\n",
    "[1.](#primero) Sentiment Analysis en Texto  \n",
    "[2.](#segundo) pendiente\n"
   ]
  },
  {
   "cell_type": "code",
   "execution_count": null,
   "metadata": {},
   "outputs": [],
   "source": []
  },
  {
   "cell_type": "markdown",
   "metadata": {},
   "source": [
    "<a id=\"primero\"></a>\n",
    "## 1. Sentiment Analysis en Texto\n",
    "\n",
    "El análisis de emociones o sentimientos se refiere al proceso de extraer información acerca de la actitud\n",
    "que una persona (o grupo de ellas) manifiesta, en un determinado medio o formato digital, con respecto a un\n",
    "tópico o contexto de comunicación. Uno de los casos más estudiados corresponde a determinar la polaridad\n",
    "de un trozo de texto, es decir, clasificar una determinada evaluación escrita (*review*), en que una persona\n",
    "manifiesta una opinión, como *positiva*, *negativa* o *neutral*. Esto también ha sido extendido a otros medios, como lo es analizar la polaridad de textos en redes sociales.  La dificultad de este problema radica en el carácter altamente ambiguo e informal del lenguaje que utilizan naturalmente las personas ası́ como el manejo de negaciones, sarcasmo y abreviaciones en una frase.\n",
    "\n",
    "<img src=\"https://formtitanhelpdeskimage.s3.amazonaws.com/70c78f9df2fd5c130e7021644f78f4c5.jpg\" title=\"Title text\" width=\"40%\" />\n",
    "\n",
    "\n",
    "Los datos que usaremos para esta actividad corresponden a un subconjunto de los datos publicados en **Kaggle**,  en  el  contexto  de  una  competencia  organizada  por  la  Universidad  de  Stanford  [[2]](#refs).   Cada  registro disponible corresponderá a una opinión sobre una película, registrada sobre el sitio *Rotten Tomatoes*.  Para empezar  nos  limitaremos  a  estudiar  textos  anotados  como  positivos  o  negativos,  clases  que  codificaremos como +1 y 0 respectivamente. Los datos pueden ser descargados ejecutando el siguiente código en sistema Unix:\n",
    "```\n",
    "wget -O train_data.csv http://www.inf.utfsm.cl/~jnancu/stanford-subset/polarity.train\n",
    "wget -O test_data.csv http://www.inf.utfsm.cl/~jnancu/stanford-subset/polarity.dev\n",
    "```\n",
    "\n",
    "> Cargue los dos conjuntos de datos a ser trabajados, donde la etiqueta ya viene codificada y la dejaremos como negativo (0) y positivo (1).\n",
    "```python\n",
    "import pandas as pd\n",
    "ftr = open(\"train_data.csv\", \"r\",  encoding=\"ISO-8859-1\")\n",
    "rows = [line.split(\" \",1) for line in ftr.readlines()]\n",
    "df_train = pd.DataFrame(rows, columns=['Sentiment','Text'])\n",
    "df_train['Sentiment'] = (pd.to_numeric(df_train['Sentiment'])+1)/2 # 0 o 1\n",
    "fts = open(\"test_data.csv\", \"r\",  encoding=\"ISO-8859-1\")\n",
    "... #same loading for test\n",
    "df_train_text = df_train.Text\n",
    "df_test_text = df_test.Text\n",
    "labels_train = df_train.Sentiment.values\n",
    "labels_test = df_test.Sentiment.values\n",
    "```"
   ]
  },
  {
   "cell_type": "code",
   "execution_count": 1,
   "metadata": {
    "scrolled": false
   },
   "outputs": [
    {
     "name": "stdout",
     "output_type": "stream",
     "text": [
      "--2019-11-12 12:31:26--  http://www.inf.utfsm.cl/~jnancu/stanford-subset/polarity.train\n",
      "Resolving www.inf.utfsm.cl (www.inf.utfsm.cl)... 200.1.19.11, 2800:270:c::11\n",
      "Connecting to www.inf.utfsm.cl (www.inf.utfsm.cl)|200.1.19.11|:80... connected.\n",
      "HTTP request sent, awaiting response... 302 Found\n",
      "Location: https://www.inf.utfsm.cl/~jnancu/stanford-subset/polarity.train [following]\n",
      "--2019-11-12 12:31:42--  https://www.inf.utfsm.cl/~jnancu/stanford-subset/polarity.train\n",
      "Connecting to www.inf.utfsm.cl (www.inf.utfsm.cl)|200.1.19.11|:443... connected.\n",
      "HTTP request sent, awaiting response... 200 OK\n",
      "Length: 418331 (409K) [application/octet-stream]\n",
      "Saving to: ‘train_data.csv’\n",
      "\n",
      "train_data.csv      100%[===================>] 408,53K  1,45MB/s    in 0,3s    \n",
      "\n",
      "2019-11-12 12:31:42 (1,45 MB/s) - ‘train_data.csv’ saved [418331/418331]\n",
      "\n",
      "--2019-11-12 12:31:42--  http://www.inf.utfsm.cl/~jnancu/stanford-subset/polarity.dev\n",
      "Resolving www.inf.utfsm.cl (www.inf.utfsm.cl)... 200.1.19.11, 2800:270:c::11\n",
      "Connecting to www.inf.utfsm.cl (www.inf.utfsm.cl)|200.1.19.11|:80... connected.\n",
      "HTTP request sent, awaiting response... 302 Found\n",
      "Location: https://www.inf.utfsm.cl/~jnancu/stanford-subset/polarity.dev [following]\n",
      "--2019-11-12 12:31:43--  https://www.inf.utfsm.cl/~jnancu/stanford-subset/polarity.dev\n",
      "Connecting to www.inf.utfsm.cl (www.inf.utfsm.cl)|200.1.19.11|:443... connected.\n",
      "HTTP request sent, awaiting response... 200 OK\n",
      "Length: 424589 (415K) [application/octet-stream]\n",
      "Saving to: ‘test_data.csv’\n",
      "\n",
      "test_data.csv       100%[===================>] 414,64K  2,43MB/s    in 0,2s    \n",
      "\n",
      "2019-11-12 12:31:44 (2,43 MB/s) - ‘test_data.csv’ saved [424589/424589]\n",
      "\n"
     ]
    }
   ],
   "source": [
    "!wget -O train_data.csv http://www.inf.utfsm.cl/~jnancu/stanford-subset/polarity.train\n",
    "!wget -O test_data.csv http://www.inf.utfsm.cl/~jnancu/stanford-subset/polarity.dev"
   ]
  },
  {
   "cell_type": "code",
   "execution_count": 57,
   "metadata": {},
   "outputs": [
    {
     "name": "stdout",
     "output_type": "stream",
     "text": [
      "Enunciado.ipynb    glove.6B.50d.txt\t    music_genre_classification\n",
      "glove.6B.100d.txt  glove.6B.zip\t\t    sentiment_polarity\n",
      "glove.6B.200d.txt  mturk-datasets.tar.gz    test_data.csv\n",
      "glove.6B.300d.txt  mturk-datasets.tar.gz.1  train_data.csv\n",
      "-1 screenwriter dan schneider and director shawn levy substitute volume and primary colors for humor and bite .\n",
      "-1 home alone goes hollywood , a funny premise until the kids start pulling off stunts not even steven spielberg would know how to do . besides , real movie producers aren't this nice .\n",
      "+1 seldom has a movie so closely matched the spirit of a man and his work .\n",
      "-1 less dizzying than just dizzy , the jaunt is practically over before it begins .\n",
      "-1 an ultra-low-budget indie debut that smacks more of good intentions than talent .\n",
      "-1 at the very least , if you don't know anything about derrida when you walk into the theater , you won't know much more when you leave .\n",
      "-1 the problem is that the movie has no idea of it is serious or not .\n",
      "+1 a searing , epic treatment of a nationwide blight that seems to be , horrifyingly , ever on the rise .\n",
      "+1 visually striking and viscerally repellent .\n",
      "+1 noyce has worked wonders with the material .\n"
     ]
    }
   ],
   "source": [
    "!ls\n",
    "!head test_data.csv"
   ]
  },
  {
   "cell_type": "code",
   "execution_count": 58,
   "metadata": {},
   "outputs": [],
   "source": [
    "import pandas as pd\n",
    "ftr = open(\"train_data.csv\", \"r\",  encoding=\"ISO-8859-1\")\n",
    "rows = [line.split(\" \",1) for line in ftr.readlines()]\n",
    "df_train = pd.DataFrame(rows, columns=['Sentiment','Text'])\n",
    "df_train['Sentiment'] = (pd.to_numeric(df_train['Sentiment'])+1)/2 # 0 o 1\n",
    "\n",
    "ftr.close()\n",
    "\n",
    "fts = open(\"test_data.csv\", \"r\",  encoding=\"ISO-8859-1\")\n",
    "rows = [line.split(\" \",1) for line in fts.readlines()]\n",
    "df_test = pd.DataFrame(rows, columns=['Sentiment','Text'])\n",
    "df_test['Sentiment'] = (pd.to_numeric(df_test['Sentiment'])+1)/2 # 0 o 1\n",
    "\n",
    "fts.close()\n",
    "\n",
    "df_train_text = df_train.Text\n",
    "df_test_text = df_test.Text\n",
    "labels_train = df_train.Sentiment.values\n",
    "labels_test = df_test.Sentiment.values\n"
   ]
  },
  {
   "cell_type": "markdown",
   "metadata": {},
   "source": [
    "\n",
    "\n",
    "> a) Describa los datos trabajados, como la cantidad de datos en cada conjunto, largo de los textos, la cantidad de ejemplo por cada clase, o alguna otra forma que piense que pueda ser útil para comprender el problema trabajado.\n",
    "```python\n",
    "df_train_sentiment.shape\n",
    "```"
   ]
  },
  {
   "cell_type": "code",
   "execution_count": 59,
   "metadata": {
    "scrolled": true
   },
   "outputs": [
    {
     "data": {
      "text/html": [
       "<div>\n",
       "<style scoped>\n",
       "    .dataframe tbody tr th:only-of-type {\n",
       "        vertical-align: middle;\n",
       "    }\n",
       "\n",
       "    .dataframe tbody tr th {\n",
       "        vertical-align: top;\n",
       "    }\n",
       "\n",
       "    .dataframe thead th {\n",
       "        text-align: right;\n",
       "    }\n",
       "</style>\n",
       "<table border=\"1\" class=\"dataframe\">\n",
       "  <thead>\n",
       "    <tr style=\"text-align: right;\">\n",
       "      <th></th>\n",
       "      <th>Sentiment</th>\n",
       "      <th>Text</th>\n",
       "    </tr>\n",
       "  </thead>\n",
       "  <tbody>\n",
       "    <tr>\n",
       "      <td>0</td>\n",
       "      <td>0.0</td>\n",
       "      <td>everything's serious , poetic , earnest and --...</td>\n",
       "    </tr>\n",
       "    <tr>\n",
       "      <td>1</td>\n",
       "      <td>0.0</td>\n",
       "      <td>narratively , trouble every day is a plodding ...</td>\n",
       "    </tr>\n",
       "    <tr>\n",
       "      <td>2</td>\n",
       "      <td>1.0</td>\n",
       "      <td>a truly wonderful tale combined with stunning ...</td>\n",
       "    </tr>\n",
       "    <tr>\n",
       "      <td>3</td>\n",
       "      <td>1.0</td>\n",
       "      <td>jason patric and ray liotta make for one splen...</td>\n",
       "    </tr>\n",
       "    <tr>\n",
       "      <td>4</td>\n",
       "      <td>0.0</td>\n",
       "      <td>haneke keeps us at arm's length . guided more ...</td>\n",
       "    </tr>\n",
       "    <tr>\n",
       "      <td>...</td>\n",
       "      <td>...</td>\n",
       "      <td>...</td>\n",
       "    </tr>\n",
       "    <tr>\n",
       "      <td>3549</td>\n",
       "      <td>0.0</td>\n",
       "      <td>it takes a strange kind of laziness to waste t...</td>\n",
       "    </tr>\n",
       "    <tr>\n",
       "      <td>3550</td>\n",
       "      <td>0.0</td>\n",
       "      <td>an easy watch , except for the annoying demean...</td>\n",
       "    </tr>\n",
       "    <tr>\n",
       "      <td>3551</td>\n",
       "      <td>1.0</td>\n",
       "      <td>dog soldiers doesn't transcend genre -- it emb...</td>\n",
       "    </tr>\n",
       "    <tr>\n",
       "      <td>3552</td>\n",
       "      <td>0.0</td>\n",
       "      <td>it uses the pain and violence of war as backgr...</td>\n",
       "    </tr>\n",
       "    <tr>\n",
       "      <td>3553</td>\n",
       "      <td>1.0</td>\n",
       "      <td>victor rosa is leguizamo's best movie work so ...</td>\n",
       "    </tr>\n",
       "  </tbody>\n",
       "</table>\n",
       "<p>3554 rows × 2 columns</p>\n",
       "</div>"
      ],
      "text/plain": [
       "      Sentiment                                               Text\n",
       "0           0.0  everything's serious , poetic , earnest and --...\n",
       "1           0.0  narratively , trouble every day is a plodding ...\n",
       "2           1.0  a truly wonderful tale combined with stunning ...\n",
       "3           1.0  jason patric and ray liotta make for one splen...\n",
       "4           0.0  haneke keeps us at arm's length . guided more ...\n",
       "...         ...                                                ...\n",
       "3549        0.0  it takes a strange kind of laziness to waste t...\n",
       "3550        0.0  an easy watch , except for the annoying demean...\n",
       "3551        1.0  dog soldiers doesn't transcend genre -- it emb...\n",
       "3552        0.0  it uses the pain and violence of war as backgr...\n",
       "3553        1.0  victor rosa is leguizamo's best movie work so ...\n",
       "\n",
       "[3554 rows x 2 columns]"
      ]
     },
     "execution_count": 59,
     "metadata": {},
     "output_type": "execute_result"
    }
   ],
   "source": [
    "df_train"
   ]
  },
  {
   "cell_type": "code",
   "execution_count": 60,
   "metadata": {},
   "outputs": [
    {
     "name": "stdout",
     "output_type": "stream",
     "text": [
      "Palabras Diferentes:  11698\n",
      "Media: N_veces    6.373825\n",
      "dtype: float64\n",
      "Desviacion Estandar N_veces    71.248868\n",
      "dtype: float64\n"
     ]
    }
   ],
   "source": [
    "import pandas\n",
    "\n",
    "palabras_diferentes = 0\n",
    "palabras = {}\n",
    "for linea in df_train.Text:\n",
    "    for palabra in linea.split(\" \"):\n",
    "        if palabra not in palabras:\n",
    "            palabras[palabra] = 1\n",
    "            palabras_diferentes+=1\n",
    "        else:\n",
    "            palabras[palabra] +=1\n",
    "\n",
    "print(\"Palabras Diferentes: \",palabras_diferentes)\n",
    "df = pandas.DataFrame(list(palabras.items()), columns=[\"Palabra\",\"N_veces\"])\n",
    "\n",
    "df\n",
    "\n",
    "mean =pandas.DataFrame.mean(df)\n",
    "dv = pandas.DataFrame.std(df)\n",
    "\n",
    "print(\"Media:\", mean)\n",
    "print(\"Desviacion Estandar\", dv)"
   ]
  },
  {
   "cell_type": "markdown",
   "metadata": {},
   "source": [
    "> b) Construya un conjunto de validación desde el conjunto de entrenamiento para seleccionar modelos. Decida el tamaño dada la cantidad de ejemplos que se tienen para entrenamiento.\n",
    "```python\n",
    "from sklearn.model_selection import train_test_split\n",
    "df_train_text, df_val_text, labels_train, labels_val  = train_test_split(df_train_text, labels_train, test_size= choose size, random_state=0)\n",
    "```"
   ]
  },
  {
   "cell_type": "code",
   "execution_count": 61,
   "metadata": {},
   "outputs": [],
   "source": [
    "from sklearn.model_selection import train_test_split\n",
    "df_train_text, df_val_text, labels_train, labels_val  = train_test_split(df_train_text, labels_train, test_size=0.2, random_state=0)"
   ]
  },
  {
   "cell_type": "markdown",
   "metadata": {},
   "source": [
    "> c) Realice un pre-procesamiento a los textos para normalizar un poco su estructura, para ello utilice el código de ejemplo a continuación, donde se pasa el texto a minúsculas (*lower-casing*), se reducen las mútliples letras, se eliminan palabras sin significados como artículos, pronombres y preposiciones (*stop word removal* [[3]](#refs)), además de pasar las palabras a su tronco léxico con la técnica de *lemmatizer* [[4]](#refs). Comente la importancia de un correcto pre-procesamiento en el domino de lenguaje natural.\n",
    "```python\n",
    "import re, time\n",
    "from nltk.corpus import stopwords\n",
    "from nltk import WordNetLemmatizer, word_tokenize\n",
    "def base_word(word):\n",
    "    wordlemmatizer = WordNetLemmatizer()\n",
    "    return wordlemmatizer.lemmatize(word) \n",
    "def word_extractor(text):\n",
    "    commonwords = stopwords.words('english')\n",
    "    text = re.sub(r'([a-z])\\1+', r'\\1\\1',text) #substitute multiple letter by two\n",
    "    words = \"\"\n",
    "    wordtokens = [ base_word(word.lower()) for word in word_tokenize(text) ]\n",
    "    for word in wordtokens:\n",
    "        if word not in commonwords: #delete stopwords\n",
    "            words+=\" \"+word\n",
    "    return words\n",
    "... #try yourself\n",
    "word_extractor(\"I love to eat cake\")\n",
    "word_extractor(\"I love eating cake\")\n",
    "word_extractor(\"I loved eating the cake\")\n",
    "word_extractor(\"I do not love eating cake\")\n",
    "word_extractor(\"I don't love eating cake\")\n",
    "... #try yourself\n",
    "texts_train = [word_extractor(text) for text in df_train_text]\n",
    "texts_val = [word_extractor(text) for text in df_val_text]\n",
    "texts_test = [word_extractor(text) for text in df_test_text]\n",
    "```"
   ]
  },
  {
   "cell_type": "code",
   "execution_count": 62,
   "metadata": {},
   "outputs": [
    {
     "name": "stderr",
     "output_type": "stream",
     "text": [
      "[nltk_data] Downloading package stopwords to /root/nltk_data...\n",
      "[nltk_data]   Package stopwords is already up-to-date!\n",
      "[nltk_data] Downloading package punkt to /root/nltk_data...\n",
      "[nltk_data]   Package punkt is already up-to-date!\n",
      "[nltk_data] Downloading package wordnet to /root/nltk_data...\n",
      "[nltk_data]   Package wordnet is already up-to-date!\n"
     ]
    },
    {
     "data": {
      "text/plain": [
       "True"
      ]
     },
     "execution_count": 62,
     "metadata": {},
     "output_type": "execute_result"
    }
   ],
   "source": [
    "import nltk\n",
    "nltk.download('stopwords')\n",
    "nltk.download('punkt')\n",
    "nltk.download('wordnet')"
   ]
  },
  {
   "cell_type": "code",
   "execution_count": 63,
   "metadata": {},
   "outputs": [],
   "source": [
    "import re, time\n",
    "from nltk.corpus import stopwords\n",
    "from nltk import WordNetLemmatizer, word_tokenize\n",
    "def base_word(word):\n",
    "    wordlemmatizer = WordNetLemmatizer()\n",
    "    return wordlemmatizer.lemmatize(word) \n",
    "def word_extractor(text):\n",
    "    commonwords = stopwords.words('english')\n",
    "    text = re.sub(r'([a-z])\\1+', r'\\1\\1',text) #substitute multiple letter by two\n",
    "    words = \"\"\n",
    "    wordtokens = [ base_word(word.lower()) for word in word_tokenize(text) ] # lo separa en diferentes palabras\n",
    "    for word in wordtokens: \n",
    "        if word not in commonwords: #delete stopwords\n",
    "            words+=\" \"+word\n",
    "    return words\n",
    "\n",
    "\n",
    "texts_train = [word_extractor(text) for text in df_train_text]\n",
    "texts_val = [word_extractor(text) for text in df_val_text]\n",
    "texts_test = [word_extractor(text) for text in df_test_text]"
   ]
  },
  {
   "cell_type": "code",
   "execution_count": 64,
   "metadata": {},
   "outputs": [
    {
     "name": "stdout",
     "output_type": "stream",
     "text": [
      "Palabras Diferentes:  8980\n",
      "Media: N_veces    4.649109\n",
      "dtype: float64\n",
      "Desviacion Estandar N_veces    59.090506\n",
      "dtype: float64\n"
     ]
    }
   ],
   "source": [
    "palabras_diferentes = 0\n",
    "palabras = {}\n",
    "for linea in texts_train:\n",
    "    for palabra in linea.split(\" \"):\n",
    "        if palabra not in palabras:\n",
    "            palabras[palabra] = 1\n",
    "            palabras_diferentes+=1\n",
    "        else:\n",
    "            palabras[palabra] +=1\n",
    "\n",
    "print(\"Palabras Diferentes: \",palabras_diferentes)\n",
    "df = pandas.DataFrame(list(palabras.items()), columns=[\"Palabra\",\"N_veces\"])\n",
    "\n",
    "mean =pandas.DataFrame.mean(df)\n",
    "dv = pandas.DataFrame.std(df)\n",
    "\n",
    "print(\"Media:\", mean)\n",
    "print(\"Desviacion Estandar\", dv)"
   ]
  },
  {
   "cell_type": "code",
   "execution_count": null,
   "metadata": {},
   "outputs": [],
   "source": []
  },
  {
   "cell_type": "markdown",
   "metadata": {},
   "source": [
    "Debemos realizar pre procesamiento del lenguaje natural, por que a fin de cuentas, la máquina solo vera números. Y esto significa que un salto de linea podría provocar que la máquina tenga cierta percepción cuando noe s así.\n",
    "\n",
    "\n",
    "Ademas, hacemos cosas como pasar a minusculas todo para reducir el espacio de búsqueda y ademas que no considere diferentes dos palabras que realmente son la misma (Hola vs hola), finalment se remueven palabras comunes para que estas no afecten al procesamiento"
   ]
  },
  {
   "cell_type": "markdown",
   "metadata": {},
   "source": [
    "> d) Construya una representación vectorial a los textos de entrada para poder ser manejados y clasificados por los modelos de aprendizaje. Para ésto utilice el tipo de característica más común, que consiste en contar cuántas veces aparece cada términos/palabras en el texto, denominado **TF** (*term-frequency*). Para esto, se necesita contar con un vocabulario base, el cual se construirá a través de la unión de todas las palabras que observemos en los textos de entrenamiento ¿Cuáles son las palabras más frecuentes?\n",
    "```python\n",
    "import numpy as np\n",
    "from sklearn.feature_extraction.text import CountVectorizer\n",
    "vectorizer = CountVectorizer(ngram_range=(1, 1), binary=False) #TF representation\n",
    "vectorizer.fit(texts_train)\n",
    "features_train = vectorizer.transform(texts_train)\n",
    "... #transform val and test\n",
    "vocab = vectorizer.get_feature_names()\n",
    "dist=list(np.array(features_train.sum(axis=0)).reshape(-1,))\n",
    "```"
   ]
  },
  {
   "cell_type": "code",
   "execution_count": 65,
   "metadata": {},
   "outputs": [
    {
     "data": {
      "text/html": [
       "<div>\n",
       "<style scoped>\n",
       "    .dataframe tbody tr th:only-of-type {\n",
       "        vertical-align: middle;\n",
       "    }\n",
       "\n",
       "    .dataframe tbody tr th {\n",
       "        vertical-align: top;\n",
       "    }\n",
       "\n",
       "    .dataframe thead th {\n",
       "        text-align: right;\n",
       "    }\n",
       "</style>\n",
       "<table border=\"1\" class=\"dataframe\">\n",
       "  <thead>\n",
       "    <tr style=\"text-align: right;\">\n",
       "      <th></th>\n",
       "      <th>Palabra</th>\n",
       "      <th>Frecuencia</th>\n",
       "    </tr>\n",
       "  </thead>\n",
       "  <tbody>\n",
       "    <tr>\n",
       "      <td>2894</td>\n",
       "      <td>film</td>\n",
       "      <td>468</td>\n",
       "    </tr>\n",
       "    <tr>\n",
       "      <td>4954</td>\n",
       "      <td>movie</td>\n",
       "      <td>399</td>\n",
       "    </tr>\n",
       "    <tr>\n",
       "      <td>5245</td>\n",
       "      <td>one</td>\n",
       "      <td>208</td>\n",
       "    </tr>\n",
       "    <tr>\n",
       "      <td>3422</td>\n",
       "      <td>ha</td>\n",
       "      <td>200</td>\n",
       "    </tr>\n",
       "    <tr>\n",
       "      <td>4434</td>\n",
       "      <td>like</td>\n",
       "      <td>192</td>\n",
       "    </tr>\n",
       "    <tr>\n",
       "      <td>4607</td>\n",
       "      <td>make</td>\n",
       "      <td>156</td>\n",
       "    </tr>\n",
       "    <tr>\n",
       "      <td>7200</td>\n",
       "      <td>story</td>\n",
       "      <td>143</td>\n",
       "    </tr>\n",
       "    <tr>\n",
       "      <td>1200</td>\n",
       "      <td>character</td>\n",
       "      <td>136</td>\n",
       "    </tr>\n",
       "    <tr>\n",
       "      <td>2603</td>\n",
       "      <td>even</td>\n",
       "      <td>119</td>\n",
       "    </tr>\n",
       "    <tr>\n",
       "      <td>7649</td>\n",
       "      <td>time</td>\n",
       "      <td>118</td>\n",
       "    </tr>\n",
       "    <tr>\n",
       "      <td>3283</td>\n",
       "      <td>good</td>\n",
       "      <td>113</td>\n",
       "    </tr>\n",
       "    <tr>\n",
       "      <td>1428</td>\n",
       "      <td>comedy</td>\n",
       "      <td>111</td>\n",
       "    </tr>\n",
       "    <tr>\n",
       "      <td>8269</td>\n",
       "      <td>way</td>\n",
       "      <td>102</td>\n",
       "    </tr>\n",
       "    <tr>\n",
       "      <td>2183</td>\n",
       "      <td>doe</td>\n",
       "      <td>101</td>\n",
       "    </tr>\n",
       "    <tr>\n",
       "      <td>8442</td>\n",
       "      <td>work</td>\n",
       "      <td>101</td>\n",
       "    </tr>\n",
       "    <tr>\n",
       "      <td>4965</td>\n",
       "      <td>much</td>\n",
       "      <td>98</td>\n",
       "    </tr>\n",
       "    <tr>\n",
       "      <td>5502</td>\n",
       "      <td>performance</td>\n",
       "      <td>97</td>\n",
       "    </tr>\n",
       "    <tr>\n",
       "      <td>8307</td>\n",
       "      <td>well</td>\n",
       "      <td>95</td>\n",
       "    </tr>\n",
       "    <tr>\n",
       "      <td>3136</td>\n",
       "      <td>funny</td>\n",
       "      <td>89</td>\n",
       "    </tr>\n",
       "    <tr>\n",
       "      <td>4476</td>\n",
       "      <td>little</td>\n",
       "      <td>89</td>\n",
       "    </tr>\n",
       "  </tbody>\n",
       "</table>\n",
       "</div>"
      ],
      "text/plain": [
       "          Palabra  Frecuencia\n",
       "2894         film         468\n",
       "4954        movie         399\n",
       "5245          one         208\n",
       "3422           ha         200\n",
       "4434         like         192\n",
       "4607         make         156\n",
       "7200        story         143\n",
       "1200    character         136\n",
       "2603         even         119\n",
       "7649         time         118\n",
       "3283         good         113\n",
       "1428       comedy         111\n",
       "8269          way         102\n",
       "2183          doe         101\n",
       "8442         work         101\n",
       "4965         much          98\n",
       "5502  performance          97\n",
       "8307         well          95\n",
       "3136        funny          89\n",
       "4476       little          89"
      ]
     },
     "execution_count": 65,
     "metadata": {},
     "output_type": "execute_result"
    }
   ],
   "source": [
    "import numpy as np\n",
    "from sklearn.feature_extraction.text import CountVectorizer\n",
    "vectorizer = CountVectorizer(ngram_range=(1, 1), binary=False) #TF representation\n",
    "vectorizer.fit(texts_train)\n",
    "features_train = vectorizer.transform(texts_train)\n",
    "\n",
    "vocab = vectorizer.get_feature_names()\n",
    "dist=list(np.array(features_train.sum(axis=0)).reshape(-1,))\n",
    "\n",
    "df_vocab = pandas.DataFrame(vocab, columns=[\"Palabra\"])\n",
    "df_dist = pandas.DataFrame(dist, columns=[\"Frecuencia\"])\n",
    "\n",
    "df_concat = pandas.concat([df_vocab, df_dist], sort=False,axis=1)\n",
    "df_concat.nlargest(20, 'Frecuencia')"
   ]
  },
  {
   "cell_type": "code",
   "execution_count": 66,
   "metadata": {},
   "outputs": [
    {
     "data": {
      "text/html": [
       "<div>\n",
       "<style scoped>\n",
       "    .dataframe tbody tr th:only-of-type {\n",
       "        vertical-align: middle;\n",
       "    }\n",
       "\n",
       "    .dataframe tbody tr th {\n",
       "        vertical-align: top;\n",
       "    }\n",
       "\n",
       "    .dataframe thead th {\n",
       "        text-align: right;\n",
       "    }\n",
       "</style>\n",
       "<table border=\"1\" class=\"dataframe\">\n",
       "  <thead>\n",
       "    <tr style=\"text-align: right;\">\n",
       "      <th></th>\n",
       "      <th>Palabra</th>\n",
       "    </tr>\n",
       "  </thead>\n",
       "  <tbody>\n",
       "    <tr>\n",
       "      <td>0</td>\n",
       "      <td>10</td>\n",
       "    </tr>\n",
       "    <tr>\n",
       "      <td>1</td>\n",
       "      <td>100</td>\n",
       "    </tr>\n",
       "    <tr>\n",
       "      <td>2</td>\n",
       "      <td>101</td>\n",
       "    </tr>\n",
       "    <tr>\n",
       "      <td>3</td>\n",
       "      <td>105</td>\n",
       "    </tr>\n",
       "    <tr>\n",
       "      <td>4</td>\n",
       "      <td>10th</td>\n",
       "    </tr>\n",
       "    <tr>\n",
       "      <td>...</td>\n",
       "      <td>...</td>\n",
       "    </tr>\n",
       "    <tr>\n",
       "      <td>8536</td>\n",
       "      <td>zucker</td>\n",
       "    </tr>\n",
       "    <tr>\n",
       "      <td>8537</td>\n",
       "      <td>zwick</td>\n",
       "    </tr>\n",
       "    <tr>\n",
       "      <td>8538</td>\n",
       "      <td>último</td>\n",
       "    </tr>\n",
       "    <tr>\n",
       "      <td>8539</td>\n",
       "      <td>últimos</td>\n",
       "    </tr>\n",
       "    <tr>\n",
       "      <td>8540</td>\n",
       "      <td>única</td>\n",
       "    </tr>\n",
       "  </tbody>\n",
       "</table>\n",
       "<p>8541 rows × 1 columns</p>\n",
       "</div>"
      ],
      "text/plain": [
       "      Palabra\n",
       "0          10\n",
       "1         100\n",
       "2         101\n",
       "3         105\n",
       "4        10th\n",
       "...       ...\n",
       "8536   zucker\n",
       "8537    zwick\n",
       "8538   último\n",
       "8539  últimos\n",
       "8540    única\n",
       "\n",
       "[8541 rows x 1 columns]"
      ]
     },
     "execution_count": 66,
     "metadata": {},
     "output_type": "execute_result"
    }
   ],
   "source": [
    "df_vocab"
   ]
  },
  {
   "cell_type": "markdown",
   "metadata": {},
   "source": [
    "> e) Para tener una visión distinta y entender mejor la representación vectorial realizada, visualice los datos en un plano 2D. Para ésto utilice la técnica **LSA** (*Latent Semantic Analysis*) [[5]](#refs) que a diferencia de PCA, **no centra** los datos antes de realizar la descomposicipon SVD, de ésta manera podrá visualizar el espacio semántico de \"conceptos\" latentes usados en la representación. Coloree cada texto en base a su clase ¿Qué indica lo observado? Comente e interprete los resultados\n",
    "```python\n",
    "from sklearn.decomposition import TruncatedSVD\n",
    "model = TruncatedSVD(n_components=2)\n",
    "model.fit(features_train)\n",
    "x_plot = model.transform(features_train)\n",
    "plt.figure(figsize=(10,5))\n",
    "plt.scatter(x_plot[:,0], x_plot[:,1], c=labels_train)\n",
    "plt.show()\n",
    "```"
   ]
  },
  {
   "cell_type": "code",
   "execution_count": 67,
   "metadata": {},
   "outputs": [
    {
     "data": {
      "image/png": "[encoded data removed]",
      "text/plain": [
       "<Figure size 1440x1080 with 1 Axes>"
      ]
     },
     "metadata": {
      "needs_background": "light"
     },
     "output_type": "display_data"
    }
   ],
   "source": [
    "from sklearn.decomposition import TruncatedSVD\n",
    "import matplotlib.pyplot as plt\n",
    "model = TruncatedSVD(n_components=2)\n",
    "model.fit(features_train)\n",
    "x_plot = model.transform(features_train)\n",
    "plt.figure(figsize=(20,15))\n",
    "plt.scatter(x_plot[:,0], x_plot[:,1], c=labels_train)\n",
    "plt.show()"
   ]
  },
  {
   "cell_type": "markdown",
   "metadata": {},
   "source": [
    "Podemos ver que hay ciertos grupos de palabras que expresan el mismo sentimiento, sin embargo tambien es posible notar que estos no se encuentran claramente dispersos (a excepción de algunos outlayers)"
   ]
  },
  {
   "cell_type": "markdown",
   "metadata": {},
   "source": [
    "> f) Entrene un modelo de Regresión Logística Regularizado (utilizando como penalizador la norma $l_2$). Varíe el parámetro de regularización $C$, en potencias de 10, midiendo el error de predicción obtenido sobre los datos de entrenamiento y validación, construya un gráfico que muestre la variación de ambos errores respecto al parámetro $C$. Explique el significado y valor esperado del parámetro de regularización.\n",
    "```python\n",
    "from sklearn.linear_model import LogisticRegression\n",
    "def do_LOGIT(x,y,xv,yv, param):\n",
    "    print(\"Param C= \",param)\n",
    "    model= LogisticRegression()\n",
    "    model.set_params(C=param)\n",
    "    model.fit(x,y)\n",
    "    train_acc = model.score(x,y)\n",
    "    test_acc = model.score(xv,yv)\n",
    "    return model, train_acc, test_acc\n",
    "Cs = [10**i for i in np.arange(-4,4)]\n",
    "model, train_acc, test_acc = do_LOGIT(features_train,labels_train,features_val,labels_val, param= ...)\n",
    "```"
   ]
  },
  {
   "cell_type": "code",
   "execution_count": 68,
   "metadata": {},
   "outputs": [],
   "source": [
    "features_val = vectorizer.transform(texts_val)"
   ]
  },
  {
   "cell_type": "code",
   "execution_count": 69,
   "metadata": {},
   "outputs": [
    {
     "name": "stderr",
     "output_type": "stream",
     "text": [
      "/root/anaconda3/lib/python3.7/site-packages/sklearn/linear_model/logistic.py:432: FutureWarning: Default solver will be changed to 'lbfgs' in 0.22. Specify a solver to silence this warning.\n",
      "  FutureWarning)\n"
     ]
    },
    {
     "data": {
      "text/plain": [
       "<matplotlib.legend.Legend at 0x7f9f4fd90a90>"
      ]
     },
     "execution_count": 69,
     "metadata": {},
     "output_type": "execute_result"
    },
    {
     "data": {
      "image/png": "[encoded data removed]",
      "text/plain": [
       "<Figure size 432x288 with 1 Axes>"
      ]
     },
     "metadata": {
      "needs_background": "light"
     },
     "output_type": "display_data"
    }
   ],
   "source": [
    "\n",
    "from sklearn.linear_model import LogisticRegression\n",
    "def do_LOGIT(x,y,xv,yv, param):\n",
    "   # print(\"Param C= \",param)\n",
    "    model= LogisticRegression()\n",
    "    model.set_params(C=param)\n",
    "    model.fit(x,y)\n",
    "    train_acc = model.score(x,y)\n",
    "    test_acc = model.score(xv,yv)\n",
    "    return model, train_acc, test_acc\n",
    "Cs = [10**i for i in np.arange(-4,4, dtype=float)]\n",
    "\n",
    "accuracys_train = []\n",
    "accuracys_test  = []\n",
    "\n",
    "for C in Cs:\n",
    "    model, train_acc, test_acc = do_LOGIT(features_train,labels_train,features_val,labels_val, param=C)\n",
    "    accuracys_train.append((C,train_acc))\n",
    "    accuracys_test.append((C,test_acc))\n",
    "    \n",
    "\n",
    "df_accuracys_train = pandas.DataFrame(accuracys_train, columns=[\"C\", \"Training\"])\n",
    "df_accuracys_test = pandas.DataFrame(accuracys_test, columns=[\"C\", \"Test\"])\n",
    "    \n",
    "plt.plot( 'C', 'Training', data=df_accuracys_train, marker='o', color='orange', linewidth=2)\n",
    "plt.plot( 'C', 'Test', data=df_accuracys_test, marker='', color='blue', linewidth=2)\n",
    "plt.title('C vs Accuracy (LOGIC)')\n",
    "plt.ylabel('Accuracy')\n",
    "plt.xlabel('C')\n",
    "plt.xscale('log')\n",
    "plt.legend()\n",
    "\n",
    "\n"
   ]
  },
  {
   "cell_type": "markdown",
   "metadata": {},
   "source": [
    "C es el inverso de la \"fuerza\" de la regularización, mientras más pequeño, más regulariza los datos"
   ]
  },
  {
   "cell_type": "markdown",
   "metadata": {},
   "source": [
    "> g) Entrene una Máquina de Soporte Vectorial (SVM) con distintos kernels. Similar a lo anterior, construya un gráfico que muestre la variación de ambos errores respecto al parámetro de regularización $C$ para cada tipo de kernel que experimente. Explique el significado y valor esperado de los parámetros en este modelo.\n",
    "```python\n",
    "from sklearn.svm import SVC as SVM #SVC is for classification\n",
    "def do_SVM(x,y,xv,yv, param, kernel='linear'):\n",
    "    print(\"Param C= \",C, 'Kernel= ', kernel)\n",
    "    model= SVM()\n",
    "    model.set_params(C=C,kernel=kernel) #try rbf and linear at least\n",
    "    model.fit(x,y)\n",
    "    train_acc = model.score(x,y)\n",
    "    test_acc = model.score(xv,yv)\n",
    "    return model, train_acc, test_acc\n",
    "Cs = [10**i for i in np.arange(-4,4)]\n",
    "```"
   ]
  },
  {
   "cell_type": "code",
   "execution_count": 70,
   "metadata": {},
   "outputs": [
    {
     "name": "stdout",
     "output_type": "stream",
     "text": [
      "Param C=  0.0001 Kernel=  linear\n",
      "Param C=  0.001 Kernel=  linear\n",
      "Param C=  0.01 Kernel=  linear\n",
      "Param C=  0.1 Kernel=  linear\n",
      "Param C=  1.0 Kernel=  linear\n",
      "Param C=  10.0 Kernel=  linear\n",
      "Param C=  100.0 Kernel=  linear\n",
      "Param C=  1000.0 Kernel=  linear\n",
      "Param C=  0.0001 Kernel=  poly\n"
     ]
    },
    {
     "name": "stderr",
     "output_type": "stream",
     "text": [
      "/root/anaconda3/lib/python3.7/site-packages/sklearn/svm/base.py:193: FutureWarning: The default value of gamma will change from 'auto' to 'scale' in version 0.22 to account better for unscaled features. Set gamma explicitly to 'auto' or 'scale' to avoid this warning.\n",
      "  \"avoid this warning.\", FutureWarning)\n"
     ]
    },
    {
     "name": "stdout",
     "output_type": "stream",
     "text": [
      "Param C=  0.001 Kernel=  poly\n"
     ]
    },
    {
     "name": "stderr",
     "output_type": "stream",
     "text": [
      "/root/anaconda3/lib/python3.7/site-packages/sklearn/svm/base.py:193: FutureWarning: The default value of gamma will change from 'auto' to 'scale' in version 0.22 to account better for unscaled features. Set gamma explicitly to 'auto' or 'scale' to avoid this warning.\n",
      "  \"avoid this warning.\", FutureWarning)\n"
     ]
    },
    {
     "name": "stdout",
     "output_type": "stream",
     "text": [
      "Param C=  0.01 Kernel=  poly\n"
     ]
    },
    {
     "name": "stderr",
     "output_type": "stream",
     "text": [
      "/root/anaconda3/lib/python3.7/site-packages/sklearn/svm/base.py:193: FutureWarning: The default value of gamma will change from 'auto' to 'scale' in version 0.22 to account better for unscaled features. Set gamma explicitly to 'auto' or 'scale' to avoid this warning.\n",
      "  \"avoid this warning.\", FutureWarning)\n"
     ]
    },
    {
     "name": "stdout",
     "output_type": "stream",
     "text": [
      "Param C=  0.1 Kernel=  poly\n"
     ]
    },
    {
     "name": "stderr",
     "output_type": "stream",
     "text": [
      "/root/anaconda3/lib/python3.7/site-packages/sklearn/svm/base.py:193: FutureWarning: The default value of gamma will change from 'auto' to 'scale' in version 0.22 to account better for unscaled features. Set gamma explicitly to 'auto' or 'scale' to avoid this warning.\n",
      "  \"avoid this warning.\", FutureWarning)\n"
     ]
    },
    {
     "name": "stdout",
     "output_type": "stream",
     "text": [
      "Param C=  1.0 Kernel=  poly\n"
     ]
    },
    {
     "name": "stderr",
     "output_type": "stream",
     "text": [
      "/root/anaconda3/lib/python3.7/site-packages/sklearn/svm/base.py:193: FutureWarning: The default value of gamma will change from 'auto' to 'scale' in version 0.22 to account better for unscaled features. Set gamma explicitly to 'auto' or 'scale' to avoid this warning.\n",
      "  \"avoid this warning.\", FutureWarning)\n"
     ]
    },
    {
     "name": "stdout",
     "output_type": "stream",
     "text": [
      "Param C=  10.0 Kernel=  poly\n"
     ]
    },
    {
     "name": "stderr",
     "output_type": "stream",
     "text": [
      "/root/anaconda3/lib/python3.7/site-packages/sklearn/svm/base.py:193: FutureWarning: The default value of gamma will change from 'auto' to 'scale' in version 0.22 to account better for unscaled features. Set gamma explicitly to 'auto' or 'scale' to avoid this warning.\n",
      "  \"avoid this warning.\", FutureWarning)\n"
     ]
    },
    {
     "name": "stdout",
     "output_type": "stream",
     "text": [
      "Param C=  100.0 Kernel=  poly\n"
     ]
    },
    {
     "name": "stderr",
     "output_type": "stream",
     "text": [
      "/root/anaconda3/lib/python3.7/site-packages/sklearn/svm/base.py:193: FutureWarning: The default value of gamma will change from 'auto' to 'scale' in version 0.22 to account better for unscaled features. Set gamma explicitly to 'auto' or 'scale' to avoid this warning.\n",
      "  \"avoid this warning.\", FutureWarning)\n"
     ]
    },
    {
     "name": "stdout",
     "output_type": "stream",
     "text": [
      "Param C=  1000.0 Kernel=  poly\n"
     ]
    },
    {
     "name": "stderr",
     "output_type": "stream",
     "text": [
      "/root/anaconda3/lib/python3.7/site-packages/sklearn/svm/base.py:193: FutureWarning: The default value of gamma will change from 'auto' to 'scale' in version 0.22 to account better for unscaled features. Set gamma explicitly to 'auto' or 'scale' to avoid this warning.\n",
      "  \"avoid this warning.\", FutureWarning)\n"
     ]
    },
    {
     "name": "stdout",
     "output_type": "stream",
     "text": [
      "Param C=  0.0001 Kernel=  rbf\n"
     ]
    },
    {
     "name": "stderr",
     "output_type": "stream",
     "text": [
      "/root/anaconda3/lib/python3.7/site-packages/sklearn/svm/base.py:193: FutureWarning: The default value of gamma will change from 'auto' to 'scale' in version 0.22 to account better for unscaled features. Set gamma explicitly to 'auto' or 'scale' to avoid this warning.\n",
      "  \"avoid this warning.\", FutureWarning)\n"
     ]
    },
    {
     "name": "stdout",
     "output_type": "stream",
     "text": [
      "Param C=  0.001 Kernel=  rbf\n"
     ]
    },
    {
     "name": "stderr",
     "output_type": "stream",
     "text": [
      "/root/anaconda3/lib/python3.7/site-packages/sklearn/svm/base.py:193: FutureWarning: The default value of gamma will change from 'auto' to 'scale' in version 0.22 to account better for unscaled features. Set gamma explicitly to 'auto' or 'scale' to avoid this warning.\n",
      "  \"avoid this warning.\", FutureWarning)\n"
     ]
    },
    {
     "name": "stdout",
     "output_type": "stream",
     "text": [
      "Param C=  0.01 Kernel=  rbf\n"
     ]
    },
    {
     "name": "stderr",
     "output_type": "stream",
     "text": [
      "/root/anaconda3/lib/python3.7/site-packages/sklearn/svm/base.py:193: FutureWarning: The default value of gamma will change from 'auto' to 'scale' in version 0.22 to account better for unscaled features. Set gamma explicitly to 'auto' or 'scale' to avoid this warning.\n",
      "  \"avoid this warning.\", FutureWarning)\n"
     ]
    },
    {
     "name": "stdout",
     "output_type": "stream",
     "text": [
      "Param C=  0.1 Kernel=  rbf\n"
     ]
    },
    {
     "name": "stderr",
     "output_type": "stream",
     "text": [
      "/root/anaconda3/lib/python3.7/site-packages/sklearn/svm/base.py:193: FutureWarning: The default value of gamma will change from 'auto' to 'scale' in version 0.22 to account better for unscaled features. Set gamma explicitly to 'auto' or 'scale' to avoid this warning.\n",
      "  \"avoid this warning.\", FutureWarning)\n"
     ]
    },
    {
     "name": "stdout",
     "output_type": "stream",
     "text": [
      "Param C=  1.0 Kernel=  rbf\n"
     ]
    },
    {
     "name": "stderr",
     "output_type": "stream",
     "text": [
      "/root/anaconda3/lib/python3.7/site-packages/sklearn/svm/base.py:193: FutureWarning: The default value of gamma will change from 'auto' to 'scale' in version 0.22 to account better for unscaled features. Set gamma explicitly to 'auto' or 'scale' to avoid this warning.\n",
      "  \"avoid this warning.\", FutureWarning)\n"
     ]
    },
    {
     "name": "stdout",
     "output_type": "stream",
     "text": [
      "Param C=  10.0 Kernel=  rbf\n"
     ]
    },
    {
     "name": "stderr",
     "output_type": "stream",
     "text": [
      "/root/anaconda3/lib/python3.7/site-packages/sklearn/svm/base.py:193: FutureWarning: The default value of gamma will change from 'auto' to 'scale' in version 0.22 to account better for unscaled features. Set gamma explicitly to 'auto' or 'scale' to avoid this warning.\n",
      "  \"avoid this warning.\", FutureWarning)\n"
     ]
    },
    {
     "name": "stdout",
     "output_type": "stream",
     "text": [
      "Param C=  100.0 Kernel=  rbf\n"
     ]
    },
    {
     "name": "stderr",
     "output_type": "stream",
     "text": [
      "/root/anaconda3/lib/python3.7/site-packages/sklearn/svm/base.py:193: FutureWarning: The default value of gamma will change from 'auto' to 'scale' in version 0.22 to account better for unscaled features. Set gamma explicitly to 'auto' or 'scale' to avoid this warning.\n",
      "  \"avoid this warning.\", FutureWarning)\n"
     ]
    },
    {
     "name": "stdout",
     "output_type": "stream",
     "text": [
      "Param C=  1000.0 Kernel=  rbf\n"
     ]
    },
    {
     "name": "stderr",
     "output_type": "stream",
     "text": [
      "/root/anaconda3/lib/python3.7/site-packages/sklearn/svm/base.py:193: FutureWarning: The default value of gamma will change from 'auto' to 'scale' in version 0.22 to account better for unscaled features. Set gamma explicitly to 'auto' or 'scale' to avoid this warning.\n",
      "  \"avoid this warning.\", FutureWarning)\n"
     ]
    },
    {
     "name": "stdout",
     "output_type": "stream",
     "text": [
      "Param C=  0.0001 Kernel=  sigmoid\n"
     ]
    },
    {
     "name": "stderr",
     "output_type": "stream",
     "text": [
      "/root/anaconda3/lib/python3.7/site-packages/sklearn/svm/base.py:193: FutureWarning: The default value of gamma will change from 'auto' to 'scale' in version 0.22 to account better for unscaled features. Set gamma explicitly to 'auto' or 'scale' to avoid this warning.\n",
      "  \"avoid this warning.\", FutureWarning)\n"
     ]
    },
    {
     "name": "stdout",
     "output_type": "stream",
     "text": [
      "Param C=  0.001 Kernel=  sigmoid\n"
     ]
    },
    {
     "name": "stderr",
     "output_type": "stream",
     "text": [
      "/root/anaconda3/lib/python3.7/site-packages/sklearn/svm/base.py:193: FutureWarning: The default value of gamma will change from 'auto' to 'scale' in version 0.22 to account better for unscaled features. Set gamma explicitly to 'auto' or 'scale' to avoid this warning.\n",
      "  \"avoid this warning.\", FutureWarning)\n"
     ]
    },
    {
     "name": "stdout",
     "output_type": "stream",
     "text": [
      "Param C=  0.01 Kernel=  sigmoid\n"
     ]
    },
    {
     "name": "stderr",
     "output_type": "stream",
     "text": [
      "/root/anaconda3/lib/python3.7/site-packages/sklearn/svm/base.py:193: FutureWarning: The default value of gamma will change from 'auto' to 'scale' in version 0.22 to account better for unscaled features. Set gamma explicitly to 'auto' or 'scale' to avoid this warning.\n",
      "  \"avoid this warning.\", FutureWarning)\n"
     ]
    },
    {
     "name": "stdout",
     "output_type": "stream",
     "text": [
      "Param C=  0.1 Kernel=  sigmoid\n"
     ]
    },
    {
     "name": "stderr",
     "output_type": "stream",
     "text": [
      "/root/anaconda3/lib/python3.7/site-packages/sklearn/svm/base.py:193: FutureWarning: The default value of gamma will change from 'auto' to 'scale' in version 0.22 to account better for unscaled features. Set gamma explicitly to 'auto' or 'scale' to avoid this warning.\n",
      "  \"avoid this warning.\", FutureWarning)\n"
     ]
    },
    {
     "name": "stdout",
     "output_type": "stream",
     "text": [
      "Param C=  1.0 Kernel=  sigmoid\n"
     ]
    },
    {
     "name": "stderr",
     "output_type": "stream",
     "text": [
      "/root/anaconda3/lib/python3.7/site-packages/sklearn/svm/base.py:193: FutureWarning: The default value of gamma will change from 'auto' to 'scale' in version 0.22 to account better for unscaled features. Set gamma explicitly to 'auto' or 'scale' to avoid this warning.\n",
      "  \"avoid this warning.\", FutureWarning)\n"
     ]
    },
    {
     "name": "stdout",
     "output_type": "stream",
     "text": [
      "Param C=  10.0 Kernel=  sigmoid\n"
     ]
    },
    {
     "name": "stderr",
     "output_type": "stream",
     "text": [
      "/root/anaconda3/lib/python3.7/site-packages/sklearn/svm/base.py:193: FutureWarning: The default value of gamma will change from 'auto' to 'scale' in version 0.22 to account better for unscaled features. Set gamma explicitly to 'auto' or 'scale' to avoid this warning.\n",
      "  \"avoid this warning.\", FutureWarning)\n"
     ]
    },
    {
     "name": "stdout",
     "output_type": "stream",
     "text": [
      "Param C=  100.0 Kernel=  sigmoid\n"
     ]
    },
    {
     "name": "stderr",
     "output_type": "stream",
     "text": [
      "/root/anaconda3/lib/python3.7/site-packages/sklearn/svm/base.py:193: FutureWarning: The default value of gamma will change from 'auto' to 'scale' in version 0.22 to account better for unscaled features. Set gamma explicitly to 'auto' or 'scale' to avoid this warning.\n",
      "  \"avoid this warning.\", FutureWarning)\n"
     ]
    },
    {
     "name": "stdout",
     "output_type": "stream",
     "text": [
      "Param C=  1000.0 Kernel=  sigmoid\n"
     ]
    },
    {
     "name": "stderr",
     "output_type": "stream",
     "text": [
      "/root/anaconda3/lib/python3.7/site-packages/sklearn/svm/base.py:193: FutureWarning: The default value of gamma will change from 'auto' to 'scale' in version 0.22 to account better for unscaled features. Set gamma explicitly to 'auto' or 'scale' to avoid this warning.\n",
      "  \"avoid this warning.\", FutureWarning)\n"
     ]
    }
   ],
   "source": [
    "\n",
    "from sklearn.svm import SVC as SVM #SVC is for classification\n",
    "def do_SVM(x,y,xv,yv, param, kernel='linear'):\n",
    "    print(\"Param C= \",C, 'Kernel= ', kernel)\n",
    "    model= SVM()\n",
    "    model.set_params(C=C,kernel=kernel) #try rbf and linear at least\n",
    "    model.fit(x,y)\n",
    "    train_acc = model.score(x,y)\n",
    "    test_acc = model.score(xv,yv)\n",
    "    return model, train_acc, test_acc\n",
    "Cs = [10**i for i in np.arange(-4,4, dtype=float)]\n",
    "\n",
    "accuracys_train = dict()\n",
    "accuracys_test  = dict()\n",
    "\n",
    "for kernel in ['linear', 'poly', 'rbf', 'sigmoid']:\n",
    "    for C in Cs:\n",
    "        model, train_acc, test_acc = do_SVM(features_train,labels_train,features_val,labels_val,C,kernel )\n",
    "        if kernel not in accuracys_train:\n",
    "            accuracys_train[kernel] = list()\n",
    "            accuracys_test[kernel] = list()\n",
    "        accuracys_train[kernel].append((C,train_acc))\n",
    "        accuracys_test[kernel].append((C,test_acc))\n",
    "    \n",
    "\n",
    "\n",
    "\n"
   ]
  },
  {
   "cell_type": "code",
   "execution_count": 71,
   "metadata": {
    "scrolled": false
   },
   "outputs": [
    {
     "data": {
      "text/plain": [
       "<matplotlib.legend.Legend at 0x7f9f4a2c7fd0>"
      ]
     },
     "execution_count": 71,
     "metadata": {},
     "output_type": "execute_result"
    },
    {
     "data": {
      "image/png": "[encoded data removed]",
      "text/plain": [
       "<Figure size 1440x1080 with 1 Axes>"
      ]
     },
     "metadata": {
      "needs_background": "light"
     },
     "output_type": "display_data"
    }
   ],
   "source": [
    "colores = {\"linear\": \"tab:blue\",\"poly\": \"tab:orange\", \"rbf\":\"tab:green\" , \"sigmoid\":\"tab:cyan\"}\n",
    "\n",
    "plt.figure(figsize=(20,15))\n",
    "for kernel, data in accuracys_train.items():\n",
    "    plt.plot( 'C', 'Training', data=pandas.DataFrame(data, columns=[\"C\", \"Training\"]), marker='', color=colores[kernel], linewidth=2, label=kernel+\" train\")\n",
    "    \n",
    "for kernel, data in accuracys_test.items():\n",
    "    plt.plot( 'C', 'Test', data=pandas.DataFrame(data, columns=[\"C\", \"Test\"]), marker='o', color=colores[kernel], linewidth=2, label=kernel+\" test\")\n",
    "    \n",
    "plt.title('C vs Accuracy (SVM)')\n",
    "plt.ylabel('Accuracy')\n",
    "\n",
    "plt.xlabel('C')\n",
    "plt.xscale('log')\n",
    "plt.legend()"
   ]
  },
  {
   "cell_type": "markdown",
   "metadata": {},
   "source": [
    "C es la penalización que se aplica cuando se comete un error"
   ]
  },
  {
   "cell_type": "markdown",
   "metadata": {},
   "source": [
    "> h) Utilice el algoritmo de similaridad k-NN para intentar resolver el problema. Varíe el parámetro de los vecinos $k$ en un rango que estime conveniente y realice graficos de errores como en las preguntas anteriores. Comente sobre el valor esperado de este parámetro.\n",
    "```python\n",
    "from sklearn.neighbors import KNeighborsClassifier\n",
    "def do_KNN(x,y,xv,yv, param):\n",
    "    model = KNeighborsClassifier()\n",
    "    print(\"Param K= \",param)\n",
    "    model.set_params(n_neighbors=param)\n",
    "    model.fit(x,y)\n",
    "    train_acc = model.score(x,y)\n",
    "    test_acc = model.score(xv,yv)\n",
    "    return model, train_acc, test_acc\n",
    "Ks = np.arange(1, features_train.shape[1], steps)\n",
    "```"
   ]
  },
  {
   "cell_type": "code",
   "execution_count": 72,
   "metadata": {},
   "outputs": [
    {
     "name": "stdout",
     "output_type": "stream",
     "text": [
      "Param K=  1\n",
      "Param K=  95\n",
      "Param K=  189\n",
      "Param K=  283\n",
      "Param K=  377\n",
      "Param K=  471\n",
      "Param K=  565\n",
      "Param K=  659\n",
      "Param K=  753\n",
      "Param K=  847\n",
      "Param K=  941\n",
      "Param K=  1035\n",
      "Param K=  1129\n",
      "Param K=  1223\n",
      "Param K=  1317\n",
      "Param K=  1411\n",
      "Param K=  1505\n",
      "Param K=  1599\n",
      "Param K=  1693\n",
      "Param K=  1787\n",
      "Param K=  1881\n",
      "Param K=  1975\n",
      "Param K=  2069\n",
      "Param K=  2163\n",
      "Param K=  2257\n",
      "Param K=  2351\n",
      "Param K=  2445\n",
      "Param K=  2539\n",
      "Param K=  2633\n",
      "Param K=  2727\n",
      "Param K=  2821\n"
     ]
    },
    {
     "data": {
      "text/plain": [
       "<matplotlib.legend.Legend at 0x7f9f4fd76090>"
      ]
     },
     "execution_count": 72,
     "metadata": {},
     "output_type": "execute_result"
    },
    {
     "data": {
      "image/png": "[encoded data removed]",
      "text/plain": [
       "<Figure size 432x288 with 1 Axes>"
      ]
     },
     "metadata": {
      "needs_background": "light"
     },
     "output_type": "display_data"
    }
   ],
   "source": [
    "\n",
    "from sklearn.neighbors import KNeighborsClassifier\n",
    "def do_KNN(x,y,xv,yv, param):\n",
    "    model = KNeighborsClassifier()\n",
    "    print(\"Param K= \",param)\n",
    "    model.set_params(n_neighbors=param)\n",
    "    model.fit(x,y)\n",
    "    train_acc = model.score(x,y)\n",
    "    test_acc = model.score(xv,yv)\n",
    "    return model, train_acc, test_acc\n",
    "Ks = np.arange(1, features_train.shape[0],int(features_train.shape[0]/30))\n",
    "\n",
    "\n",
    "accuracys_train = []\n",
    "accuracys_test  = []\n",
    "\n",
    "for K in Ks:\n",
    "    model, train_acc, test_acc = do_KNN(features_train,labels_train,features_val,labels_val, K)\n",
    "    accuracys_train.append((K,train_acc))\n",
    "    accuracys_test.append((K,test_acc))\n",
    "    \n",
    "\n",
    "df_accuracys_train = pandas.DataFrame(accuracys_train, columns=[\"K\", \"Training\"])\n",
    "df_accuracys_test = pandas.DataFrame(accuracys_test, columns=[\"K\", \"Test\"])\n",
    "    \n",
    "plt.plot( 'K', 'Training', data=df_accuracys_train, marker='o', color='orange', linewidth=2)\n",
    "plt.plot( 'K', 'Test', data=df_accuracys_test, marker='', color='blue', linewidth=2)\n",
    "plt.title('K vs Accuracy (KNN)')\n",
    "plt.ylabel('Accuracy')\n",
    "plt.xlabel('K')\n",
    "#plt.xscale('log')\n",
    "plt.legend()\n",
    "\n",
    "\n"
   ]
  },
  {
   "cell_type": "markdown",
   "metadata": {},
   "source": [
    "El parametro K es la cantidad de vecinos, se esperaria que mientras más grande sea (es decir más vecinos considere), el accuracy sea menor"
   ]
  },
  {
   "cell_type": "markdown",
   "metadata": {},
   "source": [
    "> i) Entrene un Arbol de Decisión para resolver el problema. Varíe los parámetros de *max depth* y *min samples split* de manera separada, constuyendo gráficos de error respecto a estos parámetros. *Los valores que se presentan son sugerencias, no es necesario utilizar los mismos*. Comente sobre la diferencia entre la selección de estos dos parámetros.\n",
    "```python\n",
    "from sklearn.tree import DecisionTreeClassifier as Tree\n",
    "def do_Tree(x,y,xv,yv, param_d=None, param_m=2):\n",
    "    model= Tree()\n",
    "    print(\"Param Max-D= \",param_d, 'Min-samples-S= ', param_m)\n",
    "    model.set_params(max_depth=param_d, min_samples_split=param_m) \n",
    "    model.fit(x,y)\n",
    "    train_acc = model.score(x,y)\n",
    "    test_acc = model.score(xv,yv)\n",
    "    return model, train_acc, test_acc\n",
    "Depths = np.arange(1, features_train.shape[1], steps ) #choose steps\n",
    "SamplesS = np.arange(2, features_train.shape[0] , steps ) #choose steps\n",
    "```"
   ]
  },
  {
   "cell_type": "code",
   "execution_count": 73,
   "metadata": {},
   "outputs": [],
   "source": [
    "from sklearn.tree import DecisionTreeClassifier as Tree\n",
    "def do_Tree(x,y,xv,yv, param_d=None, param_m=2):\n",
    "    model= Tree()\n",
    "    print(\"Param Max-D= \",param_d, 'Min-samples-S= ', param_m)\n",
    "    model.set_params(max_depth=param_d, min_samples_split=param_m) \n",
    "    model.fit(x,y)\n",
    "    train_acc = model.score(x,y)\n",
    "    test_acc = model.score(xv,yv)\n",
    "    return model, train_acc, test_acc\n",
    "Depths = np.arange(1, features_train.shape[1], int(features_train.shape[1]/10) ) #choose steps\n",
    "SamplesS = np.arange(2, features_train.shape[0] , int(features_train.shape[0]/10) ) #choose steps\n",
    "\n"
   ]
  },
  {
   "cell_type": "code",
   "execution_count": 74,
   "metadata": {},
   "outputs": [
    {
     "name": "stdout",
     "output_type": "stream",
     "text": [
      "Param Max-D=  1 Min-samples-S=  2\n",
      "Param Max-D=  855 Min-samples-S=  2\n",
      "Param Max-D=  1709 Min-samples-S=  2\n",
      "Param Max-D=  2563 Min-samples-S=  2\n",
      "Param Max-D=  3417 Min-samples-S=  2\n",
      "Param Max-D=  4271 Min-samples-S=  2\n",
      "Param Max-D=  5125 Min-samples-S=  2\n",
      "Param Max-D=  5979 Min-samples-S=  2\n",
      "Param Max-D=  6833 Min-samples-S=  2\n",
      "Param Max-D=  7687 Min-samples-S=  2\n"
     ]
    },
    {
     "data": {
      "text/plain": [
       "<matplotlib.legend.Legend at 0x7f9f4a009410>"
      ]
     },
     "execution_count": 74,
     "metadata": {},
     "output_type": "execute_result"
    },
    {
     "data": {
      "image/png": "[encoded data removed]",
      "text/plain": [
       "<Figure size 432x288 with 1 Axes>"
      ]
     },
     "metadata": {
      "needs_background": "light"
     },
     "output_type": "display_data"
    }
   ],
   "source": [
    "\n",
    "accuracys_train = []\n",
    "accuracys_test  = []\n",
    "\n",
    "for D in Depths:\n",
    "    model, train_acc, test_acc = do_Tree(features_train,labels_train,features_val,labels_val, D, SamplesS[0])\n",
    "    accuracys_train.append((D,train_acc))\n",
    "    accuracys_test.append((D,test_acc))\n",
    "    \n",
    "\n",
    "df_accuracys_train = pandas.DataFrame(accuracys_train, columns=[\"D\", \"Training\"])\n",
    "df_accuracys_test = pandas.DataFrame(accuracys_test, columns=[\"D\", \"Test\"])\n",
    "    \n",
    "plt.plot( 'D', 'Training', data=df_accuracys_train, marker='o', color='orange', linewidth=2)\n",
    "plt.plot( 'D', 'Test', data=df_accuracys_test, marker='', color='blue', linewidth=2)\n",
    "plt.title('D vs Accuracy (Tree)')\n",
    "plt.ylabel('Accuracy')\n",
    "plt.xlabel('D')\n",
    "#plt.xscale('log')\n",
    "plt.legend()\n",
    "\n"
   ]
  },
  {
   "cell_type": "code",
   "execution_count": 75,
   "metadata": {},
   "outputs": [
    {
     "name": "stdout",
     "output_type": "stream",
     "text": [
      "Param Max-D=  8000 Min-samples-S=  2\n",
      "Param Max-D=  8000 Min-samples-S=  286\n",
      "Param Max-D=  8000 Min-samples-S=  570\n",
      "Param Max-D=  8000 Min-samples-S=  854\n",
      "Param Max-D=  8000 Min-samples-S=  1138\n",
      "Param Max-D=  8000 Min-samples-S=  1422\n",
      "Param Max-D=  8000 Min-samples-S=  1706\n",
      "Param Max-D=  8000 Min-samples-S=  1990\n",
      "Param Max-D=  8000 Min-samples-S=  2274\n",
      "Param Max-D=  8000 Min-samples-S=  2558\n",
      "Param Max-D=  8000 Min-samples-S=  2842\n"
     ]
    },
    {
     "data": {
      "text/plain": [
       "<matplotlib.legend.Legend at 0x7f9f4fa8ec10>"
      ]
     },
     "execution_count": 75,
     "metadata": {},
     "output_type": "execute_result"
    },
    {
     "data": {
      "image/png": "[encoded data removed]",
      "text/plain": [
       "<Figure size 432x288 with 1 Axes>"
      ]
     },
     "metadata": {
      "needs_background": "light"
     },
     "output_type": "display_data"
    }
   ],
   "source": [
    "\n",
    "accuracys_train = []\n",
    "accuracys_test  = []\n",
    "\n",
    "for S in SamplesS:\n",
    "    model, train_acc, test_acc = do_Tree(features_train,labels_train,features_val,labels_val, 8000, S) # Elegimos el mejor valor del anterior\n",
    "    accuracys_train.append((S,train_acc))\n",
    "    accuracys_test.append((S,test_acc))\n",
    "    \n",
    "\n",
    "df_accuracys_train = pandas.DataFrame(accuracys_train, columns=[\"S\", \"Training\"])\n",
    "df_accuracys_test = pandas.DataFrame(accuracys_test, columns=[\"S\", \"Test\"])\n",
    "    \n",
    "plt.plot( 'S', 'Training', data=df_accuracys_train, marker='o', color='orange', linewidth=2)\n",
    "plt.plot( 'S', 'Test', data=df_accuracys_test, marker='', color='blue', linewidth=2)\n",
    "plt.title('S vs Accuracy (Tree)')\n",
    "plt.ylabel('Accuracy')\n",
    "plt.xlabel('S')\n",
    "#plt.xscale('log')\n",
    "plt.legend()\n",
    "\n"
   ]
  },
  {
   "cell_type": "markdown",
   "metadata": {},
   "source": [
    "> j) Utilice una Red Neuronal Artificial (ANN) para intentar resolver el problema, como la que se señala a continuación (utilizando el framework de *keras*): entrenada por 25 iteraciones al dataset (*epochs*) con un tamaño de *batch* de 128 para las actualizaciones de los pesos, utilizando *SGD* con una tasa de aprendizaje $0.1$ sobre la función de pérdida binaria de clasificación. La arquitectura de la red contiene una capa de salida con una única neurona que indica la probabilidad de que el texto sea positivo, una capa escondida con número de neuronas $N_h$ y la capa de entrada implícita para $x$. Varíe el parámetro que corresponde al número de neuronas en la capa oculta $N_h$, en potencias de 2, y vuelva a realizar el gráfico de error con respecto al parámetro. Comente.\n",
    "```python\n",
    "from keras.models import Sequential\n",
    "from keras.layers import Dense\n",
    "from keras.optimizers import SGD\n",
    "def do_ANN(x,y, xv,yv, param):\n",
    "    print(\"Neuron hidden = \",param)\n",
    "    model = Sequential()\n",
    "    model.add(Dense(units=param, input_dim=x.shape[1], activation=\"sigmoid\"))\n",
    "    model.add(Dense(1, activation=\"sigmoid\"))\n",
    "    model.compile(optimizer=SGD(lr=0.1), loss=\"binary_crossentropy\", metrics=[\"accuracy\"])\n",
    "    model.fit(x, y, epochs=25, batch_size=128, verbose=0)\n",
    "    train_acc = model.evaluate(x,y, verbose=0)[1] #in position 0 is the loss\n",
    "    test_acc = model.evaluate(xv,yv, verbose=0)[1]\n",
    "    return model, train_acc, test_acc\n",
    "N_h = [2**i for i in range(1,10)]\n",
    "```"
   ]
  },
  {
   "cell_type": "code",
   "execution_count": 76,
   "metadata": {},
   "outputs": [],
   "source": [
    "from keras.models import Sequential\n",
    "from keras.layers import Dense\n",
    "from keras.optimizers import SGD\n",
    "def do_ANN(x,y, xv,yv, param):\n",
    "    print(\"Neuron hidden = \",param)\n",
    "    model = Sequential()\n",
    "    model.add(Dense(units=param, input_dim=x.shape[1], activation=\"sigmoid\"))\n",
    "    model.add(Dense(1, activation=\"sigmoid\"))\n",
    "    model.compile(optimizer=SGD(lr=0.1), loss=\"binary_crossentropy\", metrics=[\"accuracy\"])\n",
    "    model.fit(x, y, epochs=25, batch_size=128, verbose=0)\n",
    "    train_acc = model.evaluate(x,y, verbose=0)[1] #in position 0 is the loss\n",
    "    test_acc = model.evaluate(xv,yv, verbose=0)[1]\n",
    "    return model, train_acc, test_acc\n",
    "N_h = [2**i for i in range(1,10)]\n",
    "\n",
    "\n"
   ]
  },
  {
   "cell_type": "code",
   "execution_count": 77,
   "metadata": {},
   "outputs": [
    {
     "name": "stdout",
     "output_type": "stream",
     "text": [
      "Neuron hidden =  2\n",
      "Neuron hidden =  4\n",
      "Neuron hidden =  8\n",
      "Neuron hidden =  16\n",
      "Neuron hidden =  32\n",
      "Neuron hidden =  64\n",
      "Neuron hidden =  128\n",
      "Neuron hidden =  256\n",
      "Neuron hidden =  512\n"
     ]
    },
    {
     "data": {
      "text/plain": [
       "<matplotlib.legend.Legend at 0x7f9f4bd49850>"
      ]
     },
     "execution_count": 77,
     "metadata": {},
     "output_type": "execute_result"
    },
    {
     "data": {
      "image/png": "[encoded data removed]",
      "text/plain": [
       "<Figure size 432x288 with 1 Axes>"
      ]
     },
     "metadata": {
      "needs_background": "light"
     },
     "output_type": "display_data"
    }
   ],
   "source": [
    "accuracys_train = []\n",
    "accuracys_test  = []\n",
    "\n",
    "for N in N_h:\n",
    "    model, train_acc, test_acc = do_ANN(features_train,labels_train,features_val,labels_val, N)\n",
    "    accuracys_train.append((N,train_acc))\n",
    "    accuracys_test.append((N,test_acc))\n",
    "    \n",
    "\n",
    "df_accuracys_train = pandas.DataFrame(accuracys_train, columns=[\"N\", \"Training\"])\n",
    "df_accuracys_test = pandas.DataFrame(accuracys_test, columns=[\"N\", \"Test\"])\n",
    "    \n",
    "plt.plot( 'N', 'Training', data=df_accuracys_train, marker='o', color='orange', linewidth=2)\n",
    "plt.plot( 'N', 'Test', data=df_accuracys_test, marker='', color='blue', linewidth=2)\n",
    "plt.title('N vs Accuracy (Neuronal Network)')\n",
    "plt.ylabel('Accuracy')\n",
    "plt.xlabel('N')\n",
    "#plt.xscale('log')\n",
    "plt.legend()\n",
    "\n"
   ]
  },
  {
   "cell_type": "markdown",
   "metadata": {},
   "source": [
    "> k) Ahora evalúe sobre el conjunto de pruebas el mejor modelo obtenido, seleccionado en base a la métrica de desempeño en el conjunto de validación. Comente sobre la calidad obtenida en el problema trabajado ¿Es un buen valor? ¿Cuál podría ser un valor de referencia?"
   ]
  },
  {
   "cell_type": "code",
   "execution_count": 78,
   "metadata": {},
   "outputs": [
    {
     "name": "stdout",
     "output_type": "stream",
     "text": [
      "Param C=  1000.0 Kernel=  linear\n",
      "0.7045582442318514\n"
     ]
    }
   ],
   "source": [
    "features_test = vectorizer.transform(texts_test)\n",
    "\n",
    "\n",
    "# Lo cargamos denuevo para habilitar probability\n",
    "def do_SVM(x,y,xv,yv, param, kernel='linear'):\n",
    "    print(\"Param C= \",C, 'Kernel= ', kernel)\n",
    "    model= SVM()\n",
    "    model.set_params(C=C,kernel=kernel, probability=True) #try rbf and linear at least\n",
    "    model.fit(x,y)\n",
    "    train_acc = model.score(x,y)\n",
    "    test_acc = model.score(xv,yv)\n",
    "    return model, train_acc, test_acc\n",
    "\n",
    "\n",
    "model, train_acc, test_acc = do_SVM(features_train,labels_train,features_test,labels_test,1,\"linear\" )\n",
    "\n",
    "print(test_acc)"
   ]
  },
  {
   "cell_type": "markdown",
   "metadata": {},
   "source": [
    "Es un buen valor (al menos mejor que algo aleatorio), sin embnargo se esperaria una accuraccy mayor al 90%, ademas es interesante notar que la red neuronal arrojo peores resultados que SVM "
   ]
  },
  {
   "cell_type": "markdown",
   "metadata": {},
   "source": [
    "> l) Para comparar sus resultados utilice el modelo VADER (*Valence Aware Dictionary and sEntiment Reasoner*) [[6]](#refs), el cual entrega una *score* de predicción a nivel léxico (de palabras que comúnmente se asocian a una orientiación positiva o negativa). Este modelo construido manualmente no requiere entrenamiento, por lo que solo debe evaluar en conjunto de pruebas realizando predicciones del texto bruto (sin pre-procesamiento). Comente.\n",
    "```python\n",
    "from vaderSentiment.vaderSentiment import SentimentIntensityAnalyzer \n",
    "def vader_predict(sentences): \n",
    "    sid_obj = SentimentIntensityAnalyzer() \n",
    "    sent_v = []\n",
    "    for text in sentences:\n",
    "        sentiment_dict = sid_obj.polarity_scores(text) \n",
    "        if sentiment_dict[\"pos\"] > sentiment_dict[\"neg\"]: #based on scores\n",
    "            sent_v.append(1)\n",
    "        else:\n",
    "            sent_v.append(0)\n",
    "    return np.asarray(sent_v)\n",
    "vader_pred_test = vader_predict(df_test_text) \n",
    "from sklearn.metrics import accuracy_score\n",
    "accuracy_score(labels_test, vader_pred_test)\n",
    "```\n",
    ">> Para instalar VADER ejecute en consola:\n",
    "```\n",
    "pip install vaderSentiment\n",
    "```"
   ]
  },
  {
   "cell_type": "code",
   "execution_count": 79,
   "metadata": {},
   "outputs": [
    {
     "data": {
      "text/plain": [
       "0.6359032076533483"
      ]
     },
     "execution_count": 79,
     "metadata": {},
     "output_type": "execute_result"
    }
   ],
   "source": [
    "from vaderSentiment.vaderSentiment import SentimentIntensityAnalyzer \n",
    "def vader_predict(sentences): \n",
    "    sid_obj = SentimentIntensityAnalyzer() \n",
    "    sent_v = []\n",
    "    for text in sentences:\n",
    "        sentiment_dict = sid_obj.polarity_scores(text) \n",
    "        if sentiment_dict[\"pos\"] > sentiment_dict[\"neg\"]: #based on scores\n",
    "            sent_v.append(1)\n",
    "        else:\n",
    "            sent_v.append(0)\n",
    "    return np.asarray(sent_v)\n",
    "vader_pred_test = vader_predict(df_test_text) \n",
    "from sklearn.metrics import accuracy_score\n",
    "accuracy_score(labels_test, vader_pred_test)"
   ]
  },
  {
   "cell_type": "markdown",
   "metadata": {},
   "source": [
    "> m) Bajo la idea del modelo VADER realice un análisis de qué palabras su modelo tiende a considerar como positivas o negativas por si solas. Algunos de los modelos estudiados en esta sección realizan una predicción probabilista, utilice uno de éstos para verificar lo solicitado. Sobre la representación *TF* genere datos de entradas que contengan una sola palabra del vocabulario para evaluar que predicción les genera su modelo a esas palabras. Muestre las palabras más negativas y positivas en el vocabulario consideradas por su modelo. Comente.\n",
    "```python\n",
    "V = len(vocab)\n",
    "word_scores = np.zeros((V, 2))\n",
    "for i in range(V):\n",
    "    x_word = np.zeros((1, V))\n",
    "    x_word[:,i] = 1 # only the \"i\" word appeared\n",
    "    word_scores[i] = model.predict_proba(x_word)\n",
    "vocab\n",
    "```"
   ]
  },
  {
   "cell_type": "code",
   "execution_count": 80,
   "metadata": {},
   "outputs": [],
   "source": [
    "V = len(vocab)\n",
    "word_scores = np.zeros((V, 2))\n",
    "for i in range(V):\n",
    "    x_word = np.zeros((1, V))\n",
    "    x_word[:,i] = 1 # only the \"i\" word appeared\n",
    "    word_scores[i] = model.predict_proba(x_word)\n"
   ]
  },
  {
   "cell_type": "code",
   "execution_count": 81,
   "metadata": {},
   "outputs": [
    {
     "data": {
      "text/html": [
       "<div>\n",
       "<style scoped>\n",
       "    .dataframe tbody tr th:only-of-type {\n",
       "        vertical-align: middle;\n",
       "    }\n",
       "\n",
       "    .dataframe tbody tr th {\n",
       "        vertical-align: top;\n",
       "    }\n",
       "\n",
       "    .dataframe thead th {\n",
       "        text-align: right;\n",
       "    }\n",
       "</style>\n",
       "<table border=\"1\" class=\"dataframe\">\n",
       "  <thead>\n",
       "    <tr style=\"text-align: right;\">\n",
       "      <th></th>\n",
       "      <th>Palabra</th>\n",
       "      <th>Negativa</th>\n",
       "      <th>Positiva</th>\n",
       "    </tr>\n",
       "  </thead>\n",
       "  <tbody>\n",
       "    <tr>\n",
       "      <td>8455</td>\n",
       "      <td>worst</td>\n",
       "      <td>0.841533</td>\n",
       "      <td>0.158467</td>\n",
       "    </tr>\n",
       "    <tr>\n",
       "      <td>5033</td>\n",
       "      <td>naturally</td>\n",
       "      <td>0.833344</td>\n",
       "      <td>0.166656</td>\n",
       "    </tr>\n",
       "    <tr>\n",
       "      <td>6796</td>\n",
       "      <td>simple</td>\n",
       "      <td>0.792656</td>\n",
       "      <td>0.207344</td>\n",
       "    </tr>\n",
       "    <tr>\n",
       "      <td>1213</td>\n",
       "      <td>charlie</td>\n",
       "      <td>0.790374</td>\n",
       "      <td>0.209626</td>\n",
       "    </tr>\n",
       "    <tr>\n",
       "      <td>5858</td>\n",
       "      <td>promotion</td>\n",
       "      <td>0.786350</td>\n",
       "      <td>0.213650</td>\n",
       "    </tr>\n",
       "    <tr>\n",
       "      <td>7317</td>\n",
       "      <td>suffer</td>\n",
       "      <td>0.774924</td>\n",
       "      <td>0.225076</td>\n",
       "    </tr>\n",
       "    <tr>\n",
       "      <td>1427</td>\n",
       "      <td>comedic</td>\n",
       "      <td>0.772198</td>\n",
       "      <td>0.227802</td>\n",
       "    </tr>\n",
       "    <tr>\n",
       "      <td>398</td>\n",
       "      <td>apparent</td>\n",
       "      <td>0.771930</td>\n",
       "      <td>0.228070</td>\n",
       "    </tr>\n",
       "    <tr>\n",
       "      <td>5141</td>\n",
       "      <td>nothing</td>\n",
       "      <td>0.768840</td>\n",
       "      <td>0.231160</td>\n",
       "    </tr>\n",
       "    <tr>\n",
       "      <td>2029</td>\n",
       "      <td>devoid</td>\n",
       "      <td>0.763736</td>\n",
       "      <td>0.236264</td>\n",
       "    </tr>\n",
       "    <tr>\n",
       "      <td>2296</td>\n",
       "      <td>dull</td>\n",
       "      <td>0.758548</td>\n",
       "      <td>0.241452</td>\n",
       "    </tr>\n",
       "    <tr>\n",
       "      <td>3133</td>\n",
       "      <td>funnier</td>\n",
       "      <td>0.755044</td>\n",
       "      <td>0.244956</td>\n",
       "    </tr>\n",
       "    <tr>\n",
       "      <td>4945</td>\n",
       "      <td>mounted</td>\n",
       "      <td>0.750208</td>\n",
       "      <td>0.249792</td>\n",
       "    </tr>\n",
       "    <tr>\n",
       "      <td>7973</td>\n",
       "      <td>unfortunately</td>\n",
       "      <td>0.747189</td>\n",
       "      <td>0.252811</td>\n",
       "    </tr>\n",
       "    <tr>\n",
       "      <td>7105</td>\n",
       "      <td>stale</td>\n",
       "      <td>0.746638</td>\n",
       "      <td>0.253362</td>\n",
       "    </tr>\n",
       "    <tr>\n",
       "      <td>586</td>\n",
       "      <td>awful</td>\n",
       "      <td>0.745472</td>\n",
       "      <td>0.254528</td>\n",
       "    </tr>\n",
       "    <tr>\n",
       "      <td>7662</td>\n",
       "      <td>tiresome</td>\n",
       "      <td>0.743130</td>\n",
       "      <td>0.256870</td>\n",
       "    </tr>\n",
       "    <tr>\n",
       "      <td>5758</td>\n",
       "      <td>predecessor</td>\n",
       "      <td>0.742380</td>\n",
       "      <td>0.257620</td>\n",
       "    </tr>\n",
       "    <tr>\n",
       "      <td>6300</td>\n",
       "      <td>rewarding</td>\n",
       "      <td>0.742135</td>\n",
       "      <td>0.257865</td>\n",
       "    </tr>\n",
       "    <tr>\n",
       "      <td>3486</td>\n",
       "      <td>harmless</td>\n",
       "      <td>0.741896</td>\n",
       "      <td>0.258104</td>\n",
       "    </tr>\n",
       "  </tbody>\n",
       "</table>\n",
       "</div>"
      ],
      "text/plain": [
       "            Palabra  Negativa  Positiva\n",
       "8455          worst  0.841533  0.158467\n",
       "5033      naturally  0.833344  0.166656\n",
       "6796         simple  0.792656  0.207344\n",
       "1213        charlie  0.790374  0.209626\n",
       "5858      promotion  0.786350  0.213650\n",
       "7317         suffer  0.774924  0.225076\n",
       "1427        comedic  0.772198  0.227802\n",
       "398        apparent  0.771930  0.228070\n",
       "5141        nothing  0.768840  0.231160\n",
       "2029         devoid  0.763736  0.236264\n",
       "2296           dull  0.758548  0.241452\n",
       "3133        funnier  0.755044  0.244956\n",
       "4945        mounted  0.750208  0.249792\n",
       "7973  unfortunately  0.747189  0.252811\n",
       "7105          stale  0.746638  0.253362\n",
       "586           awful  0.745472  0.254528\n",
       "7662       tiresome  0.743130  0.256870\n",
       "5758    predecessor  0.742380  0.257620\n",
       "6300      rewarding  0.742135  0.257865\n",
       "3486       harmless  0.741896  0.258104"
      ]
     },
     "execution_count": 81,
     "metadata": {},
     "output_type": "execute_result"
    }
   ],
   "source": [
    "\n",
    "df_vocab = pandas.DataFrame(vocab, columns=[\"Palabra\"])\n",
    "\n",
    "# Elegimos este orden ya que si no worst (que por simple impección es negativa aparece como positiva)\n",
    "df_word_scores = pandas.DataFrame(word_scores, columns=[\"Negativa\", \"Positiva\"])\n",
    "\n",
    "df_concat_2 = pandas.concat([df_vocab, df_word_scores], sort=False,axis=1)\n",
    "df_concat_2.nlargest(20, 'Negativa')\n",
    "\n"
   ]
  },
  {
   "cell_type": "code",
   "execution_count": 82,
   "metadata": {},
   "outputs": [
    {
     "data": {
      "text/html": [
       "<div>\n",
       "<style scoped>\n",
       "    .dataframe tbody tr th:only-of-type {\n",
       "        vertical-align: middle;\n",
       "    }\n",
       "\n",
       "    .dataframe tbody tr th {\n",
       "        vertical-align: top;\n",
       "    }\n",
       "\n",
       "    .dataframe thead th {\n",
       "        text-align: right;\n",
       "    }\n",
       "</style>\n",
       "<table border=\"1\" class=\"dataframe\">\n",
       "  <thead>\n",
       "    <tr style=\"text-align: right;\">\n",
       "      <th></th>\n",
       "      <th>Palabra</th>\n",
       "      <th>Negativa</th>\n",
       "      <th>Positiva</th>\n",
       "    </tr>\n",
       "  </thead>\n",
       "  <tbody>\n",
       "    <tr>\n",
       "      <td>6845</td>\n",
       "      <td>skillful</td>\n",
       "      <td>0.166035</td>\n",
       "      <td>0.833965</td>\n",
       "    </tr>\n",
       "    <tr>\n",
       "      <td>5258</td>\n",
       "      <td>openness</td>\n",
       "      <td>0.199578</td>\n",
       "      <td>0.800422</td>\n",
       "    </tr>\n",
       "    <tr>\n",
       "      <td>8424</td>\n",
       "      <td>wonderful</td>\n",
       "      <td>0.202802</td>\n",
       "      <td>0.797198</td>\n",
       "    </tr>\n",
       "    <tr>\n",
       "      <td>4674</td>\n",
       "      <td>marvel</td>\n",
       "      <td>0.210895</td>\n",
       "      <td>0.789105</td>\n",
       "    </tr>\n",
       "    <tr>\n",
       "      <td>2483</td>\n",
       "      <td>engage</td>\n",
       "      <td>0.213934</td>\n",
       "      <td>0.786066</td>\n",
       "    </tr>\n",
       "    <tr>\n",
       "      <td>1941</td>\n",
       "      <td>dense</td>\n",
       "      <td>0.218636</td>\n",
       "      <td>0.781364</td>\n",
       "    </tr>\n",
       "    <tr>\n",
       "      <td>8414</td>\n",
       "      <td>witty</td>\n",
       "      <td>0.235201</td>\n",
       "      <td>0.764799</td>\n",
       "    </tr>\n",
       "    <tr>\n",
       "      <td>5767</td>\n",
       "      <td>prehistoric</td>\n",
       "      <td>0.235482</td>\n",
       "      <td>0.764518</td>\n",
       "    </tr>\n",
       "    <tr>\n",
       "      <td>7183</td>\n",
       "      <td>stitch</td>\n",
       "      <td>0.239384</td>\n",
       "      <td>0.760616</td>\n",
       "    </tr>\n",
       "    <tr>\n",
       "      <td>7172</td>\n",
       "      <td>still</td>\n",
       "      <td>0.241807</td>\n",
       "      <td>0.758193</td>\n",
       "    </tr>\n",
       "    <tr>\n",
       "      <td>17</td>\n",
       "      <td>19</td>\n",
       "      <td>0.243956</td>\n",
       "      <td>0.756044</td>\n",
       "    </tr>\n",
       "    <tr>\n",
       "      <td>3057</td>\n",
       "      <td>frailty</td>\n",
       "      <td>0.255711</td>\n",
       "      <td>0.744289</td>\n",
       "    </tr>\n",
       "    <tr>\n",
       "      <td>3543</td>\n",
       "      <td>height</td>\n",
       "      <td>0.258749</td>\n",
       "      <td>0.741251</td>\n",
       "    </tr>\n",
       "    <tr>\n",
       "      <td>6318</td>\n",
       "      <td>ride</td>\n",
       "      <td>0.259790</td>\n",
       "      <td>0.740210</td>\n",
       "    </tr>\n",
       "    <tr>\n",
       "      <td>7166</td>\n",
       "      <td>stick</td>\n",
       "      <td>0.262241</td>\n",
       "      <td>0.737759</td>\n",
       "    </tr>\n",
       "    <tr>\n",
       "      <td>7747</td>\n",
       "      <td>train</td>\n",
       "      <td>0.262599</td>\n",
       "      <td>0.737401</td>\n",
       "    </tr>\n",
       "    <tr>\n",
       "      <td>4531</td>\n",
       "      <td>loved</td>\n",
       "      <td>0.267527</td>\n",
       "      <td>0.732473</td>\n",
       "    </tr>\n",
       "    <tr>\n",
       "      <td>261</td>\n",
       "      <td>album</td>\n",
       "      <td>0.269156</td>\n",
       "      <td>0.730844</td>\n",
       "    </tr>\n",
       "    <tr>\n",
       "      <td>1142</td>\n",
       "      <td>catch</td>\n",
       "      <td>0.269171</td>\n",
       "      <td>0.730829</td>\n",
       "    </tr>\n",
       "    <tr>\n",
       "      <td>7721</td>\n",
       "      <td>touché</td>\n",
       "      <td>0.269212</td>\n",
       "      <td>0.730788</td>\n",
       "    </tr>\n",
       "  </tbody>\n",
       "</table>\n",
       "</div>"
      ],
      "text/plain": [
       "          Palabra  Negativa  Positiva\n",
       "6845     skillful  0.166035  0.833965\n",
       "5258     openness  0.199578  0.800422\n",
       "8424    wonderful  0.202802  0.797198\n",
       "4674       marvel  0.210895  0.789105\n",
       "2483       engage  0.213934  0.786066\n",
       "1941        dense  0.218636  0.781364\n",
       "8414        witty  0.235201  0.764799\n",
       "5767  prehistoric  0.235482  0.764518\n",
       "7183       stitch  0.239384  0.760616\n",
       "7172        still  0.241807  0.758193\n",
       "17             19  0.243956  0.756044\n",
       "3057      frailty  0.255711  0.744289\n",
       "3543       height  0.258749  0.741251\n",
       "6318         ride  0.259790  0.740210\n",
       "7166        stick  0.262241  0.737759\n",
       "7747        train  0.262599  0.737401\n",
       "4531        loved  0.267527  0.732473\n",
       "261         album  0.269156  0.730844\n",
       "1142        catch  0.269171  0.730829\n",
       "7721       touché  0.269212  0.730788"
      ]
     },
     "execution_count": 82,
     "metadata": {},
     "output_type": "execute_result"
    }
   ],
   "source": [
    "df_concat_2.nlargest(20, 'Positiva')\n"
   ]
  },
  {
   "cell_type": "markdown",
   "metadata": {},
   "source": [
    "> n) Intente mejorar los resultados de otra manera. Varíe el pre-procesamiento realizado a los datos en c), por ejemplo eliminar símbolos, números o aplicar la técnica de *stemmming* [[7]](#refs) en lugar de *lemmatization* para llevar a su tronco léxico.\n",
    "```python\n",
    "from nltk.stem.porter import PorterStemmer\n",
    "wordstemmer = PorterStemmer()\n",
    "wordstemmer.stem(word)\n",
    "```"
   ]
  },
  {
   "cell_type": "code",
   "execution_count": 83,
   "metadata": {},
   "outputs": [],
   "source": [
    "from nltk.stem.porter import PorterStemmer\n",
    "\n",
    "def base_word(word):\n",
    "    wordlemmatizer = PorterStemmer()\n",
    "    return wordlemmatizer.stem(word) \n",
    "\n",
    "def word_extractor(text):\n",
    "    commonwords = stopwords.words('english')\n",
    "    text = re.sub(r'([a-z])\\1+', r'\\1\\1',text) #substitute multiple letter by two\n",
    "    words = \"\"\n",
    "    wordtokens = [ base_word(word.lower()) for word in word_tokenize(text) ]\n",
    "    for word in wordtokens:\n",
    "        if word not in commonwords: #delete stopwords\n",
    "            words+=\" \"+word\n",
    "    return words\n",
    "\n",
    "\n",
    "texts_train = [word_extractor(text) for text in df_train_text]\n",
    "texts_val = [word_extractor(text) for text in df_val_text]\n",
    "texts_test = [word_extractor(text) for text in df_test_text]"
   ]
  },
  {
   "cell_type": "code",
   "execution_count": 84,
   "metadata": {},
   "outputs": [
    {
     "name": "stdout",
     "output_type": "stream",
     "text": [
      "Param C=  1000.0 Kernel=  linear\n",
      "0.7045582442318514\n"
     ]
    }
   ],
   "source": [
    "model, train_acc, test_acc = do_SVM(features_train,labels_train,features_test,labels_test,1,\"linear\" )\n",
    "\n",
    "print(test_acc)"
   ]
  },
  {
   "cell_type": "markdown",
   "metadata": {},
   "source": [
    "> o) Varíe la representación utilizada actualmente por alguna otra que ayude a mejorar el desempeño, por ejemplo reducir el peso de una palabra si es que aparece en muchos textos: TF-IDF. Existen varias opciones que podría realizar para mejorar el desempeño, por ejemplo reducir el vocabulario a las $K$ palabras más frecuentes, eliminar las palabras menos frecuentes, normalizar la representación, utilizar *n-gramas*, entre otras.\n",
    "```python\n",
    "from sklearn.feature_extraction.text import TfidfVectorizer\n",
    "tfidf_model = TfidfVectorizer(binary=False, ngram_range=(1, 1), max_df=1.0, min_df=1, max_features=None, norm='l2', use_idf=True, sublinear_tf=False)\n",
    "tfidf_model.fit(texts_train)\n",
    "tfidf_model.transform(texts_train)\n",
    "... #for val and test\n",
    "```"
   ]
  },
  {
   "cell_type": "code",
   "execution_count": 85,
   "metadata": {},
   "outputs": [
    {
     "name": "stdout",
     "output_type": "stream",
     "text": [
      "Param C=  1000.0 Kernel=  linear\n"
     ]
    }
   ],
   "source": [
    "#REVISAR\n",
    "\n",
    "from sklearn.feature_extraction.text import TfidfVectorizer\n",
    "tfidf_model = TfidfVectorizer(binary=False, ngram_range=(1, 1), max_df=1.0, min_df=1, max_features=None, norm='l2', use_idf=True, sublinear_tf=False)\n",
    "tfidf_model.fit(texts_train)\n",
    "tfidf_model.transform(texts_train)\n",
    "\n",
    "\n",
    "\n",
    "model, train_acc, test_acc = do_SVM(features_train,labels_train,features_test,labels_test,1,\"linear\" )\n"
   ]
  },
  {
   "cell_type": "markdown",
   "metadata": {},
   "source": [
    "> p) Utilice métricas auxiliares para entender en qué falla su mejor modelo obtenido hasta el momento. ¿La información entregada indica cómo se podría mejorar o cual sería la causa de la falla?\n",
    "```python\n",
    "from sklearn.metrics import classification_report\n",
    "def score_the_model(model, x, y):\n",
    "    print(\"Detailed Analysis Testing Results ...\")\n",
    "    print(classification_report(y, model.predict(x), target_names=['-','+']))\n",
    "score_the_model(model, features_test, labels_test )\n",
    "```"
   ]
  },
  {
   "cell_type": "code",
   "execution_count": 86,
   "metadata": {},
   "outputs": [
    {
     "name": "stdout",
     "output_type": "stream",
     "text": [
      "Detailed Analysis Testing Results ...\n",
      "              precision    recall  f1-score   support\n",
      "\n",
      "           -       0.72      0.68      0.70      1803\n",
      "           +       0.69      0.73      0.71      1751\n",
      "\n",
      "    accuracy                           0.70      3554\n",
      "   macro avg       0.71      0.70      0.70      3554\n",
      "weighted avg       0.71      0.70      0.70      3554\n",
      "\n"
     ]
    }
   ],
   "source": [
    "from sklearn.metrics import classification_report\n",
    "def score_the_model(model, x, y):\n",
    "    print(\"Detailed Analysis Testing Results ...\")\n",
    "    print(classification_report(y, model.predict(x), target_names=['-','+']))\n",
    "score_the_model(model, features_test, labels_test )"
   ]
  },
  {
   "cell_type": "markdown",
   "metadata": {},
   "source": [
    "No realmente"
   ]
  },
  {
   "cell_type": "markdown",
   "metadata": {},
   "source": [
    "> q) Algo que se puede modificar en algunos modelos de aprendizaje es poner peso en cada una de las clases, por ejemplo si una clase es de mayor interés que las otras e interesa reducir más su error. En *sklearn* ésto puede ser realizado con el parámetro de *class_weights*. Por ejemplo, asigne que detectar los textos negativos me interesa 5 veces más que detectar los textos positivos. Comente.\n",
    "```python\n",
    "classes_weights = {0: 5, 1: 1} #or choose..\n",
    "model.set_params(class_weight=classes_weights)\n",
    "model.fit(features_train, labels_train)\n",
    "score_the_model(model, features_test, labels_test)\n",
    "```"
   ]
  },
  {
   "cell_type": "code",
   "execution_count": 87,
   "metadata": {},
   "outputs": [
    {
     "name": "stdout",
     "output_type": "stream",
     "text": [
      "Detailed Analysis Testing Results ...\n",
      "              precision    recall  f1-score   support\n",
      "\n",
      "           -       0.72      0.68      0.70      1803\n",
      "           +       0.69      0.73      0.71      1751\n",
      "\n",
      "    accuracy                           0.70      3554\n",
      "   macro avg       0.71      0.70      0.70      3554\n",
      "weighted avg       0.71      0.70      0.70      3554\n",
      "\n"
     ]
    }
   ],
   "source": [
    "classes_weights = {0: 100, 1: 1} #or choose..\n",
    "model.set_params(class_weight=classes_weights)\n",
    "model.fit(features_train, labels_train)\n",
    "score_the_model(model, features_test, labels_test)"
   ]
  },
  {
   "cell_type": "markdown",
   "metadata": {},
   "source": [
    "No se observan cambios aun probando con valores mucho más grandes"
   ]
  },
  {
   "cell_type": "markdown",
   "metadata": {},
   "source": [
    "> r) Visualice la clasificación que realiza su mejor modelo sobre algunos textos de pruebas ¿Qué entega mas información, una predicción categórica o una continua? ¿Cuál podría ser el beneficio de una o de otra? Comente\n",
    "```python\n",
    "test_pred = log_model.predict_proba(features_test) #or \".predict\"\n",
    "spl = np.random.randint( 0, len(test_pred), size=15)\n",
    "for text, pred_s, true_s in zip(df_test_text[spl], test_pred[spl], labels_test[spl]):\n",
    "    print(\"True sent: \", true_s, \"-- Pred sent: \",pred_s)\n",
    "    print(\"Raw text: \", text)\n",
    "```"
   ]
  },
  {
   "cell_type": "code",
   "execution_count": 88,
   "metadata": {},
   "outputs": [
    {
     "name": "stdout",
     "output_type": "stream",
     "text": [
      "True sent:  0.0 -- Pred sent:  [0.28436925 0.71563075]\n",
      "Raw text:  this tale has been told and retold ; the races and rackets change , but the song remains the same .\n",
      "\n",
      "True sent:  0.0 -- Pred sent:  [0.62019171 0.37980829]\n",
      "Raw text:  for its 100 minutes running time , you'll wait in vain for a movie to happen .\n",
      "\n",
      "True sent:  1.0 -- Pred sent:  [0.88170072 0.11829928]\n",
      "Raw text:  if you ignore the cliches and concentrate on city by the sea's interpersonal drama , it ain't half-bad .\n",
      "\n",
      "True sent:  0.0 -- Pred sent:  [0.42120547 0.57879453]\n",
      "Raw text:  this overproduced and generally disappointing effort isn't likely to rouse the rush hour crowd .\n",
      "\n",
      "True sent:  0.0 -- Pred sent:  [0.37699206 0.62300794]\n",
      "Raw text:  this time kaufman's imagination has failed him .\n",
      "\n",
      "True sent:  1.0 -- Pred sent:  [0.54428846 0.45571154]\n",
      "Raw text:  a richly imagined and admirably mature work from a gifted director who definitely has something on his mind .\n",
      "\n",
      "True sent:  1.0 -- Pred sent:  [0.44354489 0.55645511]\n",
      "Raw text:  if this story must be told and retold -- and indeed it must -- then the grey zone is to be lauded for finding a new and ingenious angle .\n",
      "\n",
      "True sent:  0.0 -- Pred sent:  [0.39854063 0.60145937]\n",
      "Raw text:  releasing a film with the word 'dog' in its title in january lends itself to easy jokes and insults , and snow dogs deserves every single one of them .\n",
      "\n",
      "True sent:  1.0 -- Pred sent:  [0.20710406 0.79289594]\n",
      "Raw text:  a beguiling evocation of the quality that keeps dickens evergreen : the exuberant openness with which he expresses our most basic emotions .\n",
      "\n",
      "True sent:  1.0 -- Pred sent:  [0.73639723 0.26360277]\n",
      "Raw text:  makes one thing abundantly clear . american musical comedy as we know it wouldn't exist without the precedent of yiddish theater , whose jolly , fun-for-fun's-sake communal spirit goes to the essence of broadway .\n",
      "\n",
      "True sent:  0.0 -- Pred sent:  [0.67845878 0.32154122]\n",
      "Raw text:  there's a scientific law to be discerned here that producers would be well to heed : mediocre movies start to drag as soon as the action speeds up ; when the explosions start , they fall to pieces .\n",
      "\n",
      "True sent:  0.0 -- Pred sent:  [0.66271927 0.33728073]\n",
      "Raw text:  a showcase for both the scenic splendor of the mountains and for legendary actor michel serrault , the film is less successful on other levels .\n",
      "\n",
      "True sent:  1.0 -- Pred sent:  [0.34335984 0.65664016]\n",
      "Raw text:  directors brett morgen and nanette burstein have put together a bold biographical fantasia .\n",
      "\n",
      "True sent:  0.0 -- Pred sent:  [0.58220146 0.41779854]\n",
      "Raw text:  a picture as erratic as its central character .\n",
      "\n",
      "True sent:  0.0 -- Pred sent:  [0.24979028 0.75020972]\n",
      "Raw text:  on the right track to something that's creepy and effective . . . it's just going to take more than a man in a bullwinkle costume to get there .\n",
      "\n"
     ]
    }
   ],
   "source": [
    "test_pred = model.predict_proba(features_test) #or \".predict\"\n",
    "spl = np.random.randint( 0, len(test_pred), size=15)\n",
    "for text, pred_s, true_s in zip(df_test_text[spl], test_pred[spl], labels_test[spl]):\n",
    "    print(\"True sent: \", true_s, \"-- Pred sent: \",pred_s)\n",
    "    print(\"Raw text: \", text)"
   ]
  },
  {
   "cell_type": "markdown",
   "metadata": {},
   "source": [
    "Una continua entre mucha más información, esta podría ser mucho más util si por ejemplo decidimos ordenar los comentarios por que tan negativos o positivos son, un valor de 0/1 nos serviria por ejemplo para dar un rating general de la pelicula / poner un icono de si el comentario es positivo negativo, etc"
   ]
  },
  {
   "cell_type": "markdown",
   "metadata": {},
   "source": [
    "> s) Comente sobre el desempeño obtenido por los diferentes modelos de aprendizaje utilizados al enfrentar el problema, ¿Dónde pareciera estar la mejora? ¿En la variación de los modelos y sus parámetros o en la modificación de la representación? ¿Cuál modelo de aprendizaje le parece mejor en base a su criterio? ya sea desempeño, tiempo de ejecución comodidad en las decisiones involucradas, etc."
   ]
  },
  {
   "cell_type": "markdown",
   "metadata": {},
   "source": [
    "Aunque no se han hecho pruebas con todos los modelos, pareciera ser que lo que más a funcionado es una mezcla, claramente con ciertos parametros los modelos mejoraban, pero cuando cambiamos a PorterStemmer tambien se noto una mejora del 7%, lo cual no es nada despreciable"
   ]
  },
  {
   "cell_type": "markdown",
   "metadata": {},
   "source": []
  },
  {
   "cell_type": "markdown",
   "metadata": {},
   "source": [
    "<a id=\"segundo\"></a>\n",
    "## 2. Problema de Múltiples Anotaciones\n",
    "\n",
    "El aprendizaje supervisado visto en clases da cuenta que existe una única posible etiqueta $z$ (*ground truth*) asociada a un dato $x$ para poder aprender de los datos. Sin embargo, la definición del *ground truth* en algunos casos puede resultar bastante difícil de definir o bastante costoso, por ejemplo en problemas médicos donde se deben realizar invasivos exámenes para conocer la \"verdad absoluta\". Como alternativa se pueden recolectar múltiples anotaciones desde personas inexpertas en el área para poder estimar el *ground truth*. \n",
    "\n",
    "<img src=\"http://www.irishenvironment.com/wp-content/uploads/2013/11/crowdsourcing.jpg\" title=\"Title text\" width=\"40%\" />\n",
    "\n",
    "En esta actividad se trabajará en el caso en que contamos con múltiples anotaciones por cada dato de entrada $x_i$ dadas por personas inexpertas a través de Amazon Mechanical Turk (__[AMT](https://www.mturk.com/)__), es decir, $y^{(1)}, y^{(2)} \\ldots y^{(T_i)}$. El problema de predicción trabajado será el mismo de la actividad anterior, el análisis de sentimiento de un extracto de texto en Rotten Tomatoes. Los datos trabajados [[8]](#refs) pueden ser descargados de la página del autor.\n",
    "```\n",
    "wget http://fprodrigues.com//mturk-datasets.tar.gz\n",
    "```\n",
    "\n",
    "De esta manera trabajaremos con el archivo *mturk_answers.csv* en la carpeta *sentiment polarity* que se puede cargar con pandas. En este archivo se tendrán múltiples filas/registros por cada dato de entrenamiento, cada uno representando la etiqueta que entregó una persona (*worker*) a ese dato, los detalles de columnas son:\n",
    "* *WorkerId*: identificador de la persona que etiquetó/anotó el dato\n",
    "* *Input.id*: identificador del dato a etiquetar/anotar\n",
    "* *Input.original_sentence*: texto original del dato\n",
    "* *Input.stemmed_sent*: texto pre-procesado\n",
    "* *Input.true_sent*: sentimiento real (*ground truth*) del dato\n",
    "* *Answer.sent*:   etiqueta/anotación que entregó la persona\n",
    "\n",
    "```python\n",
    "import pandas as pd\n",
    "df = pd.read_csv(\"./sentiment_polarity/mturk_answers.csv\") \n",
    "```\n",
    "\n",
    "> El objetivo de la actividad será el de obtener un modelo predictor del *ground truth* sin entrenar directamente con esto, sino que utilizar las múltiples anotaciones de las personas\n",
    "\n",
    "### Importante\n",
    "* Deberá crear un conjunto aleatorio de pruebas que solo contenga los textos y el sentimiento *ground truth* (sin repeticiones)\n",
    "* Los valores de *ground truth* están **solo para evaluar**, no puede utilizarlos para entrenar o tomar decisiones en su modelo.\n",
    "* La métrica de evaluación será el *accuracy score*\n",
    "```python\n",
    "from sklearn.metrics import accuracy_score\n",
    "accuracy_score(y_true, y_pred)\n",
    "```\n",
    "\n",
    "#### Sugerencias\n",
    "Para representar los textos, a diferencia de lo visto en la sección 1, se puede utilizar lo que son la representación vectorial de palabras (*word vectors*), a través de modelos especializados entrenados para aprender una representación en que palabras similares estén cercanas en el espacio vectorial. Puede utilizar los vectores livianos de __[GLOVE](https://nlp.stanford.edu/projects/glove/)__ en su versión entradas en textos de Wikipedia con 6 billones de palabras/tokens.\n",
    "```python\n",
    "EMBEDDING_DIM = 300\n",
    "GLOVE_FILE = \"./glove.6B.%dd.txt\"%(EMBEDDING_DIM)\n",
    "embeddings_index = {}\n",
    "with open(GLOVE_FILE) as file:\n",
    "    for line in file:\n",
    "        values = line.split()\n",
    "        embeddings_index[values[0]] = np.asarray(values[1:], dtype='float32')\n",
    "...\n",
    "embeddings_index.get(word)\n",
    "```\n",
    "> Para descargar GLOVE\n",
    "```\n",
    "wget http://nlp.stanford.edu/data/glove.6B.zip\n",
    "```"
   ]
  },
  {
   "cell_type": "code",
   "execution_count": 89,
   "metadata": {},
   "outputs": [],
   "source": [
    "# !wget http://nlp.stanford.edu/data/glove.6B.zip"
   ]
  },
  {
   "cell_type": "code",
   "execution_count": 90,
   "metadata": {},
   "outputs": [],
   "source": [
    "# !unzip glove.6B.zip"
   ]
  },
  {
   "cell_type": "code",
   "execution_count": 91,
   "metadata": {
    "scrolled": true
   },
   "outputs": [],
   "source": [
    "# !wget http://fprodrigues.com//mturk-datasets.tar.gz"
   ]
  },
  {
   "cell_type": "code",
   "execution_count": 92,
   "metadata": {},
   "outputs": [],
   "source": [
    " # !tar -xzvf mturk-datasets.tar.gz"
   ]
  },
  {
   "cell_type": "code",
   "execution_count": 93,
   "metadata": {},
   "outputs": [],
   "source": [
    "import numpy as np\n",
    "EMBEDDING_DIM = 300\n",
    "GLOVE_FILE = \"./glove.6B.%dd.txt\"%(EMBEDDING_DIM)\n",
    "embeddings_index = {}\n",
    "with open(GLOVE_FILE) as file:\n",
    "    for line in file:\n",
    "        values = line.split()\n",
    "        embeddings_index[values[0]] = np.asarray(values[1:], dtype='float32')"
   ]
  },
  {
   "cell_type": "code",
   "execution_count": 94,
   "metadata": {},
   "outputs": [
    {
     "data": {
      "text/plain": [
       "array([ 0.44874  , -0.4454   , -0.20424  , -0.15572  , -0.17863  ,\n",
       "       -0.17937  ,  0.16693  ,  0.19144  ,  0.1905   , -1.2896   ,\n",
       "        0.18248  , -0.21426  ,  0.085121 , -0.0058638, -0.026263 ,\n",
       "        0.0016149, -0.36555  , -0.28236  ,  0.17898  ,  0.7489   ,\n",
       "        0.32092  ,  0.74883  ,  0.081232 , -0.058681 , -0.20367  ,\n",
       "       -0.38068  ,  0.18391  ,  0.09356  , -0.06925  , -0.47984  ,\n",
       "       -0.49404  ,  0.058204 , -0.4334   , -0.26631  , -0.99599  ,\n",
       "        0.29223  , -0.023785 ,  0.18912  , -0.36762  ,  0.34751  ,\n",
       "        0.048832 ,  0.036862 , -0.35062  ,  0.10833  ,  0.4946   ,\n",
       "       -0.039863 ,  0.39128  , -0.020769 , -0.12705  ,  0.046382 ,\n",
       "       -0.21406  , -0.59181  ,  0.21041  , -0.56966  , -0.24769  ,\n",
       "        0.38859  , -0.28034  ,  0.034968 ,  0.18841  ,  0.024812 ,\n",
       "        0.3951   ,  0.35182  ,  0.3994   ,  0.16125  , -0.44957  ,\n",
       "        0.24849  ,  0.23305  ,  0.45207  , -0.06272  , -0.17149  ,\n",
       "       -0.17172  ,  0.068708 ,  0.11551  ,  0.25054  , -0.28774  ,\n",
       "       -0.16684  ,  0.27381  , -0.011397 , -0.30798  , -0.83347  ,\n",
       "       -0.071585 , -0.0055025, -0.30456  , -0.34992  ,  0.22609  ,\n",
       "        0.071457 , -0.40954  ,  0.50268  , -0.1923   , -0.18743  ,\n",
       "       -0.081633 ,  0.28438  ,  0.019232 , -0.20621  , -0.35405  ,\n",
       "        0.11008  ,  0.39073  ,  0.28297  , -0.25589  , -0.021105 ,\n",
       "       -0.27977  , -0.29185  , -0.078045 ,  0.022613 , -0.075677 ,\n",
       "       -0.090885 , -0.65828  ,  0.35586  ,  0.17445  ,  0.14168  ,\n",
       "        0.28787  , -0.041357 ,  0.12109  , -0.16702  , -0.36207  ,\n",
       "       -0.20528  , -0.27496  ,  0.23108  ,  0.17463  , -0.083284 ,\n",
       "       -0.15736  , -0.30389  , -0.35668  ,  0.36021  , -0.13257  ,\n",
       "        0.45379  ,  0.057279 ,  0.0099825,  0.14006  , -0.29028  ,\n",
       "       -0.098165 ,  0.70843  ,  0.34807  ,  0.32953  ,  0.002531 ,\n",
       "       -0.17779  , -0.27737  , -0.077174 , -0.18016  ,  0.0058945,\n",
       "        0.3323   , -0.041585 , -0.24417  ,  0.15559  , -0.71168  ,\n",
       "        0.31978  , -0.20235  , -0.1391   ,  0.32835  , -0.23347  ,\n",
       "       -0.36204  , -0.19822  , -0.11254  , -0.19162  ,  0.81234  ,\n",
       "       -0.11773  , -0.090821 , -0.012381 , -0.20655  ,  0.39727  ,\n",
       "       -0.12859  , -0.51444  , -0.069508 , -0.51492  ,  0.17492  ,\n",
       "       -0.39085  ,  0.30431  ,  0.20866  ,  0.20814  ,  0.081704 ,\n",
       "        0.43346  ,  0.36692  , -0.7234   , -0.22624  ,  0.35103  ,\n",
       "        0.40185  , -0.066207 , -0.44122  ,  0.088056 , -0.1141   ,\n",
       "       -0.25569  , -0.41572  ,  0.55871  , -0.05316  ,  0.03282  ,\n",
       "        0.11204  ,  1.17     , -0.52161  , -0.45347  , -0.14356  ,\n",
       "        0.15812  ,  0.35026  , -0.24765  ,  0.45916  , -0.30463  ,\n",
       "       -0.54401  , -0.76729  ,  0.27121  , -0.28832  , -0.28877  ,\n",
       "        0.92026  , -0.55504  ,  0.89317  ,  0.72846  , -0.034564 ,\n",
       "       -0.47318  , -0.35406  ,  0.010974 , -0.3657   , -0.43079  ,\n",
       "        0.128    , -0.0073274, -0.024473 , -0.24949  ,  0.14662  ,\n",
       "       -0.59969  ,  0.31741  , -0.65881  ,  0.099875 , -0.31075  ,\n",
       "        0.41238  , -0.037321 , -0.11839  ,  0.3218   , -0.35082  ,\n",
       "        0.067191 , -0.27724  ,  0.07873  ,  0.31168  ,  0.16752  ,\n",
       "        0.41795  , -0.43803  , -0.14223  , -0.7233   , -0.20296  ,\n",
       "       -0.30294  , -0.28651  , -0.41819  , -0.71467  ,  0.018165 ,\n",
       "        0.033627 , -0.10131  , -0.52418  ,  1.0111   , -0.29982  ,\n",
       "        0.029605 ,  0.27006  , -0.21342  , -0.40335  , -0.61184  ,\n",
       "        0.34844  , -0.64999  ,  0.35635  ,  0.3026   , -0.029668 ,\n",
       "       -0.081819 ,  0.26356  , -0.021661 , -0.30046  ,  0.10017  ,\n",
       "       -0.093733 , -0.59904  , -0.74793  ,  0.33489  , -0.56252  ,\n",
       "        0.018978 , -0.11927  ,  0.34142  ,  0.61782  ,  0.0074694,\n",
       "        0.11553  , -0.16533  , -0.21368  , -0.18144  ,  0.068883 ,\n",
       "        0.32689  , -1.0713   ,  0.40936  , -0.35786  , -0.51646  ,\n",
       "       -0.16331  ,  0.11448  , -0.30322  ,  0.22718  , -0.18747  ,\n",
       "        0.30216  ,  0.015925 ,  0.26171  ,  0.013634 ,  0.020713 ,\n",
       "       -0.12224  ,  0.22727  , -0.4159   ,  0.70634  ,  0.51108  ,\n",
       "       -0.040447 , -0.13281  ,  0.015896 , -0.34353  ,  0.36559  ],\n",
       "      dtype=float32)"
      ]
     },
     "execution_count": 94,
     "metadata": {},
     "output_type": "execute_result"
    }
   ],
   "source": [
    "embeddings_index.get(\"cool\")"
   ]
  },
  {
   "cell_type": "code",
   "execution_count": 95,
   "metadata": {},
   "outputs": [
    {
     "data": {
      "text/html": [
       "<div>\n",
       "<style scoped>\n",
       "    .dataframe tbody tr th:only-of-type {\n",
       "        vertical-align: middle;\n",
       "    }\n",
       "\n",
       "    .dataframe tbody tr th {\n",
       "        vertical-align: top;\n",
       "    }\n",
       "\n",
       "    .dataframe thead th {\n",
       "        text-align: right;\n",
       "    }\n",
       "</style>\n",
       "<table border=\"1\" class=\"dataframe\">\n",
       "  <thead>\n",
       "    <tr style=\"text-align: right;\">\n",
       "      <th></th>\n",
       "      <th>WorkerId</th>\n",
       "      <th>Input.id</th>\n",
       "      <th>Input.original_sentence</th>\n",
       "      <th>Input.stemmed_sent</th>\n",
       "      <th>Input.true_sent</th>\n",
       "      <th>Answer.sent</th>\n",
       "    </tr>\n",
       "  </thead>\n",
       "  <tbody>\n",
       "    <tr>\n",
       "      <td>0</td>\n",
       "      <td>A2HD5XMM48KKJW</td>\n",
       "      <td>4518</td>\n",
       "      <td>the cast is phenomenal , especially the women .</td>\n",
       "      <td>cast phenomen especi women</td>\n",
       "      <td>pos</td>\n",
       "      <td>pos</td>\n",
       "    </tr>\n",
       "    <tr>\n",
       "      <td>1</td>\n",
       "      <td>A2HD5XMM48KKJW</td>\n",
       "      <td>10415</td>\n",
       "      <td>the metaphors are provocative , but too often ...</td>\n",
       "      <td>metaphor provoc often viewer left puzzl mechan...</td>\n",
       "      <td>neg</td>\n",
       "      <td>neg</td>\n",
       "    </tr>\n",
       "    <tr>\n",
       "      <td>2</td>\n",
       "      <td>A2HD5XMM48KKJW</td>\n",
       "      <td>7098</td>\n",
       "      <td>while there's something intrinsically funny ab...</td>\n",
       "      <td>there someth intrins funni sir anthoni hopkin ...</td>\n",
       "      <td>neg</td>\n",
       "      <td>pos</td>\n",
       "    </tr>\n",
       "    <tr>\n",
       "      <td>3</td>\n",
       "      <td>A2HD5XMM48KKJW</td>\n",
       "      <td>4396</td>\n",
       "      <td>a harrowing account of a psychological breakdo...</td>\n",
       "      <td>harrow account psycholog breakdown</td>\n",
       "      <td>pos</td>\n",
       "      <td>neg</td>\n",
       "    </tr>\n",
       "    <tr>\n",
       "      <td>4</td>\n",
       "      <td>A2HD5XMM48KKJW</td>\n",
       "      <td>2812</td>\n",
       "      <td>. . . a visually seductive , unrepentantly tr...</td>\n",
       "      <td>visual seduct unrepentantli trashi rice instal...</td>\n",
       "      <td>pos</td>\n",
       "      <td>pos</td>\n",
       "    </tr>\n",
       "    <tr>\n",
       "      <td>...</td>\n",
       "      <td>...</td>\n",
       "      <td>...</td>\n",
       "      <td>...</td>\n",
       "      <td>...</td>\n",
       "      <td>...</td>\n",
       "      <td>...</td>\n",
       "    </tr>\n",
       "    <tr>\n",
       "      <td>27741</td>\n",
       "      <td>A4F3BK6J0PCVH</td>\n",
       "      <td>7144</td>\n",
       "      <td>the movie fails to live up to the sum of its p...</td>\n",
       "      <td>movi fail live sum part</td>\n",
       "      <td>neg</td>\n",
       "      <td>neg</td>\n",
       "    </tr>\n",
       "    <tr>\n",
       "      <td>27742</td>\n",
       "      <td>A4F3BK6J0PCVH</td>\n",
       "      <td>8293</td>\n",
       "      <td>the balkans provide the obstacle course for th...</td>\n",
       "      <td>balkan provid obstacl cours love good woman</td>\n",
       "      <td>neg</td>\n",
       "      <td>neg</td>\n",
       "    </tr>\n",
       "    <tr>\n",
       "      <td>27743</td>\n",
       "      <td>A4F3BK6J0PCVH</td>\n",
       "      <td>2929</td>\n",
       "      <td>this is a smart movie that knows its classical...</td>\n",
       "      <td>smart movi know classic music know freud know ...</td>\n",
       "      <td>pos</td>\n",
       "      <td>pos</td>\n",
       "    </tr>\n",
       "    <tr>\n",
       "      <td>27744</td>\n",
       "      <td>A4F3BK6J0PCVH</td>\n",
       "      <td>6902</td>\n",
       "      <td>there's something with potential here , but th...</td>\n",
       "      <td>there someth potenti movi decid lavinia conser...</td>\n",
       "      <td>neg</td>\n",
       "      <td>neg</td>\n",
       "    </tr>\n",
       "    <tr>\n",
       "      <td>27745</td>\n",
       "      <td>A4F3BK6J0PCVH</td>\n",
       "      <td>1369</td>\n",
       "      <td>. . . a fun little timewaster , helped especi...</td>\n",
       "      <td>fun littl timewast help especi cool presenc je...</td>\n",
       "      <td>pos</td>\n",
       "      <td>pos</td>\n",
       "    </tr>\n",
       "  </tbody>\n",
       "</table>\n",
       "<p>27746 rows × 6 columns</p>\n",
       "</div>"
      ],
      "text/plain": [
       "             WorkerId  Input.id  \\\n",
       "0      A2HD5XMM48KKJW      4518   \n",
       "1      A2HD5XMM48KKJW     10415   \n",
       "2      A2HD5XMM48KKJW      7098   \n",
       "3      A2HD5XMM48KKJW      4396   \n",
       "4      A2HD5XMM48KKJW      2812   \n",
       "...               ...       ...   \n",
       "27741   A4F3BK6J0PCVH      7144   \n",
       "27742   A4F3BK6J0PCVH      8293   \n",
       "27743   A4F3BK6J0PCVH      2929   \n",
       "27744   A4F3BK6J0PCVH      6902   \n",
       "27745   A4F3BK6J0PCVH      1369   \n",
       "\n",
       "                                 Input.original_sentence  \\\n",
       "0       the cast is phenomenal , especially the women .    \n",
       "1      the metaphors are provocative , but too often ...   \n",
       "2      while there's something intrinsically funny ab...   \n",
       "3      a harrowing account of a psychological breakdo...   \n",
       "4       . . . a visually seductive , unrepentantly tr...   \n",
       "...                                                  ...   \n",
       "27741  the movie fails to live up to the sum of its p...   \n",
       "27742  the balkans provide the obstacle course for th...   \n",
       "27743  this is a smart movie that knows its classical...   \n",
       "27744  there's something with potential here , but th...   \n",
       "27745   . . . a fun little timewaster , helped especi...   \n",
       "\n",
       "                                      Input.stemmed_sent Input.true_sent  \\\n",
       "0                             cast phenomen especi women             pos   \n",
       "1      metaphor provoc often viewer left puzzl mechan...             neg   \n",
       "2      there someth intrins funni sir anthoni hopkin ...             neg   \n",
       "3                     harrow account psycholog breakdown             pos   \n",
       "4      visual seduct unrepentantli trashi rice instal...             pos   \n",
       "...                                                  ...             ...   \n",
       "27741                            movi fail live sum part             neg   \n",
       "27742        balkan provid obstacl cours love good woman             neg   \n",
       "27743  smart movi know classic music know freud know ...             pos   \n",
       "27744  there someth potenti movi decid lavinia conser...             neg   \n",
       "27745  fun littl timewast help especi cool presenc je...             pos   \n",
       "\n",
       "      Answer.sent  \n",
       "0             pos  \n",
       "1             neg  \n",
       "2             pos  \n",
       "3             neg  \n",
       "4             pos  \n",
       "...           ...  \n",
       "27741         neg  \n",
       "27742         neg  \n",
       "27743         pos  \n",
       "27744         neg  \n",
       "27745         pos  \n",
       "\n",
       "[27746 rows x 6 columns]"
      ]
     },
     "execution_count": 95,
     "metadata": {},
     "output_type": "execute_result"
    }
   ],
   "source": [
    "import pandas as pd\n",
    "df = pd.read_csv(\"./sentiment_polarity/mturk_answers.csv\") \n",
    "df\n"
   ]
  },
  {
   "cell_type": "code",
   "execution_count": 96,
   "metadata": {},
   "outputs": [],
   "source": [
    "df['Input.true_sent'] = df['Input.true_sent'].map({'pos': 1, 'neg': 0})\n",
    "df['Answer.sent'] = df['Answer.sent'].map({'pos': 1, 'neg': 0})\n",
    "df.drop(['WorkerId'], axis=1, inplace=True )"
   ]
  },
  {
   "cell_type": "code",
   "execution_count": 97,
   "metadata": {},
   "outputs": [
    {
     "data": {
      "text/html": [
       "<div>\n",
       "<style scoped>\n",
       "    .dataframe tbody tr th:only-of-type {\n",
       "        vertical-align: middle;\n",
       "    }\n",
       "\n",
       "    .dataframe tbody tr th {\n",
       "        vertical-align: top;\n",
       "    }\n",
       "\n",
       "    .dataframe thead th {\n",
       "        text-align: right;\n",
       "    }\n",
       "</style>\n",
       "<table border=\"1\" class=\"dataframe\">\n",
       "  <thead>\n",
       "    <tr style=\"text-align: right;\">\n",
       "      <th></th>\n",
       "      <th>Input.id</th>\n",
       "      <th>Input.original_sentence</th>\n",
       "      <th>Input.stemmed_sent</th>\n",
       "      <th>Input.true_sent</th>\n",
       "      <th>Answer.sent</th>\n",
       "    </tr>\n",
       "  </thead>\n",
       "  <tbody>\n",
       "    <tr>\n",
       "      <td>0</td>\n",
       "      <td>4518</td>\n",
       "      <td>the cast is phenomenal , especially the women .</td>\n",
       "      <td>cast phenomen especi women</td>\n",
       "      <td>1</td>\n",
       "      <td>1</td>\n",
       "    </tr>\n",
       "    <tr>\n",
       "      <td>1</td>\n",
       "      <td>10415</td>\n",
       "      <td>the metaphors are provocative , but too often ...</td>\n",
       "      <td>metaphor provoc often viewer left puzzl mechan...</td>\n",
       "      <td>0</td>\n",
       "      <td>0</td>\n",
       "    </tr>\n",
       "    <tr>\n",
       "      <td>2</td>\n",
       "      <td>7098</td>\n",
       "      <td>while there's something intrinsically funny ab...</td>\n",
       "      <td>there someth intrins funni sir anthoni hopkin ...</td>\n",
       "      <td>0</td>\n",
       "      <td>1</td>\n",
       "    </tr>\n",
       "    <tr>\n",
       "      <td>3</td>\n",
       "      <td>4396</td>\n",
       "      <td>a harrowing account of a psychological breakdo...</td>\n",
       "      <td>harrow account psycholog breakdown</td>\n",
       "      <td>1</td>\n",
       "      <td>0</td>\n",
       "    </tr>\n",
       "    <tr>\n",
       "      <td>4</td>\n",
       "      <td>2812</td>\n",
       "      <td>. . . a visually seductive , unrepentantly tr...</td>\n",
       "      <td>visual seduct unrepentantli trashi rice instal...</td>\n",
       "      <td>1</td>\n",
       "      <td>1</td>\n",
       "    </tr>\n",
       "    <tr>\n",
       "      <td>...</td>\n",
       "      <td>...</td>\n",
       "      <td>...</td>\n",
       "      <td>...</td>\n",
       "      <td>...</td>\n",
       "      <td>...</td>\n",
       "    </tr>\n",
       "    <tr>\n",
       "      <td>27741</td>\n",
       "      <td>7144</td>\n",
       "      <td>the movie fails to live up to the sum of its p...</td>\n",
       "      <td>movi fail live sum part</td>\n",
       "      <td>0</td>\n",
       "      <td>0</td>\n",
       "    </tr>\n",
       "    <tr>\n",
       "      <td>27742</td>\n",
       "      <td>8293</td>\n",
       "      <td>the balkans provide the obstacle course for th...</td>\n",
       "      <td>balkan provid obstacl cours love good woman</td>\n",
       "      <td>0</td>\n",
       "      <td>0</td>\n",
       "    </tr>\n",
       "    <tr>\n",
       "      <td>27743</td>\n",
       "      <td>2929</td>\n",
       "      <td>this is a smart movie that knows its classical...</td>\n",
       "      <td>smart movi know classic music know freud know ...</td>\n",
       "      <td>1</td>\n",
       "      <td>1</td>\n",
       "    </tr>\n",
       "    <tr>\n",
       "      <td>27744</td>\n",
       "      <td>6902</td>\n",
       "      <td>there's something with potential here , but th...</td>\n",
       "      <td>there someth potenti movi decid lavinia conser...</td>\n",
       "      <td>0</td>\n",
       "      <td>0</td>\n",
       "    </tr>\n",
       "    <tr>\n",
       "      <td>27745</td>\n",
       "      <td>1369</td>\n",
       "      <td>. . . a fun little timewaster , helped especi...</td>\n",
       "      <td>fun littl timewast help especi cool presenc je...</td>\n",
       "      <td>1</td>\n",
       "      <td>1</td>\n",
       "    </tr>\n",
       "  </tbody>\n",
       "</table>\n",
       "<p>27746 rows × 5 columns</p>\n",
       "</div>"
      ],
      "text/plain": [
       "       Input.id                            Input.original_sentence  \\\n",
       "0          4518   the cast is phenomenal , especially the women .    \n",
       "1         10415  the metaphors are provocative , but too often ...   \n",
       "2          7098  while there's something intrinsically funny ab...   \n",
       "3          4396  a harrowing account of a psychological breakdo...   \n",
       "4          2812   . . . a visually seductive , unrepentantly tr...   \n",
       "...         ...                                                ...   \n",
       "27741      7144  the movie fails to live up to the sum of its p...   \n",
       "27742      8293  the balkans provide the obstacle course for th...   \n",
       "27743      2929  this is a smart movie that knows its classical...   \n",
       "27744      6902  there's something with potential here , but th...   \n",
       "27745      1369   . . . a fun little timewaster , helped especi...   \n",
       "\n",
       "                                      Input.stemmed_sent  Input.true_sent  \\\n",
       "0                             cast phenomen especi women                1   \n",
       "1      metaphor provoc often viewer left puzzl mechan...                0   \n",
       "2      there someth intrins funni sir anthoni hopkin ...                0   \n",
       "3                     harrow account psycholog breakdown                1   \n",
       "4      visual seduct unrepentantli trashi rice instal...                1   \n",
       "...                                                  ...              ...   \n",
       "27741                            movi fail live sum part                0   \n",
       "27742        balkan provid obstacl cours love good woman                0   \n",
       "27743  smart movi know classic music know freud know ...                1   \n",
       "27744  there someth potenti movi decid lavinia conser...                0   \n",
       "27745  fun littl timewast help especi cool presenc je...                1   \n",
       "\n",
       "       Answer.sent  \n",
       "0                1  \n",
       "1                0  \n",
       "2                1  \n",
       "3                0  \n",
       "4                1  \n",
       "...            ...  \n",
       "27741            0  \n",
       "27742            0  \n",
       "27743            1  \n",
       "27744            0  \n",
       "27745            1  \n",
       "\n",
       "[27746 rows x 5 columns]"
      ]
     },
     "execution_count": 97,
     "metadata": {},
     "output_type": "execute_result"
    }
   ],
   "source": [
    "df\n"
   ]
  },
  {
   "cell_type": "code",
   "execution_count": 98,
   "metadata": {},
   "outputs": [],
   "source": [
    "from sklearn.model_selection import train_test_split\n",
    "df_train_text = df[\"Input.stemmed_sent\"]\n",
    "labels_train = df[\"Answer.sent\"]\n",
    "\n",
    "df_train_text, df_val_text, labels_train, labels_val  = train_test_split(df_train_text, labels_train, test_size=0.2, random_state=0)"
   ]
  },
  {
   "cell_type": "code",
   "execution_count": 99,
   "metadata": {},
   "outputs": [
    {
     "name": "stdout",
     "output_type": "stream",
     "text": [
      "22196\n",
      "5550\n",
      "22196\n",
      "5550\n",
      "cast phenomen especi women\n"
     ]
    }
   ],
   "source": [
    "print(len(df_train_text))\n",
    "print(len(df_val_text))\n",
    "print(len(labels_train))\n",
    "print(len(labels_val))\n",
    "print(df_train_text[0])"
   ]
  },
  {
   "cell_type": "code",
   "execution_count": 100,
   "metadata": {
    "scrolled": true
   },
   "outputs": [
    {
     "data": {
      "text/plain": [
       "array([-1.7404e-02, -2.0478e-01,  2.0588e-01, -7.0793e-01, -1.5286e-01,\n",
       "        2.4270e-01, -7.5697e-02, -1.2496e-01,  1.3033e-03, -4.9175e-01,\n",
       "        1.9552e-01,  4.2761e-03, -3.3540e-02, -9.2864e-02,  1.1399e-01,\n",
       "       -3.9060e-01, -2.7611e-01,  1.0310e-02,  1.2627e-01,  3.1328e-01,\n",
       "        2.4073e-01, -2.9639e-02,  6.6433e-02,  3.6114e-01,  5.3779e-01,\n",
       "        3.7364e-01,  1.2732e-01,  7.2566e-02,  1.4145e-01,  2.1826e-01,\n",
       "        2.2366e-01,  2.5585e-01, -3.0233e-01,  2.5767e-01, -1.1179e+00,\n",
       "        1.0967e-01, -8.7850e-02,  5.2202e-01,  6.3046e-01,  1.2600e-01,\n",
       "       -2.4152e-01, -5.2006e-01,  3.4046e-01, -5.4086e-02, -4.5744e-02,\n",
       "        1.8018e-01, -2.2397e-01, -5.0609e-01,  1.8541e-01, -9.8114e-02,\n",
       "        1.4950e-01, -9.6237e-03, -1.8112e-01,  2.1907e-01,  3.4596e-01,\n",
       "       -2.6661e-01,  3.9594e-02,  1.1706e-01,  4.7256e-01, -1.7204e-01,\n",
       "       -1.7417e-01,  3.8725e-01,  8.8743e-02,  1.4742e-01,  5.0680e-01,\n",
       "       -5.3754e-01,  4.0911e-01,  8.3474e-02, -8.9135e-03, -1.5971e-01,\n",
       "        6.9771e-02, -2.5253e-01,  7.0730e-01,  5.8449e-02,  8.7394e-02,\n",
       "        3.8273e-01,  2.4680e-01,  4.8975e-01, -3.5428e-02, -2.5150e-01,\n",
       "       -4.7603e-01, -4.7466e-02,  5.7323e-02,  4.5705e-01,  2.8005e-01,\n",
       "        3.4074e-01,  1.4126e-01,  6.4236e-02,  2.8788e-01,  1.2355e-01,\n",
       "       -1.6744e-01, -6.3051e-01,  2.7155e-01, -5.2197e-01, -2.5283e-01,\n",
       "        5.9396e-02, -2.1184e-01, -2.3917e-01,  1.5244e-02, -4.5069e-01,\n",
       "       -1.7729e-01, -9.5401e-02,  4.3636e-01, -1.1986e-01,  2.4091e-01,\n",
       "        6.8669e-01, -2.1169e-01, -1.5251e-01, -3.6970e-02, -3.8286e-01,\n",
       "        7.0605e-01,  1.8850e-01, -1.1838e-02,  3.5014e-02,  2.7999e-01,\n",
       "        2.2152e-01, -7.2558e-01, -3.8636e-01, -2.2775e-01, -4.9250e-01,\n",
       "       -4.9800e-01,  4.1543e-02,  2.8652e-02,  8.6860e-01,  7.0316e-03,\n",
       "        4.6161e-01,  5.2858e-01,  1.1950e-01, -1.5023e-01, -1.2528e-01,\n",
       "       -5.3945e-01,  6.9337e-02, -3.0055e-01,  4.4821e-01,  2.2784e-01,\n",
       "        7.4836e-02, -4.9536e-01,  2.3354e-01,  2.6610e-01,  8.9535e-02,\n",
       "        1.2529e-01,  2.7954e-01,  6.8829e-02, -2.7933e-01, -4.8527e-01,\n",
       "       -3.5950e-01,  3.8692e-03, -4.2458e-01,  1.5552e-01, -3.8485e-01,\n",
       "        7.3558e-01, -2.4226e-01, -2.9280e-02, -7.0973e-01,  7.4083e-01,\n",
       "        1.4478e-01, -1.0579e-01,  3.6825e-01, -9.6858e-02,  1.9553e-01,\n",
       "        1.9513e-01, -2.8768e-01,  4.9554e-01,  2.1899e-01,  5.6475e-02,\n",
       "        5.8125e-01, -1.2274e-01,  3.0504e-01,  3.7105e-01, -6.3216e-02,\n",
       "        1.3498e-01,  1.0261e-01, -5.2425e-01, -5.4555e-03,  3.9905e-01,\n",
       "       -2.2225e-01, -1.6623e-01,  3.9888e-01, -1.9464e-01, -1.1511e-01,\n",
       "        2.3531e-01,  6.0121e-01,  5.3088e-01, -2.8287e-01, -8.3342e-02,\n",
       "       -2.4063e-01, -2.5937e-01, -1.4757e-01,  3.4341e-02, -3.0544e-01,\n",
       "       -5.8563e-01, -2.5582e-02, -2.1912e-01,  1.6656e-01,  5.9943e-01,\n",
       "        2.8218e-02,  2.5927e-02, -1.8355e-01, -5.5312e-02, -2.7452e-01,\n",
       "        9.4238e-01,  1.1413e-01,  2.5826e-02,  2.8574e-01,  3.4837e-01,\n",
       "        1.2792e-01,  7.1912e-01, -8.3480e-02, -5.2435e-01, -2.2646e-01,\n",
       "        5.8051e-01,  2.2799e-01,  5.9375e-01, -5.1712e-01,  4.1705e-01,\n",
       "       -1.4227e-01,  6.1046e-01,  2.8299e-01,  2.0072e-01,  2.4211e-01,\n",
       "       -7.0226e-01,  9.7903e-02,  2.1225e-01, -2.0998e-01,  3.6650e-02,\n",
       "        5.4531e-01,  3.8645e-01, -5.0548e-01, -8.0076e-01,  2.6207e-02,\n",
       "        4.7691e-02, -2.9686e-01, -3.7640e-01, -5.2862e-01,  1.9316e-01,\n",
       "        3.0276e-01, -2.7515e-01, -9.6209e-02, -3.7102e-01, -3.6226e-01,\n",
       "        4.8297e-01,  2.9239e-01,  3.6231e-02,  5.9033e-01, -2.6631e-01,\n",
       "       -2.9923e-01,  1.4354e-02,  2.2918e-02, -1.2814e-01,  8.5697e-02,\n",
       "        1.7151e-01, -4.2061e-01,  2.0828e-01,  5.0270e-01,  4.9165e-01,\n",
       "       -3.5347e-01,  3.3186e-02, -2.5130e-01,  5.3635e-01,  7.1845e-01,\n",
       "        1.5587e-01,  2.8377e-01,  3.2972e-01,  2.6645e-01,  1.9604e-01,\n",
       "       -3.9981e-02,  3.4031e-01,  1.9285e-02,  2.2799e-01, -9.1133e-03,\n",
       "        1.2406e-01,  2.9041e-01, -1.1234e-01, -7.1950e-02, -3.8149e-01,\n",
       "        1.9287e-03, -1.3263e+00,  1.3591e-01,  9.9047e-02,  3.6006e-01,\n",
       "        4.5526e-01, -1.1359e-01, -5.4988e-01,  1.1509e-01,  2.1777e-02,\n",
       "        5.4636e-01, -1.2550e-01,  5.8706e-01, -7.8754e-02,  1.2532e-01,\n",
       "        2.5738e-02,  2.0128e-01,  5.7336e-01,  2.6039e-01, -2.9709e-01,\n",
       "        1.8537e-01, -4.9142e-01, -4.2244e-01, -5.3475e-01,  3.9137e-01],\n",
       "      dtype=float32)"
      ]
     },
     "execution_count": 100,
     "metadata": {},
     "output_type": "execute_result"
    }
   ],
   "source": [
    "embeddings_index.get(df_train_text[0].split(\" \")[0])"
   ]
  },
  {
   "cell_type": "code",
   "execution_count": 101,
   "metadata": {},
   "outputs": [],
   "source": [
    "from nltk.corpus import stopwords\n",
    "from nltk import WordNetLemmatizer, word_tokenize\n",
    "import re, time\n",
    "def base_word(word):\n",
    "    wordlemmatizer = WordNetLemmatizer()\n",
    "    return wordlemmatizer.lemmatize(word) \n",
    "def word_extractor(text):\n",
    "    commonwords = stopwords.words('english')\n",
    "    text = re.sub(r'([a-z])\\1+', r'\\1\\1',text) #substitute multiple letter by two\n",
    "    words = \"\"\n",
    "    wordtokens = [ base_word(word.lower()) for word in word_tokenize(text) ] # lo separa en diferentes palabras\n",
    "    for word in wordtokens: \n",
    "        if word not in commonwords: #delete stopwords\n",
    "            words+=\" \"+word\n",
    "    return words\n"
   ]
  },
  {
   "cell_type": "code",
   "execution_count": 102,
   "metadata": {},
   "outputs": [],
   "source": [
    "\n",
    "\n",
    "texts_train = [word_extractor(text) for text in df_train_text]\n",
    "texts_val = [word_extractor(text) for text in df_val_text]"
   ]
  },
  {
   "cell_type": "code",
   "execution_count": 103,
   "metadata": {},
   "outputs": [
    {
     "data": {
      "text/plain": [
       "[' steer turn snappi screenplai curl edg clever want hate somehow pull',\n",
       " ' instead hit audienc head moral schrader reli subtl ironi visual devic convei point view',\n",
       " ' come awai film overwhelm hope perhap paradox illumin',\n",
       " ' watchabl point situat dialogu spin hopelessli control carol kane appear screen',\n",
       " ' stylish beautifulli photograph far troubl worth fantasi mix realiti actor plai role add confus',\n",
       " ' creativ come across sketch full length comedi',\n",
       " ' film tone pace almost',\n",
       " ' damon bring proper convict role jason bourn',\n",
       " ' film idea stretch point evapor whole central section big chase seem goal urgenc filler',\n",
       " ' ear split exercis formula crash bash action',\n",
       " ' stuffi full moral ambigu noth shout',\n",
       " ' everyth titl impli standard issu crime drama spat tinseltown assembl line',\n",
       " ' film appeal lot cast juliett binoch sand bring role pale dark beauti characterist warmth',\n",
       " ' tykwer surfac flash isnt poor fit kieslowski lyric pessim complet contradict everyth kieslowski work aspir includ condit art',\n",
       " ' kind inspir overblown enterpris give hollywood sequel bad name',\n",
       " ' memor circuit shot digit video whose tini camera enabl shafer navig space larg small consider aplomb',\n",
       " ' chaiken abli balanc real time rhythm propuls incid',\n",
       " ' labut care handl make materi seem genuin rather pander',\n",
       " ' poster movi mediocr tribut film',\n",
       " ' take talent lifeless movi heinou man live',\n",
       " ' origin gangster sweat bullet worri contract life',\n",
       " ' pacino best year keener marvel',\n",
       " ' stori forgiv littl thin filmmak clumsi rush',\n",
       " ' bang zoom actual pretti funni wrong place',\n",
       " ' perhap clich call film refresh drumlin show level young black manhood funni touch smart complic',\n",
       " ' cain prove hasnt lost touch bring superb perform admittedli middl film',\n",
       " ' antonia assimil newfangl commun film settl becom compuls watchabl guilti pleasur daytim drama sort fashion',\n",
       " ' exclam point seem bit glee youll find dreari mess',\n",
       " ' movi gener plot point degre random usual achiev lotteri draw',\n",
       " ' bad movi nowher near good origin',\n",
       " ' man leav screen film better save privat ryan meant internet short save ryan privat windtalk doesnt beat either',\n",
       " ' secret ballot funni puzzl movi ambigu enough engag oddli move',\n",
       " ' filmmak keep push joke expens charact thing fall apart',\n",
       " ' collaps meager weight',\n",
       " ' movi refresh mind spirit along bodi origin content look style',\n",
       " ' far worst thank topic issu rais perform stewart hardi essenti featur decent full space battl',\n",
       " ' ring worth look dont demand much cheap thrill halloween entertain',\n",
       " ' almost feel movi interest entertain amus',\n",
       " ' interest thoroughli unfaith version carmen',\n",
       " ' wickedli funni visual engross bore movi challeng think wai consum pop cultur',\n",
       " ' fun code talk fly right everyon head',\n",
       " ' hour photo seem disappoint gener littl nuanc perhap escap director mark romanek self consciou scrutini happen final skin',\n",
       " ' brood qualiti ash wednesdai suspens ultim unpredict sterl ensembl cast',\n",
       " ' idea interest screenplai lag badli middl lurch funni comedi unconvinc dramat last minut action strongli reminisc run lola run',\n",
       " ' relentlessli saccharin film clear case preach convert',\n",
       " ' averag scienc fiction film',\n",
       " ' movi dull stretch entir much focu meal prepar igloo construct',\n",
       " ' perform child untrain act honesti digniti break heart',\n",
       " ' mark mr twohi emerg mainstream promis remain undiminish',\n",
       " ' relationship shift director robert j siegel allow charact inhabit world without cleav narr arc',\n",
       " ' lousi john q spit denzel washington fine perform titl role',\n",
       " ' doug liman director bourn direct traffic get nice wintri look locat absorb movi spycraft u damon abil focus sincer',\n",
       " ' quit frankli cant actor talent work mcculloch product look movi turn',\n",
       " ' foremost reason blue crush phenomen water born cinematographi david hen',\n",
       " ' bright intellig humanli funni film',\n",
       " ' movi strain stai light comic side issu despit difficulti deal destruct properti potenti life',\n",
       " ' tobei maguir poster boi geek gener',\n",
       " ' tuck everlast achiev delic balanc romant innoc philosoph depth',\n",
       " ' fish water stori bare stai afloat',\n",
       " ' visual stun rumin love memori histori war art commerc',\n",
       " ' weird reson actor role theyr exactli flatter',\n",
       " ' minut think watch seriou action next though clip pink panther strike sailor moon splice',\n",
       " ' pinochet case sear album remembr surviv suffer',\n",
       " ' walk awai version e hope moist ey',\n",
       " ' film year best',\n",
       " ' demonstr unusu power thought subject filmmak',\n",
       " ' incred number stori holocaust gener think possibl angl exhaust documentarian film emerg yet remark yet shockingli littl known perspect',\n",
       " ' report card doesnt live exalt taglin definit room improv doesnt deserv pas grade curv',\n",
       " ' seem imposs epic four hour indian music cricket game good',\n",
       " ' fun code talk fly right everyon head',\n",
       " ' time changer memor cinema session profound self evalu messag fragil exist absenc spiritu guidanc invad abund mindset',\n",
       " ' although shot littl style skin heartfelt achingli real',\n",
       " ' dont realli care much love stori set struggl simpli ludicr borderlin insult',\n",
       " ' cant rememb last time saw movi want badli protagonist fail',\n",
       " ' color sen stuart littl 2 immedi obviou pleasur count littl movi werent beautifulli shape delic calibr tone',\n",
       " ' spirit visual treat take chanc bold studio standard lack strong narr',\n",
       " ' kind effect creepi scari thriller fixat far corner screen time nerv cant',\n",
       " ' night feel quicki tv special featur film tv special youd bother watch past commerci break',\n",
       " ' chouraqui bring documentari credibl horror kill field barbar ethnic clean',\n",
       " ' ram das fierc grace mould exampl come documentarian overlook pitfal endeavour',\n",
       " ' call wimp cri three time anim sweet film',\n",
       " ' done supernatur thriller keen insight parapsycholog phenomenon soul nuanc griev process',\n",
       " ' littl mind asid score point drag gag',\n",
       " ' farc parodi comedi premis isnt comparison realiti much commentari knowledg film',\n",
       " ' draggin dragon',\n",
       " ' non britnei person surviv screen littl harm done except mayb last 15 minut maudlin school special imagin',\n",
       " ' low rent frame',\n",
       " ' begin film tradit graduat quickli switch someth recycl signific',\n",
       " ' deepli weird charmingli dear',\n",
       " ' dont think laugh loud talk slapstick comedi pretti big problem',\n",
       " ' superior horror flick',\n",
       " ' blanket statement dime store rumin vaniti worri rich sudden wisdom film becom sermon run time',\n",
       " ' got heart right place wilt awhil',\n",
       " ' lead given simpli bland interest',\n",
       " ' almost spectacular coastal set distract slightli eccentr good naturedli aimless stori',\n",
       " ' nice serv examin societi transit',\n",
       " ' tour de forc modern cinema',\n",
       " ' movi amateurish minor treat',\n",
       " ' celebr quirki eccentr certain individu tendenc let hang damn consequ',\n",
       " ' almost plai solari gun joke',\n",
       " ' incred heavi hand manipul dud feel familiar',\n",
       " ' wherea oliv stone conspiraci thriller jfk intric star stud visual flashi interview assassin draw consider power simplic',\n",
       " ' movi work right final scene cave',\n",
       " ' metaphor modern dai urban china search ident',\n",
       " ' satisfi cant tell differ good bad ugli',\n",
       " ' expect littl human littl product',\n",
       " ' lampoon moviemak process shine particularli flatter spotlight america skin deep notion pulchritud',\n",
       " ' hill learn trick trick alon enough salvag lifeless box film',\n",
       " ' case recommend big bad love winger fan miss forget pari id recommend wait dvd skip straight scene',\n",
       " ' complet aw iranian drama much fun grouchi ayatollah cold mosqu',\n",
       " ' enough watch huppert scheme small intellig ey steadi noir villain enjoi perfectli pitch web tension chabrol spin',\n",
       " ' contriv awkward fill unintend laugh film show sign someon director got edit room tri improv thing make movi faster',\n",
       " ' given much time consid loo piec pictur begin resembl shapeless grasp actor workshop',\n",
       " ' ugli duckl tale hideous clumsili told feel accident',\n",
       " ' journei random inconclus compel hoffman brillianc almost make worth take',\n",
       " ' charm revolut rather introduc fervent held idea fanci thinker',\n",
       " ' airless prepackag julia robert wannab stink badli hard sell imag monger youll wonder lopez publicist share screenwrit credit',\n",
       " ' though film scenario certainli earthshak depict fluctuat femal sexual two win lead perform charm spare',\n",
       " ' script vincent r nebrida tri cram ingredi small pot',\n",
       " ' bold subvers film cut across grain popular power tech ag speak truth spellbind imageri entranc music philip glass',\n",
       " ' local kick spot cleveland site rest world enjoi fast pace comedi quirk award win coen brother enviou',\n",
       " ' director nanci savoca frill record show forg raw emot captur unsettl tenor post 9 11 period far better measur polish product',\n",
       " ' labut care handl make materi seem genuin rather pander',\n",
       " ' tend remind realli solid woodi allen film excel u york local sharp write',\n",
       " ' montia pump lot energi nice nuanc narr surround cast quirki stereotyp street charact',\n",
       " ' oscar wild masterpiec import earnest best plai 19th centuri good relentless polish wit withstand inept school product oliv parker movi adapt',\n",
       " ' brace unblink work serv pain elegi sober cautionari tale',\n",
       " ' neither funniest film eddi murphi robert de niro showtim nevertheless effici amus good collaps exactli kind buddi cop comedi set lampoon anywai',\n",
       " ' three excel princip singer youth good look diva tenor richli handsom locat enough wish jacquot left enough alon film opera without distort perspect',\n",
       " ' compel documentari yiddish theater clan',\n",
       " ' scoobi doo sure everyth fan hope sen movi deserv recommend',\n",
       " ' fridai next problem next fridai call chri tucker need',\n",
       " ' flashi pretenti impenetr morvern thick work class scottish accent',\n",
       " ' intellig move',\n",
       " ' credit given harland william michael rosenbaum barri watson inject far good natur spirit talent project deserv',\n",
       " ' dogtown z boi evok blith rebel fantasi kind insouci embed sexi demis jame dean',\n",
       " ' austin power part extrem funni part make flaw come later',\n",
       " ' movi usual imposs stunt scene lean tough enough fit modern action movi',\n",
       " ' id rather watch rerun powerpuff girl',\n",
       " ' concert footag stir record session intrigu strike blow artist integr qualiti band pick admir',\n",
       " ' wife plot noth special deliveri matter',\n",
       " ' though shot compos edit score insist dialogu frequent overwrought crude liter film shatter wave',\n",
       " ' glorifi sitcom unfunni',\n",
       " ' caus bite tongu keep laugh ridicul dialog oh conveni plot twist',\n",
       " ' fascin come power huston perform seem larger life yet fragil ivan charact accept new ill quickli find unabl react',\n",
       " ' wit empathi spare waydowntown acknowledg silent scream workadai inertia stop short indulg charact strive solips',\n",
       " ' sushi connoisseur macabr',\n",
       " ' result depress liber bore',\n",
       " ' cant enough libidin young citi dweller try obscen bad dark comedi crass make edward burn sidewalk york look oscar wild',\n",
       " ' exagger enough parodi gross flick colleg flick flick gener mere indulg worst element',\n",
       " ' mock kung fu pictur stapl exploit theater program witti mock exercis pointless',\n",
       " ' determin lighten heavi subject matter silberl certain extent trivial movi nervou gag pratfal',\n",
       " ' throw everyth except someon pull pin grenad teeth windtalk seem ransack world war ii movi overli familiar materi',\n",
       " ' ex marin walter shot kennedi actor raymond j barri perfectli creepi believ',\n",
       " ' neither sappi big daddi anarch happi gilmor waterboi moment',\n",
       " ' maker forsaken entertain element origin instead rehash joke leav life doorstep frank pug though',\n",
       " ' though mama take bit find rhythm third act plot develop somewhat melodramat ribald humor touch nostalgia sure plea anyon search jule jim millennium',\n",
       " ' antwon fisher certainli trick make care protagonist celebr victori except rare stoop cheap manipul corni convent',\n",
       " ' scherfig light heart profil emot desper achingli honest delightfulli cheeki',\n",
       " ' debut film skin man heart beast feel unusu assur',\n",
       " ' windtalk blow mistak filmmak tall grass true',\n",
       " ' movi undon filmmak methodolog experiment enough alien mainstream audienc ring clich harden indi head',\n",
       " ' movi infecti exuber engag anyon pas interest skate surf cultur l beach scene imagin sometim illeg wai kid playground refus adult',\n",
       " ' meant reduc blake philosophi tragic come ag saga punctuat burst anim todd mcfarlan superhero dystopia',\n",
       " ' thing garbag',\n",
       " ' satin roug invent journei encourag three dimension averag middl ag woman experi self discoveri handl sensit',\n",
       " ' ub equal spoof celebr outr aspect black cultur dorkier aspect white cultur point insepar two',\n",
       " ' live testament power eccentr strang fact isnt good almost besid point',\n",
       " ' film soprano gag incred date unfunni demonstr desper maker cash sequel',\n",
       " ' slick engross melodrama',\n",
       " ' demeo without talent need better materi',\n",
       " ' soulless jumbl ineptli assembl clich pabulum plai 95 minut commerci nba properti',\n",
       " ' rich bittersweet isra documentari life song danc man pasachk burstein famili transcend ethnic line',\n",
       " ' quit good provid good fashion spook',\n",
       " ' stori thousand year seem took thousand tell',\n",
       " ' afraid show movi review open afraid bad review thought theyd earn right',\n",
       " ' mantra behind project seem kid flick translat dont need try hard',\n",
       " ' fan tv seri disappoint everyon el slightli bore',\n",
       " ' heavi stench done hang film everyth youd expect noth',\n",
       " ' action sequenc fun reminisc combat scene star war seri',\n",
       " ' entir suspens extrem pace ultim dare entertain',\n",
       " ' film trailer look crap crap expect',\n",
       " ' watch dress rehears week show everyth place someth littl kilter',\n",
       " ' blue crush trap energet extrem sport adventur end creaki pretti woman retread emphasi self empow schmaltz big wave surf give pic titl afterthought',\n",
       " ' mark pellington latest pop thriller kooki overeag spooki subtli love myth',\n",
       " ' 24 look caddyshack adopt gener signpost keep look',\n",
       " ' modern dai charact nowher near vivid 19th centuri',\n",
       " ' stori ultim take hold grip hard',\n",
       " ' appear peopl idea narr logic cohes entir foreign concept',\n",
       " ' blandli went 8 movi ago',\n",
       " ' delight come ag stori',\n",
       " ' deni power polanski film',\n",
       " ' sophomor explor life problem peopl solv ago got tire hear peopl kvetch',\n",
       " ' easier watch video home shouldnt stop die hard french film connoisseur go enjoi big screen experi',\n",
       " ' pile useless action mtv schmuck dont know tell stori four minut',\n",
       " ' dark disturb yet compel watch',\n",
       " ' supposedli base upon real soberli report incid film end larg human tragedi ala get half interest',\n",
       " ' pure participatori event malnourish intellectu gulp frenzi',\n",
       " ' despit quieter middl section involv aragorn dream arwen better fellowship scene cinemat perfect steal heart awai',\n",
       " ' perri good interest charact serv sara hasnt much serv silli fluff romant comedi',\n",
       " ' william absolut nail sy queasi infatu overal strang',\n",
       " ' product enorm amount affect believ charact love',\n",
       " ' tend plod',\n",
       " ' see film lack momentum posit remain mostli undetermin director experi success',\n",
       " ' inspir character peopl diver cultur share human spiritu need',\n",
       " ' modern master chase sequenc return chase end chase',\n",
       " ' seem uselessli redund shamelessli monei grub third rate horror sequel',\n",
       " ' director eli chouraqui co wrote script catch chaotic horror war bother go subjug truth tear jerk demand soap opera',\n",
       " ' candid comfort film deftli balanc action reflect let grasp feel passion work',\n",
       " ' queen damn guess make sorri u aaliyah star role littl point thing explod flame',\n",
       " ' extrem op exce expect good fun good action good act good dialogu good pace good cinematographi',\n",
       " ' sort credibl gender provok philosophi submerg hell care',\n",
       " ' nearli attempt humor doa',\n",
       " ' nonbeliev rethink attitud joi charact creed skeptic arent like enter theater',\n",
       " ' script david koepp perfectli servic give stori soul elev experi mythic level',\n",
       " ' though particular interest student enthusiast intern danc world music film design viewer ag cultur background rhythmic abil want danc',\n",
       " ' dark gritti sometim funni littl gem',\n",
       " ' cry havoc let slip dog chees inde',\n",
       " ' try head tail stori hip hop indi snipe enough give brain strain pai neglig',\n",
       " ' secretari movi fetish movi passion',\n",
       " ' serv sara reach level cruditi latest austin power extravaganza noth match movi intermitt moment inspir',\n",
       " ' walter hill undisput warner bro b pictur mean compliment',\n",
       " ' warner bro costum jive sex movi errol flynn alwai want though bett davi cast joan kill',\n",
       " ' thought visual grace work',\n",
       " ' none happili spangl monsoon wed late marriag part make dover kosashvili outstand featur debut potent',\n",
       " ' chouraqui bring documentari credibl horror kill field barbar ethnic clean',\n",
       " ' satisfi summer blockbust worth look',\n",
       " ' bland pretenti mess',\n",
       " ' part work beautifulli movi without sacrif integr opera',\n",
       " ' compel stori music passion government odd',\n",
       " ' drumlin abli captur complic relationship march band',\n",
       " ' choppi overlong documentari lifestyl',\n",
       " ' sayl knack cast often resurrect perform rare work movi draw flavor perform bland actor',\n",
       " ' apesar de seu grave problema film consegu entret',\n",
       " ' breheni lens zealand cook island locat captur beauti land peopl',\n",
       " ' writer director walter hill co writer david giler try creat charact obviou clich wind u punch bag',\n",
       " ' easili becom cold calcul exercis postmodern pastich wind power deepli move exampl melodramat moviemak',\n",
       " ' sincer craft pictur deserv emerg traffic jam holidai movi',\n",
       " ' uncomfort movi suffoc sometim almost senseless grei zone center though morbid',\n",
       " ' follow dream matter parent think socrat motion hemlock',\n",
       " ' littl grace rifkin tale precari skid row digniti achiev push margin predict plot tiresom histrion',\n",
       " ' make movi comedi avoid seriou emot involv',\n",
       " ' without de niro citi sea slip wave drag singl hand',\n",
       " ' firmli believ good video game movi go show soon believ resid evil',\n",
       " ' nettelbeck craft engag fantasi flavour emot part romanc novel part recip book',\n",
       " ' perform child untrain act honesti digniti break heart',\n",
       " ' shyamalan stop try plea mom',\n",
       " ' schmidt nicholson goofi heartfelt mesmer king lear',\n",
       " ' uncertain tone garbl exercis sexual polit junior varsiti short cut bad thing',\n",
       " ' though rude crude film deliv gut bust laugh dig modern societi thing weve',\n",
       " ' abderrahman sissako heremakono wait happi elegiac portrait transit citi west african coast struggl foreign influenc',\n",
       " ' gener set b grade special effect jason convinc sci fi front tv defunct cleopatra',\n",
       " ' empir cant mind want gangster flick art film doesnt work either',\n",
       " ' though stori surfac deep visual envelop sound blue crush surprisingli decent flick worth summertim look',\n",
       " ' beautifulli natur film tribut woman whose passion region inhabit shine quiet blue ey',\n",
       " ' dare mesmer exceedingli hard forget',\n",
       " ' movi make absolut sen underli mytholog hodgepodg inconsist pose question dumb entertain dumb',\n",
       " ' seduct tea thriller get job done scorcher',\n",
       " ' thank confid filmmak pair fascin perform destin realli special walk wood',\n",
       " ' consum lo mein gener tso chicken bare give thought folk prepar deliv hopefulli film attach human face littl steam carton',\n",
       " ' disjoint mess flow natur joli hideou yellow',\n",
       " ' wickedli funni visual engross bore movi challeng think wai consum pop cultur',\n",
       " ' somehow griffith mr pryce bring wild welsh whimsi',\n",
       " ' paint unabashedli romant pictur nation whose song spring directli live peopl movi exalt marxian dream honest work folk littl show labor live harmoni join song',\n",
       " ' deni power polanski film',\n",
       " ' frantic search laugh hit miss ratio doesnt exactli favour audienc',\n",
       " ' patient love hush reward thought emot movi experi',\n",
       " ' worth salut try complex averag film',\n",
       " ' laugh rare snake foo yung',\n",
       " ' sink usual cafeteria goulash fart joke masturb joke racist japanes joke',\n",
       " ' life crock someth',\n",
       " ' utter mush conceit pap',\n",
       " ' thought provok often funni drama isol',\n",
       " ' green comedi equival saddam hussein im readi u n ask permiss preemptiv strike',\n",
       " ' horrid littl propaganda film fascin connect serb network american right wing extremist',\n",
       " ' film flat line peak miss opportun trifl dark decad truffl',\n",
       " ' balkan provid obstacl cours love good woman',\n",
       " ' reno deliv monologu manag incorpor horror absurd situat balanc fashion',\n",
       " ' human comedi amus interest confirm',\n",
       " ' pretenti mess',\n",
       " ' dong push insight beyond superfici tension dynam dissect film settl easili along contour expect',\n",
       " ' attal push hard comedi seriou drama seem want succe make neither',\n",
       " ' film essenti meet cute',\n",
       " ' anim mere serv predict maudlin stori swipe heavili bambi lion king yet lack emot reson either movi',\n",
       " ' show moment promis ultim succumb clich pat storytel',\n",
       " ' great terribl stori mr nelson film undeni worthi devast experi',\n",
       " ' true tale courag complic auschwitz harrow drama tri tell unspeak',\n",
       " ' graceless witless attempt mate hot wwii espionag thriller',\n",
       " ' thought provok stylish somewhat hermet',\n",
       " ' mess',\n",
       " ' alwai destin measur anthoni asquith acclaim screen adapt',\n",
       " ' coars clich clunki trifl romant comedi opposit attract better reason screenplai demand squander charm star hugh grant sandra bullock',\n",
       " ' lace liber dose dark humor gorgeou exterior photographi stabl full solid perform thing fascin littl tale',\n",
       " ' feel work someon inde final ag past prime perhap realiz want like peopl give work',\n",
       " ' hard seduc witherspoon charisma run mill vehicl girl know drive max',\n",
       " ' thing solid act movi craft someth promis mediocr screenplai',\n",
       " ' tire gag modern extrem sport gener alreadi film',\n",
       " ' bard black comedi willi love',\n",
       " ' wind feel lot quirki movi try score hip point young adult',\n",
       " ' tv style murder mysteri big screen moment includ seem differ film altogeth',\n",
       " ' max poke provok take expressionist licens hit nerv far art concern mission accomplish',\n",
       " ' restrain ribisi convinc italian though movi need actor whini jag pump among rare',\n",
       " ' britnei deliv big screen safe sound 20 year superstar girl travel fame freewai',\n",
       " ' julia plai exasper bland laura regan',\n",
       " ' call side heaven appal underestim danger entertain',\n",
       " ' realli sad two academi award win actress academi award win actor succumb appear junk tv sitcom materi best',\n",
       " ' smug oili demeanor donovan adopt throughout stupidli name pipe dream repuls',\n",
       " ' broomfield remind beneath hype celebr life conspiraci mysteri coupl bright young men promis talent charismat tragic doom',\n",
       " ' comparison earlier film seem disappointingli thin slice lower class london life despit titl amount surprisingli littl',\n",
       " ' ultim feel empti unsatisfi swallow communion wafer without wine',\n",
       " ' smart compel drama',\n",
       " ' maintain appear clinic object sad occasion horrifi often inspir film among wiseman warmest',\n",
       " ' movi start legend end stori far fetch imposs believ werent true stuff disnei movi',\n",
       " ' stuffi full moral ambigu noth shout',\n",
       " ' devoid kind intellig stori make film xx collater damag seem thought treatis',\n",
       " ' movi isnt painfulli bad someth fulli experienc tedious bad someth fulli forgotten',\n",
       " ' tale told retold race racket chang song remain',\n",
       " ' mean inert',\n",
       " ' everyth dont movi',\n",
       " ' showtim starri cast asset detriment trek plex predispos probabl enjoi ticket buyer great expect wind glum mr de niro',\n",
       " ' young hank fisk vagu resembl celebr parent bring fresh good look ea front camera work',\n",
       " ' bad idea gone school special compil place minu daytim program slick sophist knew',\n",
       " ' blade ii brilliant director charismat star suffer rampant vampir devalu',\n",
       " ' whole thing succeed make groggi',\n",
       " ' simplist fluff ball whimsi',\n",
       " ' sensit though quit revelatori documentari',\n",
       " ' undeni move film experi ultim make worth recommend',\n",
       " ' come bad imit bard',\n",
       " ' plenti enjoi small part thank lau',\n",
       " ' isnt sharp origin despit visual virtu blade ii doesnt cut',\n",
       " ' push slow spot youll reward fine act',\n",
       " ' isnt quit equal woo best earlier work easili finest american film come close recaptur brillianc hong kong film',\n",
       " ' good practic hollywood suit try togeth cast filmmak team inevit american remak',\n",
       " ' narc menac atmospher',\n",
       " ' film ooz craft',\n",
       " ' heaven bad movi deuc wild',\n",
       " ' leer offer next littl insight intrigu subject',\n",
       " ' compendium solondz worst instinct 90 minut',\n",
       " ' film ooz craft',\n",
       " ' late marriag face famili drama black comedi fill raw emot convei despair love',\n",
       " ' wonder combin sweet extraordinari technic accomplish film maintain overal impact fall littl flat storylin quit deliv origin magic',\n",
       " ' harrow account psycholog breakdown',\n",
       " ' time end rush sequin flashbulb blare brass stab babe plenti show busi infiltr corner societi alwai better',\n",
       " ' chill tale great crime 20th centuri franc murder two rich woman servant',\n",
       " ' exhilar blatantli bias',\n",
       " ' soft drink sit open much syrup enough fizz',\n",
       " ' kouri frighteningli honestli expo teenag uncomfort class resent turn self inflict retali',\n",
       " ' jackson bledel seem pick act chop look appeal pre teen crowd',\n",
       " ' topkapi',\n",
       " ' bring awar issu often overlook woman depress',\n",
       " ' dragonfli atmospher tension noth costner flail awai buggi drag',\n",
       " ' movi isnt hilari witti invent hindsight isnt dumb',\n",
       " ' film enrich imagin mix cast antic spirit head christoph plummer subtlest complexli evil uncl ralph iv film stage adapt work',\n",
       " ' cleti play highli studi depend success patient viewer',\n",
       " ' act intent snoozer',\n",
       " ' paint backdrop movi aliv charact know troubl',\n",
       " ' histrion muse elud madonna plai charmless witch mere charmless witch',\n",
       " ' turn smarter diabol guess begin',\n",
       " ' peralta mythmak u inform adult hindsight',\n",
       " ' asian neo realist treasur',\n",
       " ' let face arent reason anyon want crossroad theyr big fan teen pop kitten britnei spear',\n",
       " ' cruel inhuman cinemat punish simultan degrad charact star audienc',\n",
       " ' forewarn depress anyth watch film end try drown lake afterward',\n",
       " ' michel brainless flibbertigibbet hard spiritu quest serious',\n",
       " ' showgirl glitter entertain moment unintent',\n",
       " ' formula 51 trite yu energi action style cant break stupor',\n",
       " ' tasti appet leav want',\n",
       " ' time reach final like wonder youv watch strut postur',\n",
       " ' univers theme becom better person love film irresist baran',\n",
       " ' fill low brow humor gratuit violenc disturb disregard life',\n",
       " ' asylum materi grip scene jia famili',\n",
       " ' due stodgi soap opera ish dialogu rest cast come across stick figur read line teleprompt',\n",
       " ' unlik uninterest unfunni complet utterli inept',\n",
       " ' film darkli atmospher herrmann quietli suggest sad ob beneath hearst forc avuncular chortl',\n",
       " ' grant bumbl magic take film turn win star vehicl',\n",
       " ' authent time endear humor spooki educ time bland block snow',\n",
       " ' make barbershop likabl flaw none pushi decibel volum contemporari comedi',\n",
       " ' showtim fine look film bounci score clutch live song deft punctuat',\n",
       " ' chaiken abli balanc real time rhythm propuls incid',\n",
       " ' rugrat movi wild thornberri movi doesnt offer much seri emphasi care anim respect cultur particularli welcom',\n",
       " ' histori fascin action dazzl dont work concert',\n",
       " ' present good case fail provid reason care beyond basic dictum human decenc',\n",
       " ' return land shameless attempt disnei rake dough babi boomer famili half bad',\n",
       " ' spontan chateau sen light hearted make attract throughout',\n",
       " ' tediou norwegian offer somehow snag oscar nomin',\n",
       " ' entertain ultim minor thriller',\n",
       " ' warm wise deftli set uproari humor underli serious sneak viewer provid experi richer anticip',\n",
       " ' movi infecti exuber engag anyon pas interest skate surf cultur l beach scene imagin sometim illeg wai kid playground refus adult',\n",
       " ' movi held captiv mediocr bad good bacon keep thing interest dont pai full price',\n",
       " ' action unusu tame charact simplist maintain interest plot offer surpris',\n",
       " ' real triumph igbi come philipp make oliv far interest charact line suggest sarandon couldnt better cruel weirdli likabl wasp matron',\n",
       " ' suspect craven endors simpli movi make look much better comparison',\n",
       " ' seem base ugli idea instead ugli behavior happi henc storytel far appeal',\n",
       " ' film idea stretch point evapor whole central section big chase seem goal urgenc filler',\n",
       " ' russo gui lookin mamet instead found sturg',\n",
       " ' sure hate morn hate morn moonlight mile better judgment damn',\n",
       " ' melodrama emotion engross thank strong credibl perform whole cast',\n",
       " ' beauti imag solemn word disguis slack complac godard vision gorgeou piano string soundtrack drown tinni self righteous voic',\n",
       " ' black austin power prefer think pooti tang budget sa da tai',\n",
       " ' bean drop ball time hope nifti premis creat enough interest unfocus screenplai',\n",
       " ' overli melodramat somewhat insight french come ag film',\n",
       " ' intend comedi relationship wretch work fall flat conceiv area',\n",
       " ' best year select',\n",
       " ' build robot haul em theatr late show mysteri scienc theatr tribut almost certainli go worst killer websit movi year',\n",
       " ' emperor club film posse good intent world',\n",
       " ' greatest famili orient fantasi adventur movi',\n",
       " ' cheap slasher flick subject matter suggest littl natur film show patient predat foolish prei',\n",
       " ' jackass jackass',\n",
       " ' connect stori breitbart hanussen actual fascin filmmak invinc movi justic',\n",
       " ' life size reenact jack chick cartoon tract alwai end hippi get toss lake fire',\n",
       " ' steal harvard doesnt care clever wit kind intellig humor',\n",
       " ' need impressionist cinematographi exhilar point view shot fewer slow motion grandeur shot quick cut edit often detract athletic',\n",
       " ' though fan assuredli funni bone tickl find humor seek dollar best spent elsewher',\n",
       " ' movi blast educ energi bounci anim catchi song escort entir 85 minut',\n",
       " ' simultan heartbreakingli beauti exquisit sad',\n",
       " ' bit themat meat bone queen damn origin ann rice novel dictat gener movi emphas style charact substanc',\n",
       " ' yet arnold vehicl fail adequ u particular talent',\n",
       " ' lani profession success mean failur life driven ambit doesnt know fun',\n",
       " ' rate e effort b bore',\n",
       " ' cho face amaz slapstick instrument creat scrapbook live mug shot',\n",
       " ' open funer end protagonist death bed doesnt much liveli three hour',\n",
       " ' rock stand magic wane hopkin squar fill screen action mechan',\n",
       " ' sound arnold schwarzenegg physiqu match ahola wooden deliveri encount substanti arc chang doesnt produc real transform',\n",
       " ' extraordinarili silli thriller',\n",
       " ' although sequel outward element origin film love flaki gone replac forc funni found dullest kiddi flick',\n",
       " ' deliri funni fast loo access uniniti full surpris',\n",
       " ' thought provok stylish somewhat hermet',\n",
       " ' movi 11 year boi sport dream preteen girl worship lil bow wow',\n",
       " ' k 19 widowmak deriv overlong bombast yet surprisingli entertain',\n",
       " ' verdict two bodi hardli laugh',\n",
       " ' altogeth success film time touch reconsider familiar masterpiec',\n",
       " ' almost spectacular coastal set distract slightli eccentr good naturedli aimless stori',\n",
       " ' home movi film equival lovingli render coffe tabl book',\n",
       " ' sometim charm sometim infuri argentinean dramedi succe mainli shoulder actor',\n",
       " ' beautifulli film act admittedli problemat narr specif',\n",
       " ' unfunni comedi lot static set much camera movement scene place indoor formal set motionless charact',\n",
       " ' entir memor movi certainli easi watch',\n",
       " ' mr parker brilliantli updat sourc grasp essenc compos sorrow hilari tone poem alien labor absurdist workplac sitcom',\n",
       " ' last three narcissist left earth compet affect',\n",
       " ' gross gag color set piec cours stultifyingli contriv styliz half get job done sleepi rental',\n",
       " ' davi funni charm quirki featur film act debut ami',\n",
       " ' beauti cold oddli color plain otherworldli freaki bit art scare delight imag',\n",
       " ' weakest four harri potter book transform stronger two film thinnest margin',\n",
       " ' overal effect child movi recruit film futur hollywood sellout',\n",
       " ' movi amateurish minor treat',\n",
       " ' air surprisingli juvenil lark pop influenc prank whose charm immedi appar wear thin repetit',\n",
       " ' digg lathan among chief reason brown sugar sweet sexi film',\n",
       " ' charact establish gang feel comfort take insan liberti goofiest stuff left field im',\n",
       " ' simultan heart break funni last kiss realli perform',\n",
       " ' budget affair expo gener sad exist bedouin provid preciou twinkl insight live',\n",
       " ' moment ultim curmudgeon doesnt quit cut place list favorit',\n",
       " ' premis soo tire pair realli poor comed write youv got huge mess',\n",
       " ' often cute film either need substanc fill time judici edit',\n",
       " ' far clever half howard film realli seri strung togeth moment space fill fantasi daydream memori fantast visual trope',\n",
       " ' movi 11 year boi sport dream preteen girl worship lil bow wow',\n",
       " ' thing world need movi colleg written direct peopl couldnt pas entranc exam',\n",
       " ' uncertain start murder hit gener sustain higher plateau bullock memor interrog gosl',\n",
       " ' remark achiv film shanghai place serv jew escap holocaust',\n",
       " ' death smoochi often funni remark integr devito misanthrop vision',\n",
       " ' manag delight without much stori',\n",
       " ' duti enchant terribl episod lack spark imagin exhilar treat',\n",
       " ' film start promisingli end predict far clich realli work',\n",
       " ' move import film',\n",
       " ' perhap annoi thing cleti tout crime movi someon obvious know noth crime',\n",
       " ' gift pearc hand keep thing semi stabl ground dramat retool machin ultim effect enough achiev modest crowd plea goal set',\n",
       " ' full bland hotel highwai park lot glimps natur famili warmth time discreet moan despair entrap maze modern life',\n",
       " ' disturb frighteningli evoc assembl imageri hypnot music compos philip glass',\n",
       " ' get bog overli sillifi plot stop start pace',\n",
       " ' charm romant comedi far lightest dogm film among enjoy',\n",
       " ' sound trumpet time desper seek susan madonna doesnt suck actress',\n",
       " ' histor drama fuse love triangl worn conceit film lack passion requir sell materi',\n",
       " ' certainli entertain ride despit talki slow scene someth seem miss sen real magic perhap',\n",
       " ' fatal attract vile enough realli need tiger beat version',\n",
       " ' charm laugh fun reason watch',\n",
       " ' offer breath fresh air true sophist',\n",
       " ' cast deliv without sham raw nerv stori',\n",
       " ' interview assassin structur documentari found relic film difficult time shake blair witch project real time root',\n",
       " ' post 9 11 philosoph messag person freedom palat intend',\n",
       " ' extrem bad',\n",
       " ' scene scene thing happen youd hard press',\n",
       " ' sit last reel spoiler alert significantli charm listen four year tast exagger recount halloween trip haunt hous',\n",
       " ' unabashedli schmaltzi thoroughli enjoy true stori',\n",
       " ' plai diseas week small screen melodrama',\n",
       " ' best funni sequenc look leonard remind comic subvers silenc',\n",
       " ' good ol urban legend stuff',\n",
       " ' rumor angel reveal sudsi tub supernatur hokum redgrav noblest effort redeem hopeless sentiment',\n",
       " ' occasion funni consist odd work reason star vehicl zhao',\n",
       " ' vile incoher mess scummi ripoff david cronenberg brilliant videodrom',\n",
       " ' littl mount histori lesson',\n",
       " ' manag plea intend audienc child without place parent coma state',\n",
       " ' hu liu offer natur matter fact perform glint sorrow long love',\n",
       " ' infuri full frontal close real life sen invigor doesnt give damn',\n",
       " ' craft letdown',\n",
       " ' squander opportun absurdist observ burn get caught rush slapstick thoroughfar',\n",
       " ' earnest tent aim shock',\n",
       " ' dazzl fulli written charact determin stylish alwai relat charact stori johnni dankworth best soundtrack year',\n",
       " ' miser excus movi run empti believ flatbush machismo',\n",
       " ' anyon much think central stori brendan behan bisexu sweetheart took drink',\n",
       " ' almost spectacular coastal set distract slightli eccentr good naturedli aimless stori',\n",
       " ' crime miscast nearli lead charact',\n",
       " ' neither protagonist distinguish condit hardli matter actori concoct defin childlik dim hand quirk',\n",
       " ' movi mix cornpon cosa nostra find nice rhythm',\n",
       " ' bear bad terribl filmmak bad nightmar come true bad',\n",
       " ' film laundri list minor shortcom numer scene gori mayhem worth price admiss gori mayhem idea good time',\n",
       " ' gosl provid amaz perform dwarf everyth el film',\n",
       " ' culkin virtual scene shine young man u sarcast li shield',\n",
       " ' mildli sentiment unabashedli consumerist studious inoffens complet dispos',\n",
       " ' crafti energet smart kid sort fourteen year ferri bueller',\n",
       " ' band courag face offici repress inspir especi ag hippi includ',\n",
       " ' articul player skateboard toni hawk bmx rider mat hoffman half dozen young turk angl time work word radic suck sentenc',\n",
       " ' best grow strain dare film argu sexual relationship doesnt hurt anyon work particip relationship worthi respect',\n",
       " ' rare window artist collabor',\n",
       " ' film offer intrigu premis',\n",
       " ' plod teen remak mechan smell greas plot twist',\n",
       " ' sayl strand superb perform stori',\n",
       " ' none suaviti classic familiar bond much good laugh problem xx action isnt effect',\n",
       " ' charact deepli thought right think film',\n",
       " ' horribl 99 minut stink bomb',\n",
       " ' massoud stori epic tragedi record tenaci human fighter prison ultim victim histori',\n",
       " ' unfortun experi actual watch movi compel circumst make',\n",
       " ' terrif b movi fact best recent memori',\n",
       " ' stale uninspir',\n",
       " ' wait happi bad film isnt incred dull',\n",
       " ' uncomfort movi suffoc sometim almost senseless grei zone center though morbid',\n",
       " ' scriptwrit menac societi film charact',\n",
       " ' thing swept awai hour thirti three minut spent watch wast time',\n",
       " ' moviego anxiou strang young gui strang gui thing',\n",
       " ' often son bride becom exercis try predict preordain big moment occur',\n",
       " ' wonderfulli warm human drama remain vividli memori view',\n",
       " ' ultim feel empti unsatisfi swallow communion wafer without wine',\n",
       " ' movi fan cant stop love anim fanat excess built',\n",
       " ' episod ii attack clone technolog exercis lack juic delight',\n",
       " ' director jai russel weigh caprici fairi tale heavi sentiment lightweight mean',\n",
       " ' ultim movi headi child preachi adult',\n",
       " ' strang compel brilliantli act psycholog drama',\n",
       " ' green comedi equival saddam hussein im readi u n ask permiss preemptiv strike',\n",
       " ' begin end overh melodrama plai student film',\n",
       " ' nelson screenplai need seriou work show dilemma rather charact stage shout match',\n",
       " ' soderbergh kubrick touch planet skin understand work spirit',\n",
       " ' zoe clark williams lacklust thriller best friend need enemi gener drama noth go exploit arrai obligatori cheap thrill',\n",
       " ' pictur whose promis rather preciou premis undercut amateurish execut',\n",
       " ' move vibrant',\n",
       " ' charmless nonsens ensu amid clang film refer jai silent bob excel adventur seem underst',\n",
       " ' earnest roughshod document serv workabl primer region recent histori terrif 10th grade learn tool',\n",
       " ' movi sure profan polit charg music ear cho fan',\n",
       " ' imagin toni hawk skate video interspl footag behind enemi line set jersei shore techno',\n",
       " ' make pretti unpleas view experi',\n",
       " ' intrigu downright intox',\n",
       " ' admit egomaniac evan hollywood villain yet grate showcas almost make wish hed gone simpson',\n",
       " ' young hank fisk vagu resembl celebr parent bring fresh good look ea front camera work',\n",
       " ' plot romant comedi boilerpl start finish',\n",
       " ' far best seri assur wonderfulli respect past thrill enough abundantli clear movi phenomenon reinvent gener',\n",
       " ' build slowli subtli film sport breezi spontan realist drawn character develop signific charact studi move wise',\n",
       " ' gosl combin explos physic energi convinc intellig help creat complex unpredict charact',\n",
       " ' e work flabbergast princip 14 year robert macnaughton 6 year drew barrymor 10 year henri thoma convinc exist wise wizen visitor farawai planet',\n",
       " ' although viewer abl stomach much tongu cheek weird found cult favorit enjoi lifetim',\n",
       " ' scorses best make gangster film equal love relentlessli brutal brutal intellig perdit meanwhil read drive miss daisi goodfella',\n",
       " ' plotlin lumpi two dai porridg filmmak paw sad un bear abl project',\n",
       " ' burnt wonder life marathon bore christma carol movi look depend flatul gag fit holidai concept',\n",
       " ' film didnt move honest effort want flick telemarket due',\n",
       " ' averag b movi aspir anyth',\n",
       " ' analyz prove realli movi worth decent gag glean premis',\n",
       " ' chaotic self indulg remark ugli look seri pretenti aw student film strung togeth featur length horror',\n",
       " ' movi suck',\n",
       " ' stori structur hone fresnadillo dark jolt imag ply subconsci nightmar week ago wont awai',\n",
       " ' bubba ho tep wonder film bravura lead perform bruce campbel doesnt deserv leav build everyon awar',\n",
       " ' work magic exuber passion film length becom part fun',\n",
       " ' anyon suffer martinet music instructor doubt fantas unhappi repress twist person life tormentor deserv peopl realli go love piano teacher',\n",
       " ' rifkin refer impecc throughout',\n",
       " ' schneider mug relentless constant need suddenli transpos charact undermin stori continu progress',\n",
       " ' almost noth el raunchi graphic present side outwardli sexist mean spirit sen liabil',\n",
       " ' much credit given water camera oper team king sonni miller michael stewart work fantast',\n",
       " ' suggest wide rang effect medium manipul kind report done supposedli liber medium intim ultim tragic heartach maverick individu hatfield hick',\n",
       " ' sinist inspir fuell devito earli work confus death smoochi someth ugli mindless',\n",
       " ' gantz interview tend let gui hook',\n",
       " ' pumpkin want wai',\n",
       " ' mark wahlberg look classi 60 homag pokepi hat charact dry dry dry',\n",
       " ' pianist polanski best film',\n",
       " ' hour delic craft film impress achiev spite river sad pour frame',\n",
       " ' feel dim certain ambit place sweet clariti emot open recal classic earli italian neoreal',\n",
       " ' movi tri ether end seem goofi',\n",
       " ' rip twice remov model seagal earlier copycat sieg sometim refer die hard boat',\n",
       " ' fashion drama substanc teacher slide slipperi slope dishonesti encount rich power noth disdain virtu',\n",
       " ' hardli nuanc portrait young woman breakdown film nevertheless work scare',\n",
       " ' recogn zeu dog snatch wish home watch movi instead theater watch',\n",
       " ' 4ever sledgehamm appeal pokemon video breath big screen induc headach slowli',\n",
       " ' steal harvard aspir comed grand larceni stand convict noth petti theft time',\n",
       " ' movi got grin part help entertain sight someon get awai someth',\n",
       " ' s1m0ne satir subtl effect quirki beat project',\n",
       " ' best anim featur hit theater beauti beast 11 year ago',\n",
       " ' movi resolut avoid comic possibl situat becom dumb school comedi sex gag prom date',\n",
       " ' mama africa pretti much deliv promis give peek main problem peek',\n",
       " ' awkward indigest movi',\n",
       " ' screen fantasi adventur recent memori showmanship clone last 45 minut',\n",
       " ' snipe snore utter tripe',\n",
       " ' director shekhar kapur screenwrit michael schiffer hossein amini tri hard modern reconceptu thing barrier final prove great',\n",
       " ' unlik directori effort la femm nikita profession transport lack besson perspect storytel',\n",
       " ' bore parad talk head technic gibberish littl advanc linux caus',\n",
       " ' filmmak plai big boi york l end mock kind folk dont understand figur power luncher dont care understand either',\n",
       " ' engross grim portrait hooker think client',\n",
       " ' deepli felt vividli detail stori newcom strang world',\n",
       " ' philosoph muse dialogu jar tawdri soap opera antic film action surprisingli enjoy',\n",
       " ' easili call best korean film',\n",
       " ' best film year explor obstacl happi face five contemporari individu psycholog masterpiec',\n",
       " ' visual stun rumin love memori histori war art commerc',\n",
       " ' huppert superbl control displai murder vulner ensur malic human face',\n",
       " ' none suaviti classic familiar bond much good laugh problem xx action isnt effect',\n",
       " ' significantli better child movi competit',\n",
       " ' end doesnt work movi work im almost recommend anywai mayb everybodi certainli peopl curio movi right step wrong',\n",
       " ' fail convinc audienc brat anyth loser',\n",
       " ' great stori bad idea movi',\n",
       " ' femm fatal offer noth bait switch beyond plai fair audienc deal dream vision told actual happen third end clue',\n",
       " ' mistak suspect cast shatner legendari professor kuni brilliant colleg student pauli shore rocket scientist',\n",
       " ' funni heartwarm film fun quirk famili life treat subject fond respect',\n",
       " ' steven soderbergh solari failur gloriou failur',\n",
       " ' rivet perform incred flexibl cast love joi behold',\n",
       " ' actor fantast make worth trip theatr',\n",
       " ' side polit spectrum',\n",
       " ' film darkli atmospher herrmann quietli suggest sad ob beneath hearst forc avuncular chortl',\n",
       " ' thought id id much rather watch teen poke genit fruit pi',\n",
       " ' siegel co writer lisa bazadona grace woodard reli much convent creat charact surround franki',\n",
       " ' full frontal attack audienc patienc',\n",
       " ' bright side contain jess ventura best work xfl',\n",
       " ' spirit buddi movi reunion berlin anarchist face arrest 15 year crime',\n",
       " ' virtual interest element audienc focu chelsea wall tripl espresso endur challeng',\n",
       " ' continu challeng percept guilt innoc good gui bad ask nobl end justifi evil mean',\n",
       " ' highli watchabl stuff',\n",
       " ' philosoph intellectu logist mess',\n",
       " ' terrif insid look star make machineri tinseltown',\n",
       " ' movi refresh mind spirit along bodi origin content look style',\n",
       " ' much act danger slow thriller feel preambl bigger complic stori materi',\n",
       " ' uncommonli stylish equal silli pictur fail gener much suspens ask search enough question justifi pretens',\n",
       " ' thoroughli engross ultim tragic',\n",
       " ' combin sharp comedi fashion monster movi atmospher genuin heart creat film mere kick undead deal regret ultim find redempt',\n",
       " ' lot cool stuff pack espn ultim x',\n",
       " ' show holm screen presenc becom major leagu lead ladi movi underachiev psycholog mysteri take sweet time build climax scarc surpris time arriv',\n",
       " ' disarm cornbal atmospher infect entir crowd film roll',\n",
       " ' road trip think yet',\n",
       " ' movi hover somewher acut charact studi trite power struggl',\n",
       " ' dream smart comedi come along rescu summer teen driven toilet humor codswallop name earnest',\n",
       " ' abderrahman sissako heremakono wait happi elegiac portrait transit citi west african coast struggl foreign influenc',\n",
       " ' fascin unnerv examin delus unstabl man',\n",
       " ' highli recommend engross stori horrifi histor event element contribut',\n",
       " ' hard resist',\n",
       " ' despit talk time bloodi climax arriv dont feel enough attach gui care',\n",
       " ' far clever half howard film realli seri strung togeth moment space fill fantasi daydream memori fantast visual trope',\n",
       " ' rough edg safe sand american insomnia pretti darn good',\n",
       " ' much credit given water camera oper team king sonni miller michael stewart work fantast',\n",
       " ' sometim make sen bruckheimeresqu american action flick emul',\n",
       " ' invalu histor document thank filmmak extraordinari access massoud whose charm cultiv devot peopl readili appar',\n",
       " ' sort lazi tearjerk give movi ordinari folk bad name',\n",
       " ' erot thriller neither erot thrill either',\n",
       " ' earth anywher el director ron underwood manag blow million',\n",
       " ' qualiti art combin humor intellig script allow filmmak present biblic messag forgiv without becom preachi syrupi',\n",
       " ' fine film lot better stuck betti fisher left stori',\n",
       " ' death releas',\n",
       " ' hardli nuanc portrait young woman breakdown film nevertheless work scare',\n",
       " ' feel inmat actual taken asylum',\n",
       " ' everyth girl cant swim passag sensit observ feel secondhand familiar good',\n",
       " ' dreari indulg',\n",
       " ' mostli tire retread sever mob tale',\n",
       " ' stun piec visual poetri hopefulli rememb import stori told australia film histori',\n",
       " ' action reason done yet stori charact comedi bit rag fit smoothli togeth',\n",
       " ' overal effect aw affect strang urg board uh shred dude',\n",
       " ' film ultim offer noth peopl urban jungl need peopl surviv',\n",
       " ' gentl touch stori creep heart',\n",
       " ' bad sign thriller instantli know whodunit',\n",
       " ' beauti alexand payn od everyman detail',\n",
       " ' depth studi import develop comput industri requir view univers comput scienc depart year come',\n",
       " ' look travel agenc video target peopl ride bike topless roll mud worthwhil glimps independ commun guid light',\n",
       " ' film tailor school choos cliff note read full length classic',\n",
       " ' smug artifici ill construct fatal overlong find consist tone lack bite degener piou preachi soap opera',\n",
       " ' contain big laugh graze funni bone miss altogeth part conscious dumb approach wear thin',\n",
       " ' u nrelentingli stupid',\n",
       " ' though film clumsi ambit equal admir uncommerci',\n",
       " ' circl friend keep get smaller charact time dead im tell f ed mayb read mind audienc',\n",
       " ' writer director walli wolodarski actor start coeduc fratern kappa rho alpha phi',\n",
       " ' show mug',\n",
       " ' journalist dubiou inept often lethal dull',\n",
       " ' degener hogwash',\n",
       " ' waterlog version fatal attract teeni bopper set sad soggi potboil wast talent attract young lead',\n",
       " ' becom gimmicki instead compel interview lose overal sen mysteri becom tv episod rather documentari actual bui',\n",
       " ' film highlight definit screenplai rhapsod dialogu jump page memor charact creation',\n",
       " ' sweet funni charm complet delight',\n",
       " ' engag overview johnson eccentr career',\n",
       " ' cinemat power quietli deepli move power',\n",
       " ' movi best doesnt charact flaw insist virtu imperfect',\n",
       " ' statham emploi accent think suppos attempt hardass american sometim lap unhidden british',\n",
       " ' appeal vulgar sexist racist humour went head consid low brow perhap snuck foot',\n",
       " ' entertain much music comic antic pervers pleasur watch disnei scrape bottom cracker barrel',\n",
       " ' direct protect code cost begin blur import man code merg',\n",
       " ' melancholi emot film',\n",
       " ' film someth interest odd probabl work better real documentari without insinu mediocr act fairli trite narr',\n",
       " ' hold limit appeal explos sadism see peopl beat pulp',\n",
       " ' mess sincer mess',\n",
       " ' time look civil disobedi anti war movement power strong voic',\n",
       " ' tone rueful compass reverber throughout film whose mean impact sadli heighten current world event',\n",
       " ' undercov brother funni austin power film smarter savvier spoof come along time',\n",
       " ' wallac smart vari pitch movi balanc deafen battl scene quieter domest scene woman home receiv war depart telegram',\n",
       " ' eight crazi night showcas sandler talent',\n",
       " ' paint unabashedli romant pictur nation whose song spring directli live peopl movi exalt marxian dream honest work folk littl show labor live harmoni join song',\n",
       " ' vibrant color semimus rendit',\n",
       " ' excit eat oatmeal',\n",
       " ' godaw bore slug movi',\n",
       " ' uniqu stubborn charismat want better success',\n",
       " ' true tale courag complic auschwitz harrow drama tri tell unspeak',\n",
       " ' immens entertain look unsung hero 20th centuri pop music',\n",
       " ' disturb frighteningli evoc assembl imageri hypnot music compos philip glass',\n",
       " ' submarin drama earn right favor compar da boot',\n",
       " ' bear bad terribl filmmak bad nightmar come true bad',\n",
       " ' hilari touch wonderfulli dyspept',\n",
       " ' actor relat search inner peac dramat depict live onstag esther stori compel quest truth',\n",
       " ' instead build laugh riot left hand dispar funni moment real consequ',\n",
       " ' dont know steven seagal consid star keep cast action film none good monei',\n",
       " ' folk real stake american sexual landscap find either moder amus plain irrelev',\n",
       " ' difficult longtim admir work swept invinc overlook drawback',\n",
       " ' choppi surfac effect feel whole enterpris',\n",
       " ' fontain direct especi agreeabl startl u close grace move camera creat sheerli cinemat appeal',\n",
       " ' wait happi bad film isnt incred dull',\n",
       " ' sewer rat watch movi skeev theyd need shower',\n",
       " ' stori thousand year seem took thousand tell',\n",
       " ' mike white deft combin seriou subject matter dark funni humor good girl film worth watch',\n",
       " ' depend upon reaction movi abl look red felt sharpi pen without disgust thrill giggl',\n",
       " ' thing fear fear dot com hit head theater seat front doze thirti minut film',\n",
       " ' time reach final like wonder youv watch strut postur',\n",
       " ' lot help screenplai profici singularli cursori testud act feral intens young bett davi',\n",
       " ' cast low wattag none charact come big set remain indistinct',\n",
       " ' creativ come across sketch full length comedi',\n",
       " ' experi watch blobbi school cgi anim superlarg format surreal enough divert',\n",
       " ' hanek keep arm length guid intellect heart stori flatten instead sharpen',\n",
       " ' good documentari interest subject thought leav cold case point doug prai scratch',\n",
       " ' cant rememb last time saw wors stunt edit cheaper action movi product valu extrem op',\n",
       " ' come famili eat meddl argu laugh kibbitz fight togeth delight comedi',\n",
       " ' much interest gratuit sexual hanek differ object mind name implic crave fake stimul',\n",
       " ' thing world need movi colleg written direct peopl couldnt pas entranc exam',\n",
       " ' slapstick buffooneri tickl preschool fanci cost famili four 40 film theater spend monei dog rent pedigre instead',\n",
       " ' certainli entertain ride despit talki slow scene someth seem miss sen real magic perhap',\n",
       " ' antonia assimil newfangl commun film settl becom compuls watchabl guilti pleasur daytim drama sort fashion',\n",
       " ' leer offer next littl insight intrigu subject',\n",
       " ' badli level im actual hard time believ peopl paid',\n",
       " ' good look relentlessli lowbrow plai clueless south fork',\n",
       " ' bore tend hammer home point',\n",
       " ' hanek script elfried jelinek novel contriv unmotiv psycholog unpersuas inconclus end',\n",
       " ' theyr go motion zip gone',\n",
       " ' garbu discard potenti patholog studi exhum instead skew melodrama circumstanti situat',\n",
       " ' robin william depart fun friendli demeanor exchang darker unnerv role',\n",
       " ' crime know mistak bad movi determin mayb nobil sort',\n",
       " ' finest human import holocaust movi',\n",
       " ' muddl repetit rag far horrifi histor realiti filmmak characterist style',\n",
       " ' move bond girl deserv sequel',\n",
       " ' funni contruct black comedi adag care wish given full workout',\n",
       " ' preposter melodramat paean gang member teen brooklyn circa',\n",
       " ' smarter offer horror genr produc recent memori far tamer advertis',\n",
       " ' journei difficult audienc protagonist yet potenti reward',\n",
       " ' film explos death spi ballist eck v sever seem safe child film mother deer di',\n",
       " ' defi logic law physic almost anyon willing believ darn doesnt keep rivet seat',\n",
       " ' begin convent thriller evolv gorgeous atmospher medit life chang chanc encount',\n",
       " ' air surprisingli juvenil lark pop influenc prank whose charm immedi appar wear thin repetit',\n",
       " ' stock silver bullet director neil marshal intens freight train film',\n",
       " ' incoher reign',\n",
       " ' actor good paulin paulett van der groen describ belgium nation treasur especi terrif paulin',\n",
       " ' christian sensit reductionist view lord luv spread dr feelgood omnipot slacker feel vastli affront secularist prais god deliv instant camp classic',\n",
       " ' noth fit',\n",
       " ' violent vulgar forgett entertain',\n",
       " ' much movi pictur book big screen isnt favorit seri enjoi enough recommend',\n",
       " ' dreari movi',\n",
       " ' slapstick buffooneri tickl preschool fanci cost famili four 40 film theater spend monei dog rent pedigre instead',\n",
       " ' film boast clearer memor creepi gotten skin',\n",
       " ' eight crazi night showcas sandler talent',\n",
       " ' disjoint mess flow natur joli hideou yellow',\n",
       " ' sentiment mess ring true',\n",
       " ' silli serious',\n",
       " ' dark comedi sick dement humor simpli movi without intent',\n",
       " ' continu challeng percept guilt innoc good gui bad ask nobl end justifi evil mean',\n",
       " ' draggin dragon',\n",
       " ' seldom movi close match spirit man work',\n",
       " ' movi held captiv mediocr bad good bacon keep thing interest dont pai full price',\n",
       " ' though avari done best someth elli noth novel end rule bare worth follow',\n",
       " ' live testament power eccentr strang fact isnt good almost besid point',\n",
       " ' drag along daze enerv drench past numb',\n",
       " ' gibnei jarecki want string bastard',\n",
       " ' jae eun jeong care cat bring beguil fresh come ag stori buoyant express flow imag emerg kei contribut flower south korean cinema',\n",
       " ' aaliyah rare dampen diva persona enough spark genuin chemistri townsend speak creepi egyptian demigod voic comput process overproduc music',\n",
       " ' swing fals sentiment unfunni madcap comedi along expect audienc invest central relationship kind marriag true mind',\n",
       " ' poignant funni',\n",
       " ' hard imagin anyon manag steal movi charismat rise star jake gyllenha accomplish oscar winner susan sarandon dustin hoffman holli hunter yet newcom ellen pompeo pull feat aplomb',\n",
       " ' part spy amus lark probabl rank murphi better perform lesser prais movi',\n",
       " ' reggio trippi ambiti downer sometim come across noth glorifi nike ad',\n",
       " ' seem grant doesnt need floppi hair self deprec stammer',\n",
       " ' pooper scooper',\n",
       " ' better understand didnt connect requir view wont sit commentari enough',\n",
       " ' schmidt nicholson goofi heartfelt mesmer king lear',\n",
       " ' violent initi rite audienc much angeliqu open danc guarante karmen enthron among cinema memor woman',\n",
       " ' sober affect chronicl level effect loss',\n",
       " ' remark achiv film shanghai place serv jew escap holocaust',\n",
       " ' final french produc read lip movi understand charact come',\n",
       " ' de niro murphi showtim savori hilari guilti pleasur recent movi season',\n",
       " ' dilbert without right satir humor',\n",
       " ' audiard successfulli maintain suspens differ level throughout film grip compel',\n",
       " ' pc stabil notwithstand film suffer simplist narr pat fairi tale conclus',\n",
       " ' yet arnold vehicl fail adequ u particular talent',\n",
       " ' wallow charact frustrat movi busi contriv fals sitcom worthi solut problem',\n",
       " ' believ fervent human feel almost anachronist cute half arriv particularli dark moment histori offer flicker remind ti bind',\n",
       " ' dizzili gorgeou companion mr wong mood love much hong kong movi despit mainland set',\n",
       " ' film idea wry comic mayhem',\n",
       " ' filmmak dig deep sink low fortun involv movi like disappear quickli ic cube thrown pot boil water',\n",
       " ' mcfarlan anim lift film firmli level come ag film jar hard boi stori',\n",
       " ' richard gere dian lane fine perform french actor oliv martinez',\n",
       " ' feel strang hollow emot core',\n",
       " ' candid camera methamphetamin',\n",
       " ' film boast clearer memor creepi gotten skin',\n",
       " ' patchi combin soap opera low tech magic realism time ploddingli sociolog commentari',\n",
       " ' ambiti naturalist albeit half bake drama abus inner citi autist teen',\n",
       " ' gimmick search movi carvei silli costum deliv silli voic possibl plot mechan damn',\n",
       " ' inexperienc director mehta much learn',\n",
       " ' life crock someth',\n",
       " ' mess come charact write work underneath skin movi recent memori',\n",
       " ' quit shrek monster inc bad worth take kid',\n",
       " ' puppi dog desper attent nearli break littl neck try perform entertain trick',\n",
       " ' delight romant comedi plenti bite far frothi piec charact complex laden plenti baggag ting tragic underton',\n",
       " ' much feel unfocus underdevelop',\n",
       " ' film fail fulfil ambiti goal nonetheless sustain interest build expositori materi',\n",
       " ' kim ki deok seem mind emotion adolesc audienc demand regular shock bout bare defens sexual violenc keep interest',\n",
       " ' lace liber dose dark humor gorgeou exterior photographi stabl full solid perform thing fascin littl tale',\n",
       " ' cruel misanthrop stuff weak claim surreal black comedi',\n",
       " ' disturbingli involv famili dysfunct drama kill father french director ann fontain deliv inspir portrait male ridden angst emot blockag accompani human condit',\n",
       " ' dark quirki road movi constantli defi expect',\n",
       " ' jason patric rai liotta splendidli cast pair',\n",
       " ' rabbit proof fenc noyc tailor epic tale lean econom movi',\n",
       " ' antwon fisher certainli trick make care protagonist celebr victori except rare stoop cheap manipul corni convent',\n",
       " ' unclutt reson gem relai univers point without lectur confront',\n",
       " ' moor complex import film believ immens entertain david goliath stori much plai',\n",
       " ' troubl dai success sen hard film cold dead',\n",
       " ' sturdi entertain period drama cain fraser moment',\n",
       " ' premis jason x silli strang believ',\n",
       " ' appealingli juvenil trifl deliv share laugh smile',\n",
       " ' cold nervi memor',\n",
       " ' blue crush trap energet extrem sport adventur end creaki pretti woman retread emphasi self empow schmaltz big wave surf give pic titl afterthought',\n",
       " ' act intent noth film come peril close bleak pessimist unflinch good',\n",
       " ' turn home',\n",
       " ' screenplai flounder weight stori line',\n",
       " ' minor work yet deni potenc miller strang fleet brew hope persever hopeless closur',\n",
       " ' enough fine tune act compens movi fail',\n",
       " ' show mug',\n",
       " ' illumin overli talki documentari',\n",
       " ' clot heavi hand symbol dime store psycholog endless scenic shot minut seem twice',\n",
       " ' begin promis medit america durabl ob wind slender cinemat stunt',\n",
       " ' singl digit ag abl recogn stori goofi disnei',\n",
       " ' best rock documentari wilco phenomen band engross stori captur mind heart',\n",
       " ' mechan endeavor bother question somebodi devot time',\n",
       " ' master disguis great saturdai night live sketch great movi',\n",
       " ' strang compel brilliantli act psycholog drama',\n",
       " ' concept hoot trailer riot movi dud',\n",
       " ' mostli martha mostli unsurpris sweet delect diver',\n",
       " ' enough bad movi mediocr perform overst effect come self parodi',\n",
       " ' sloppi amus comedi proce stunningli unorigin premis',\n",
       " ' staggeringli unorigin term gender bend comedi gener quit funni',\n",
       " ' part comedi part drama movi wind accomplish neither full leav feel touch amus sever moment idea nevertheless dissatisfi movi whole',\n",
       " ' ask bui movi milk tv cow free good answer',\n",
       " ' excit eat oatmeal',\n",
       " ' film inform educ ye move care happen armenia ararat went astrai',\n",
       " ' weighti ponder bit fill treat titl',\n",
       " ' although base real life person john movi rather dull person stuck two hour',\n",
       " ' film inform educ ye move care happen armenia ararat went astrai',\n",
       " ' captur conceptu process doesnt add suffici explan final danc work select becam final form',\n",
       " ' equilibrium movi oppos manifesto realli realli stupid',\n",
       " ' id ly ribcag didnt ach end kung pow',\n",
       " ' classi sprightli spin film',\n",
       " ' sade hardli pervers danger libertin agit better drama sad aristocrat tatter fineri film seem deflat',\n",
       " ' gussi distract special effect visual parti trick clear suppos shriek laugh',\n",
       " ' formula famili tearjerk told heavi irish brogu accentu rather mute plot saccharin thrust',\n",
       " ' movi gener plot point degre random usual achiev lotteri draw',\n",
       " ' janei forget oblig lead tragedi somehow guessabl minut mayb echo intoler morbid recent movi',\n",
       " ' daft half suprem good natur',\n",
       " ' amaz super size dosag goofbal stunt jackass fan want',\n",
       " ' stun piec visual poetri hopefulli rememb import stori told australia film histori',\n",
       " ' work transcend boi meet girl postur typic love stori',\n",
       " ' ungainli movi ill fit elbow stick knee',\n",
       " ' banter calvin fellow barber feel streetwis mclaughlin group fail entertain',\n",
       " ' vehicl savour binoch skill film worthwhil',\n",
       " ' provid nail bite suspens credibl charact without reli technolog moment techniqu pretenti dialogu',\n",
       " ' burst constraint sourc adapt televis movi actual look belong big screen',\n",
       " ' half burst goofi energi previou disnei film u minut',\n",
       " ' soundtrack drown lousi dialogu',\n",
       " ' far futur awesom consid period detail matter heart film transport stai past',\n",
       " ' inspir screenplai mike rich cover lot ground perhap much ti thing togeth neatli end',\n",
       " ' massoud stori epic tragedi record tenaci human fighter prison ultim victim histori',\n",
       " ' someth intrins funni sir anthoni hopkin sai car bitch jerri bruckheim product littl el offer',\n",
       " ' degrad strang liber peopl work hard lead live sexi intrigu reveal dispassion gantz brother ordinari pasti lumpen',\n",
       " ' hollywood taken quit nosed alfr hitchcock imagin flight shyamalan self import summer fluff',\n",
       " ' aw movi satisfi emotion malleabl filmgoer',\n",
       " ' grim flat bore werewolf movi refus develop energi level',\n",
       " ' fill alexandr desplat haunt sublim music movi complet transfix audienc',\n",
       " ' teen review recommend 20 year ag mild rental',\n",
       " ' film peopl walk halfwai encourag stand applaud undoubtedli leav camp engag feroci debat year come',\n",
       " ' abderrahman sissako heremakono wait happi elegiac portrait transit citi west african coast struggl foreign influenc',\n",
       " ' handsom sophist approach workplac romant comedi',\n",
       " ' score point origin wit intellig cooki cutter movi cut past job',\n",
       " ' plummer steal show without resort camp nichola wound wound uncl ralph great perform remind dicken grandeur',\n",
       " ' shambl movi visual unattract unbear loud utterli silli hilar complet unintent',\n",
       " ' thought surprisingli affect portrait screw man dare mess power peopl ey idealist kid choos champion ultim lose caus',\n",
       " ' deliri fun',\n",
       " ' philosoph muse dialogu jar tawdri soap opera antic film action surprisingli enjoy',\n",
       " ' simpli eloqu articul tangl feel particular yorker deepli touch unpreced tragedi',\n",
       " ' undercov brother definit mass full sharp smart satir',\n",
       " ' quit miracul dreamwork maker believ adequ fill ey stir emot',\n",
       " ' terrif charact studi probe life complex man',\n",
       " ' normal rohmer talki film fascin move set past reli histor text lose rich character make film memor',\n",
       " ' attun anarchist maxim urg destroi creativ urg ey find morrison iconoclast u technolog liber',\n",
       " ' none half move filmmak seem think',\n",
       " ' cinemat disast inadvert sidesplit worth price admiss ridicul factor alon',\n",
       " ' georg cloonei directori effort present utterli ridicul shaggi dog stori creativ energet origin comedi hit screen year',\n",
       " ' director twitchi sketchbook style adroit perspect shift grow wearisom amid leaden pace indiffer craftsmanship notabl wretch sound design',\n",
       " ' empir movi youv time repackag materi latino lead',\n",
       " ' best thing film show mind look creativ process oper',\n",
       " ' infuri full frontal close real life sen invigor doesnt give damn',\n",
       " ' reson tale racism reveng retribut',\n",
       " ' thought provok often funni drama isol',\n",
       " ' trim 20 minut lavish three year product enough grandeur scale satisfi grown escap',\n",
       " ' witless utterli pointless',\n",
       " ' thought focus charact compliment kura miller think visual medium someth wrong',\n",
       " ' triumph emotion narr complex filmmak',\n",
       " ' entir memor movi certainli easi watch',\n",
       " ' despit promis cast charact big troubl remain loo ti seri vignett prove zani doesnt necessarili mean funni',\n",
       " ' move stori determin human spirit',\n",
       " ' sheer joi pride took work shine frame',\n",
       " ' basic cartoon adventur wind hair exhilar',\n",
       " ' movi attempt mine laugh genr gangster crime comedi wore welcom audienc sever year ago cutesi relianc movi specif clich isnt exactli endear',\n",
       " ' aaliyah rare dampen diva persona enough spark genuin chemistri townsend speak creepi egyptian demigod voic comput process overproduc music',\n",
       " ' preposter tediou sonni spike unintent laughter unfortun occur infrequ film guilti pleasur',\n",
       " ' good practic hollywood suit try togeth cast filmmak team inevit american remak',\n",
       " ' send awai believ quit cheer',\n",
       " ' comedi drama romanc cartoon',\n",
       " ' emot overload femal angst irrepar drag film',\n",
       " ' debut film skin man heart beast feel unusu assur',\n",
       " ' thought id id much rather watch teen poke genit fruit pi',\n",
       " ' noth el movi introduc promis unusu kind psycholog horror',\n",
       " ' littl dread apprehens though creepi idea execut anyth perfunctori skill',\n",
       " ' smart scienc fiction grown fals step along',\n",
       " ' film serv valuabl time capsul remind devast horror suffer entir peopl',\n",
       " ' term execut movi careless unfocus',\n",
       " ' fine rous g rate famili film aim mainli littl kid plenti entertain valu keep grown squirm seat',\n",
       " ' realli happen honei doesnt mean interest anyon el',\n",
       " ' knockaround gui plai student film two gui desper want quentin tarantino grow lack idol energi passion detail',\n",
       " ' child adult enamor thing pokemon wont disappoint',\n",
       " ' like prefer keep watch',\n",
       " ' abandon hope ye enter definit let dant gloomi word guid',\n",
       " ' silli serious',\n",
       " ' cage make unusu pleasantli haunt debut behind camera',\n",
       " ' hoot half great american peopl candid give 15 cent stump speech',\n",
       " ' entertain somewhat standard action movi',\n",
       " ' fire burn weve come face face coupl dragon film ultim fail',\n",
       " ' uplift funni wise',\n",
       " ' tough watch fantast movi',\n",
       " ' treatment dehuman ego destroi process unemploy time offer explor accur anyth american film',\n",
       " ' anyon tech splatterfest advis warn liter log someth user friendli',\n",
       " ' solid refin piec moviemak imbu passion attitud',\n",
       " ' faith without forc sad without shrill walk rememb succe sincer',\n",
       " ' claud miller air tight plot easi pace focu charact drama crime film complic',\n",
       " ' seldahl barbara precis move portrait someon whose world turn upsid passion ill',\n",
       " ' fashion scari movi reli linger terror punctuat sudden shock constant bloodsh punctuat fly gut',\n",
       " ' unfortun hour photo live titl thank larg william interest develop process 60 minut rest overexpos wast film',\n",
       " ' benefit strong perform zhao dong ji face rememb end',\n",
       " ' leigh rare director feel act heart soul cinema allow cast member creativ contribut stori dialogu method almost fail work superbl',\n",
       " ' disturb frighteningli evoc assembl imageri hypnot music compos philip glass',\n",
       " ' everyth dont movi',\n",
       " ' devote star trek ii wrath khan feel nag sen deja vu grandeur best next gener episod lack',\n",
       " ' sweetli sexi funni touch',\n",
       " ' dont think kissing guilti crimin activ contemporari statesman hed sure courtroom trial great fun watch',\n",
       " ' noth fit',\n",
       " ' best reveng live film unlik duma adapt far liken treasur lengthi jail sentenc',\n",
       " ' qut flaw film noth sincer',\n",
       " ' reign fire time great apocalyps movi',\n",
       " ' deliv chill sustain uneas flounder quest deeper mean',\n",
       " ' secret time travel discov indulg reject bore piec crap',\n",
       " ' doesnt realli add much',\n",
       " ' want astronaut ultim movi experi inform breathtakingli spectacular',\n",
       " ' laugh rare snake foo yung',\n",
       " ' certainli entertain ride despit talki slow scene someth seem miss sen real magic perhap',\n",
       " ' funni contruct black comedi adag care wish given full workout',\n",
       " ' road trip think yet',\n",
       " ' lend narcot bland sinist though nearli sinist biennial disnei girl movi machin biennial disnei boi movi',\n",
       " ' drumlin entertain admir doesnt',\n",
       " ' expect littl human littl product',\n",
       " ' jacobi fluent actor given rel dry materi nijinski write perform visual erot frank becom dullingli repetit',\n",
       " ' evan fascin charact deserv better vehicl faceti smirk movi',\n",
       " ' skill calculu major requir balanc formula equat wind heist comedi cleti tout',\n",
       " ' real life strongman ahola lack charisma abil carri film admittedli broad shoulder',\n",
       " ' plot straight shelf perform televis calib messag provid solac decept littl creepi',\n",
       " ' clutchi indulg pretenti travelogu diatrib stuff watch scarlet diva poi titil raw insight instead messi anger movi person therapi',\n",
       " ' benigni italian pinocchio easier sit hastili dub disast',\n",
       " ' tough watch fantast movi',\n",
       " ' tender heartfelt famili drama',\n",
       " ' predict clich ridden endeavor predecessor',\n",
       " ' though particular interest student enthusiast intern danc world music film design viewer ag cultur background rhythmic abil want danc',\n",
       " ' glizti formula silli cagnei top world replac bottom barrel',\n",
       " ' famili film contain hefti themat materi time death etern need live rich full life',\n",
       " ' film fit genr overexpos redol thousand clich yet remain uniqu vibrant origin',\n",
       " ' script snazzi dialogu establish realist atmospher involv unfold crisi lazi plot ensur littl emot invest pai',\n",
       " ' anim sequenc done perfectli construct convei sen childhood imagin creat adventur angst',\n",
       " ...]"
      ]
     },
     "execution_count": 103,
     "metadata": {},
     "output_type": "execute_result"
    }
   ],
   "source": [
    "texts_train\n",
    "\n"
   ]
  },
  {
   "cell_type": "code",
   "execution_count": 104,
   "metadata": {},
   "outputs": [],
   "source": [
    "# Intento de crear los vectores, no funciono\n",
    "import numpy as np\n",
    "\n",
    "\n",
    "def create_vector(texts):\n",
    "    vector = list()\n",
    "    for line in texts:\n",
    "        temp = list()\n",
    "        for word in word_tokenize(line):\n",
    "            indices = embeddings_index.get(word)\n",
    "            if indices is not None:\n",
    "                for el in embeddings_index.get(word):\n",
    "                    temp.append(el)\n",
    "        vector.append(temp)\n",
    "        \n",
    "    return np.array([np.array(xi) for xi in vector])\n",
    "\n",
    "#features_train = create_vector(texts_train)\n",
    "#features_val = create_vector(texts_val)\n",
    "\n"
   ]
  },
  {
   "cell_type": "code",
   "execution_count": 105,
   "metadata": {},
   "outputs": [
    {
     "data": {
      "text/plain": [
       "8818"
      ]
     },
     "execution_count": 105,
     "metadata": {},
     "output_type": "execute_result"
    }
   ],
   "source": [
    "#Crear Vectores bien\n",
    "from sklearn.feature_extraction.text import CountVectorizer\n",
    "vectorizer = CountVectorizer(ngram_range=(1, 1), binary=False) #TF representation\n",
    "vectorizer.fit(texts_train)\n",
    "vocab = vectorizer.get_feature_names()\n",
    "len(vocab)"
   ]
  },
  {
   "cell_type": "code",
   "execution_count": 106,
   "metadata": {},
   "outputs": [
    {
     "data": {
      "text/plain": [
       "(22196, 8818)"
      ]
     },
     "execution_count": 106,
     "metadata": {},
     "output_type": "execute_result"
    }
   ],
   "source": [
    "#features_train.shape\n",
    "vectorizer.transform(texts_train).shape"
   ]
  },
  {
   "cell_type": "code",
   "execution_count": 107,
   "metadata": {},
   "outputs": [],
   "source": [
    "def get_n_words(texts): \n",
    "    palabras_diferentes = 0\n",
    "    palabras = dict()\n",
    "    for linea in texts:\n",
    "        for palabra in linea.split(\" \"):\n",
    "            if palabra not in palabras:\n",
    "                palabras[palabra] = 1\n",
    "                palabras_diferentes+=1\n",
    "            else:\n",
    "                palabras[palabra] +=1\n",
    "    return palabras_diferentes\n",
    "\n",
    "#https://keras.io/examples/pretrained_word_embeddings/\n",
    "from keras.preprocessing.text import Tokenizer\n",
    "from keras.preprocessing.sequence import pad_sequences\n",
    "\n",
    "\n",
    "def create_vector(texts, n_palabras_max):\n",
    "    \n",
    "    tokenizer = Tokenizer(num_words=n_palabras_max)\n",
    "    tokenizer.fit_on_texts(texts)\n",
    "    sequences = tokenizer.texts_to_sequences(texts)\n",
    "    data = pad_sequences(sequences, maxlen=n_palabras_max)\n",
    "    return data\n",
    "\n"
   ]
  },
  {
   "cell_type": "code",
   "execution_count": 108,
   "metadata": {},
   "outputs": [
    {
     "data": {
      "text/plain": [
       "(5550, 8846)"
      ]
     },
     "execution_count": 108,
     "metadata": {},
     "output_type": "execute_result"
    }
   ],
   "source": [
    "n_palabras_max = max(get_n_words(texts_train), get_n_words(texts_val))\n",
    "\n",
    "\n",
    "features_train = create_vector(texts_train,n_palabras_max)\n",
    "features_val = create_vector(texts_val, n_palabras_max)\n",
    "\n",
    "features_val.shape"
   ]
  },
  {
   "cell_type": "code",
   "execution_count": 109,
   "metadata": {},
   "outputs": [
    {
     "name": "stdout",
     "output_type": "stream",
     "text": [
      "Neuron hidden =  2\n",
      "Neuron hidden =  4\n",
      "Neuron hidden =  8\n",
      "Neuron hidden =  16\n",
      "Neuron hidden =  32\n",
      "Neuron hidden =  64\n",
      "Neuron hidden =  128\n",
      "Neuron hidden =  256\n",
      "Neuron hidden =  512\n"
     ]
    }
   ],
   "source": [
    "# Esto se demora como 10 minutos\n",
    "accuracys_train = []\n",
    "accuracys_test  = []\n",
    "\n",
    "from keras.models import Sequential\n",
    "from keras.layers import Dense\n",
    "from keras.optimizers import SGD\n",
    "def do_ANN(x,y, xv,yv, param):\n",
    "    print(\"Neuron hidden = \",param)\n",
    "    model = Sequential()\n",
    "    model.add(Dense(units=param, input_dim=x.shape[1], activation=\"sigmoid\"))\n",
    "    model.add(Dense(1, activation=\"sigmoid\"))\n",
    "    model.compile(optimizer=SGD(lr=0.1), loss=\"binary_crossentropy\", metrics=[\"accuracy\"])\n",
    "    model.fit(x, y, epochs=25, batch_size=128, verbose=0)\n",
    "    train_acc = model.evaluate(x,y, verbose=0)[1] #in position 0 is the loss\n",
    "    test_acc = model.evaluate(xv,yv, verbose=0)[1]\n",
    "    return model, train_acc, test_acc\n",
    "N_h = [2**i for i in range(1,10)]\n",
    "\n",
    "\n",
    "\n",
    "\n",
    "for N in N_h:\n",
    "    model, train_acc, test_acc = do_ANN(features_train,labels_train,features_val,labels_val, N)\n",
    "    accuracys_train.append((N,train_acc))\n",
    "    accuracys_test.append((N,test_acc))\n",
    "    \n"
   ]
  },
  {
   "cell_type": "code",
   "execution_count": 110,
   "metadata": {},
   "outputs": [
    {
     "data": {
      "text/plain": [
       "<matplotlib.legend.Legend at 0x7f9f3a7bd890>"
      ]
     },
     "execution_count": 110,
     "metadata": {},
     "output_type": "execute_result"
    },
    {
     "data": {
      "image/png": "[encoded data removed]",
      "text/plain": [
       "<Figure size 432x288 with 1 Axes>"
      ]
     },
     "metadata": {
      "needs_background": "light"
     },
     "output_type": "display_data"
    }
   ],
   "source": [
    "import matplotlib.pyplot as plt\n",
    "df_accuracys_train = pd.DataFrame(accuracys_train, columns=[\"N\", \"Training\"])\n",
    "df_accuracys_test = pd.DataFrame(accuracys_test, columns=[\"N\", \"Test\"])\n",
    "    \n",
    "plt.plot( 'N', 'Training', data=df_accuracys_train, marker='o', color='orange', linewidth=2)\n",
    "plt.plot( 'N', 'Test', data=df_accuracys_test, marker='', color='blue', linewidth=2)\n",
    "plt.title('N vs Accuracy (Neuronal Network)')\n",
    "plt.ylabel('Accuracy')\n",
    "plt.xlabel('N')\n",
    "#plt.xscale('log')\n",
    "plt.legend()\n",
    "\n"
   ]
  },
  {
   "cell_type": "code",
   "execution_count": 111,
   "metadata": {},
   "outputs": [],
   "source": [
    "# Nos quedamos con el último por que nos dio mejor acurracy\n"
   ]
  },
  {
   "cell_type": "code",
   "execution_count": 112,
   "metadata": {},
   "outputs": [],
   "source": [
    "from sklearn.metrics import accuracy_score\n",
    "\n",
    "indices_train = df_train_text.index\n",
    "y_true = df[df.index.isin(indices_train) ][\"Input.true_sent\"]\n",
    "\n",
    "y_pred = model.predict(features_train)\n",
    "\n"
   ]
  },
  {
   "cell_type": "code",
   "execution_count": 113,
   "metadata": {},
   "outputs": [
    {
     "data": {
      "text/plain": [
       "0.4973869165615426"
      ]
     },
     "execution_count": 113,
     "metadata": {},
     "output_type": "execute_result"
    }
   ],
   "source": [
    "y_true.to_numpy()\n",
    "y_pred = np.around(y_pred)\n",
    "\n",
    "accuracy_score(y_true, y_pred)"
   ]
  },
  {
   "cell_type": "markdown",
   "metadata": {},
   "source": [
    "Como el score no nos dio muy bueno, vamos a promediar todas los valores de las calificaciones y con eso entrenaremos el modelo"
   ]
  },
  {
   "cell_type": "code",
   "execution_count": 114,
   "metadata": {},
   "outputs": [
    {
     "data": {
      "text/html": [
       "<div>\n",
       "<style scoped>\n",
       "    .dataframe tbody tr th:only-of-type {\n",
       "        vertical-align: middle;\n",
       "    }\n",
       "\n",
       "    .dataframe tbody tr th {\n",
       "        vertical-align: top;\n",
       "    }\n",
       "\n",
       "    .dataframe thead th {\n",
       "        text-align: right;\n",
       "    }\n",
       "</style>\n",
       "<table border=\"1\" class=\"dataframe\">\n",
       "  <thead>\n",
       "    <tr style=\"text-align: right;\">\n",
       "      <th></th>\n",
       "      <th>Input.original_sentence</th>\n",
       "      <th>Input.stemmed_sent</th>\n",
       "      <th>Input.true_sent</th>\n",
       "      <th>Answer.sent</th>\n",
       "    </tr>\n",
       "  </thead>\n",
       "  <tbody>\n",
       "    <tr>\n",
       "      <td>0</td>\n",
       "      <td>13 conversations  holds its goodwill close ,...</td>\n",
       "      <td>13 convers hold goodwil close rel slow come point</td>\n",
       "      <td>1</td>\n",
       "      <td>0.400000</td>\n",
       "    </tr>\n",
       "    <tr>\n",
       "      <td>1</td>\n",
       "      <td>13 conversations about one thing  is an inte...</td>\n",
       "      <td>13 convers thing intellig flick examin differ ...</td>\n",
       "      <td>1</td>\n",
       "      <td>1.000000</td>\n",
       "    </tr>\n",
       "    <tr>\n",
       "      <td>2</td>\n",
       "      <td>abandon  will leave you wanting to abandon t...</td>\n",
       "      <td>abandon leav want abandon theater</td>\n",
       "      <td>0</td>\n",
       "      <td>0.000000</td>\n",
       "    </tr>\n",
       "    <tr>\n",
       "      <td>3</td>\n",
       "      <td>an entire film about researchers quietly rea...</td>\n",
       "      <td>entir film research quietli read dusti letter</td>\n",
       "      <td>0</td>\n",
       "      <td>0.166667</td>\n",
       "    </tr>\n",
       "    <tr>\n",
       "      <td>4</td>\n",
       "      <td>antwone fisher  is an earnest , by-the-numbe...</td>\n",
       "      <td>antwon fisher earnest number effort washington...</td>\n",
       "      <td>1</td>\n",
       "      <td>0.833333</td>\n",
       "    </tr>\n",
       "    <tr>\n",
       "      <td>...</td>\n",
       "      <td>...</td>\n",
       "      <td>...</td>\n",
       "      <td>...</td>\n",
       "      <td>...</td>\n",
       "    </tr>\n",
       "    <tr>\n",
       "      <td>4994</td>\n",
       "      <td>your stomach for heaven depends largely on you...</td>\n",
       "      <td>stomach heaven depend larg appetit can corn</td>\n",
       "      <td>0</td>\n",
       "      <td>0.166667</td>\n",
       "    </tr>\n",
       "    <tr>\n",
       "      <td>4995</td>\n",
       "      <td>zany , exuberantly irreverent animated space a...</td>\n",
       "      <td>zani exuberantli irrever anim space adventur</td>\n",
       "      <td>1</td>\n",
       "      <td>0.600000</td>\n",
       "    </tr>\n",
       "    <tr>\n",
       "      <td>4996</td>\n",
       "      <td>zhang yimou delivers warm , genuine characters...</td>\n",
       "      <td>zhang yimou deliv warm genuin charact lie not ...</td>\n",
       "      <td>1</td>\n",
       "      <td>1.000000</td>\n",
       "    </tr>\n",
       "    <tr>\n",
       "      <td>4997</td>\n",
       "      <td>zhuangzhuang creates delicate balance of style...</td>\n",
       "      <td>zhuangzhuang creat delic balanc style text sub...</td>\n",
       "      <td>1</td>\n",
       "      <td>1.000000</td>\n",
       "    </tr>\n",
       "    <tr>\n",
       "      <td>4998</td>\n",
       "      <td>zigzag might have been richer and more observa...</td>\n",
       "      <td>zigzag richer observ dens plot</td>\n",
       "      <td>0</td>\n",
       "      <td>0.166667</td>\n",
       "    </tr>\n",
       "  </tbody>\n",
       "</table>\n",
       "<p>4999 rows × 4 columns</p>\n",
       "</div>"
      ],
      "text/plain": [
       "                                Input.original_sentence  \\\n",
       "0       13 conversations  holds its goodwill close ,...   \n",
       "1       13 conversations about one thing  is an inte...   \n",
       "2       abandon  will leave you wanting to abandon t...   \n",
       "3       an entire film about researchers quietly rea...   \n",
       "4       antwone fisher  is an earnest , by-the-numbe...   \n",
       "...                                                 ...   \n",
       "4994  your stomach for heaven depends largely on you...   \n",
       "4995  zany , exuberantly irreverent animated space a...   \n",
       "4996  zhang yimou delivers warm , genuine characters...   \n",
       "4997  zhuangzhuang creates delicate balance of style...   \n",
       "4998  zigzag might have been richer and more observa...   \n",
       "\n",
       "                                     Input.stemmed_sent  Input.true_sent  \\\n",
       "0     13 convers hold goodwil close rel slow come point                1   \n",
       "1     13 convers thing intellig flick examin differ ...                1   \n",
       "2                     abandon leav want abandon theater                0   \n",
       "3         entir film research quietli read dusti letter                0   \n",
       "4     antwon fisher earnest number effort washington...                1   \n",
       "...                                                 ...              ...   \n",
       "4994        stomach heaven depend larg appetit can corn                0   \n",
       "4995       zani exuberantli irrever anim space adventur                1   \n",
       "4996  zhang yimou deliv warm genuin charact lie not ...                1   \n",
       "4997  zhuangzhuang creat delic balanc style text sub...                1   \n",
       "4998                     zigzag richer observ dens plot                0   \n",
       "\n",
       "      Answer.sent  \n",
       "0        0.400000  \n",
       "1        1.000000  \n",
       "2        0.000000  \n",
       "3        0.166667  \n",
       "4        0.833333  \n",
       "...           ...  \n",
       "4994     0.166667  \n",
       "4995     0.600000  \n",
       "4996     1.000000  \n",
       "4997     1.000000  \n",
       "4998     0.166667  \n",
       "\n",
       "[4999 rows x 4 columns]"
      ]
     },
     "execution_count": 114,
     "metadata": {},
     "output_type": "execute_result"
    }
   ],
   "source": [
    "df2 = df.groupby(['Input.original_sentence', 'Input.stemmed_sent', 'Input.true_sent'], as_index=False )['Answer.sent'].mean()\n",
    "df2"
   ]
  },
  {
   "cell_type": "code",
   "execution_count": 115,
   "metadata": {},
   "outputs": [],
   "source": [
    "from sklearn.model_selection import train_test_split\n",
    "df_train_text = df2[\"Input.stemmed_sent\"]\n",
    "labels_train = df2[\"Answer.sent\"]\n",
    "\n",
    "df_train_text, df_val_text, labels_train, labels_val  = train_test_split(df_train_text, labels_train, test_size=0.2, random_state=0)\n",
    "\n",
    "texts_train = [word_extractor(text) for text in df_train_text]\n",
    "texts_val = [word_extractor(text) for text in df_val_text]\n",
    "\n",
    "#Crear Vectores bien\n",
    "from sklearn.feature_extraction.text import CountVectorizer\n",
    "vectorizer = CountVectorizer(ngram_range=(1, 1), binary=False) #TF representation\n",
    "vectorizer.fit(texts_train)\n",
    "vocab = vectorizer.get_feature_names()\n",
    "\n",
    "def get_n_words(texts): \n",
    "    palabras_diferentes = 0\n",
    "    palabras = dict()\n",
    "    for linea in texts:\n",
    "        for palabra in linea.split(\" \"):\n",
    "            if palabra not in palabras:\n",
    "                palabras[palabra] = 1\n",
    "                palabras_diferentes+=1\n",
    "            else:\n",
    "                palabras[palabra] +=1\n",
    "    return palabras_diferentes\n",
    "\n",
    "#https://keras.io/examples/pretrained_word_embeddings/\n",
    "from keras.preprocessing.text import Tokenizer\n",
    "from keras.preprocessing.sequence import pad_sequences\n",
    "\n",
    "\n",
    "def create_vector(texts, n_palabras_max):\n",
    "    \n",
    "    tokenizer = Tokenizer(num_words=n_palabras_max)\n",
    "    tokenizer.fit_on_texts(texts)\n",
    "    sequences = tokenizer.texts_to_sequences(texts)\n",
    "    data = pad_sequences(sequences, maxlen=n_palabras_max)\n",
    "    return data\n",
    "\n",
    "n_palabras_max = max(get_n_words(texts_train), get_n_words(texts_val))\n",
    "\n",
    "\n",
    "features_train = create_vector(texts_train,n_palabras_max)\n",
    "features_val = create_vector(texts_val, n_palabras_max)\n",
    "\n"
   ]
  },
  {
   "cell_type": "code",
   "execution_count": 116,
   "metadata": {},
   "outputs": [
    {
     "name": "stdout",
     "output_type": "stream",
     "text": [
      "Neuron hidden =  2\n",
      "Neuron hidden =  4\n",
      "Neuron hidden =  8\n",
      "Neuron hidden =  16\n",
      "Neuron hidden =  32\n",
      "Neuron hidden =  64\n",
      "Neuron hidden =  128\n",
      "Neuron hidden =  256\n",
      "Neuron hidden =  512\n"
     ]
    }
   ],
   "source": [
    "accuracys_train = []\n",
    "accuracys_test  = []\n",
    "\n",
    "from keras.models import Sequential\n",
    "from keras.layers import Dense\n",
    "from keras.optimizers import SGD\n",
    "def do_ANN(x,y, xv,yv, param):\n",
    "    print(\"Neuron hidden = \",param)\n",
    "    model = Sequential()\n",
    "    model.add(Dense(units=param, input_dim=x.shape[1], activation=\"sigmoid\"))\n",
    "    model.add(Dense(1, activation=\"sigmoid\"))\n",
    "    model.compile(optimizer=SGD(lr=0.1), loss=\"binary_crossentropy\", metrics=[\"accuracy\"])\n",
    "    model.fit(x, y, epochs=25, batch_size=128, verbose=0)\n",
    "    train_acc = model.evaluate(x,y, verbose=0)[1] #in position 0 is the loss\n",
    "    test_acc = model.evaluate(xv,yv, verbose=0)[1]\n",
    "    return model, train_acc, test_acc\n",
    "N_h = [2**i for i in range(1,10)]\n",
    "\n",
    "\n",
    "\n",
    "\n",
    "for N in N_h:\n",
    "    model, train_acc, test_acc = do_ANN(features_train,labels_train,features_val,labels_val, N)\n",
    "    accuracys_train.append((N,train_acc))\n",
    "    accuracys_test.append((N,test_acc))\n",
    "    "
   ]
  },
  {
   "cell_type": "code",
   "execution_count": 117,
   "metadata": {},
   "outputs": [
    {
     "data": {
      "text/plain": [
       "<matplotlib.legend.Legend at 0x7f9f3c981f50>"
      ]
     },
     "execution_count": 117,
     "metadata": {},
     "output_type": "execute_result"
    },
    {
     "data": {
      "image/png": "[encoded data removed]",
      "text/plain": [
       "<Figure size 432x288 with 1 Axes>"
      ]
     },
     "metadata": {
      "needs_background": "light"
     },
     "output_type": "display_data"
    }
   ],
   "source": [
    "import matplotlib.pyplot as plt\n",
    "df_accuracys_train = pd.DataFrame(accuracys_train, columns=[\"N\", \"Training\"])\n",
    "df_accuracys_test = pd.DataFrame(accuracys_test, columns=[\"N\", \"Test\"])\n",
    "    \n",
    "plt.plot( 'N', 'Training', data=df_accuracys_train, marker='o', color='orange', linewidth=2)\n",
    "plt.plot( 'N', 'Test', data=df_accuracys_test, marker='', color='blue', linewidth=2)\n",
    "plt.title('N vs Accuracy (Neuronal Network)')\n",
    "plt.ylabel('Accuracy')\n",
    "plt.xlabel('N')\n",
    "#plt.xscale('log')\n",
    "plt.legend()\n",
    "\n"
   ]
  },
  {
   "cell_type": "code",
   "execution_count": 118,
   "metadata": {},
   "outputs": [
    {
     "name": "stdout",
     "output_type": "stream",
     "text": [
      "Neuron hidden =  128\n"
     ]
    }
   ],
   "source": [
    "# Quedemonos con el de 128\n",
    "model, train_acc, test_acc = do_ANN(features_train,labels_train,features_val,labels_val, 128)\n"
   ]
  },
  {
   "cell_type": "code",
   "execution_count": 119,
   "metadata": {},
   "outputs": [
    {
     "data": {
      "text/plain": [
       "0.4988747186796699"
      ]
     },
     "execution_count": 119,
     "metadata": {},
     "output_type": "execute_result"
    }
   ],
   "source": [
    "from sklearn.metrics import accuracy_score\n",
    "\n",
    "indices_train = df_train_text.index\n",
    "y_true = df2[df2.index.isin(indices_train) ][\"Input.true_sent\"]\n",
    "\n",
    "y_pred = model.predict(features_train)\n",
    "\n",
    "y_true.to_numpy()\n",
    "y_pred = np.around(y_pred)\n",
    "\n",
    "accuracy_score(y_true, y_pred)"
   ]
  },
  {
   "cell_type": "markdown",
   "metadata": {},
   "source": [
    "Nos dio el mismo valor, interesante, probemos dejando en entero las means"
   ]
  },
  {
   "cell_type": "code",
   "execution_count": 120,
   "metadata": {},
   "outputs": [],
   "source": [
    "df3 = df2\n",
    "df3['Answer.sent'].values[df3['Answer.sent'].values > 0.5] = 1\n",
    "df3['Answer.sent'].values[df3['Answer.sent'].values <= 0.5] = 0\n",
    "\n",
    "df3[\"Answer.sent\"] = pd.to_numeric(df3[\"Answer.sent\"])\n",
    "\n"
   ]
  },
  {
   "cell_type": "code",
   "execution_count": 121,
   "metadata": {},
   "outputs": [
    {
     "name": "stdout",
     "output_type": "stream",
     "text": [
      "Neuron hidden =  2\n",
      "Neuron hidden =  4\n",
      "Neuron hidden =  8\n",
      "Neuron hidden =  16\n",
      "Neuron hidden =  32\n",
      "Neuron hidden =  64\n",
      "Neuron hidden =  128\n",
      "Neuron hidden =  256\n",
      "Neuron hidden =  512\n"
     ]
    }
   ],
   "source": [
    "from sklearn.model_selection import train_test_split\n",
    "df_train_text = df3[\"Input.stemmed_sent\"]\n",
    "labels_train = df3[\"Answer.sent\"]\n",
    "\n",
    "df_train_text, df_val_text, labels_train, labels_val  = train_test_split(df_train_text, labels_train, test_size=0.2, random_state=0)\n",
    "\n",
    "\n",
    "n_palabras_max = max(get_n_words(texts_train), get_n_words(texts_val))\n",
    "\n",
    "\n",
    "features_train = create_vector(texts_train,n_palabras_max)\n",
    "features_val = create_vector(texts_val, n_palabras_max)\n",
    "\n",
    "accuracys_train = []\n",
    "accuracys_test  = []\n",
    "\n",
    "from keras.models import Sequential\n",
    "from keras.layers import Dense\n",
    "from keras.optimizers import SGD\n",
    "def do_ANN(x,y, xv,yv, param):\n",
    "    print(\"Neuron hidden = \",param)\n",
    "    model = Sequential()\n",
    "    model.add(Dense(units=param, input_dim=x.shape[1], activation=\"sigmoid\"))\n",
    "    model.add(Dense(1, activation=\"sigmoid\"))\n",
    "    model.compile(optimizer=SGD(lr=0.1), loss=\"binary_crossentropy\", metrics=[\"accuracy\"])\n",
    "    model.fit(x, y, epochs=25, batch_size=128, verbose=0)\n",
    "    train_acc = model.evaluate(x,y, verbose=0)[1] #in position 0 is the loss\n",
    "    test_acc = model.evaluate(xv,yv, verbose=0)[1]\n",
    "    return model, train_acc, test_acc\n",
    "N_h = [2**i for i in range(1,10)]\n",
    "\n",
    "\n",
    "\n",
    "\n",
    "for N in N_h:\n",
    "    model, train_acc, test_acc = do_ANN(features_train,labels_train,features_val,labels_val, N)\n",
    "    accuracys_train.append((N,train_acc))\n",
    "    accuracys_test.append((N,test_acc))\n",
    "    "
   ]
  },
  {
   "cell_type": "code",
   "execution_count": 122,
   "metadata": {},
   "outputs": [
    {
     "data": {
      "text/plain": [
       "<matplotlib.legend.Legend at 0x7f9f380d2990>"
      ]
     },
     "execution_count": 122,
     "metadata": {},
     "output_type": "execute_result"
    },
    {
     "data": {
      "image/png": "[encoded data removed]",
      "text/plain": [
       "<Figure size 432x288 with 1 Axes>"
      ]
     },
     "metadata": {
      "needs_background": "light"
     },
     "output_type": "display_data"
    }
   ],
   "source": [
    "import matplotlib.pyplot as plt\n",
    "df_accuracys_train = pd.DataFrame(accuracys_train, columns=[\"N\", \"Training\"])\n",
    "df_accuracys_test = pd.DataFrame(accuracys_test, columns=[\"N\", \"Test\"])\n",
    "    \n",
    "plt.plot( 'N', 'Training', data=df_accuracys_train, marker='o', color='orange', linewidth=2)\n",
    "plt.plot( 'N', 'Test', data=df_accuracys_test, marker='', color='blue', linewidth=2)\n",
    "plt.title('N vs Accuracy (Neuronal Network)')\n",
    "plt.ylabel('Accuracy')\n",
    "plt.xlabel('N')\n",
    "#plt.xscale('log')\n",
    "plt.legend()\n",
    "\n",
    "\n"
   ]
  },
  {
   "cell_type": "code",
   "execution_count": 123,
   "metadata": {},
   "outputs": [
    {
     "name": "stdout",
     "output_type": "stream",
     "text": [
      "Neuron hidden =  256\n"
     ]
    }
   ],
   "source": [
    "# Quedemonos con el de 256\n",
    "model, train_acc, test_acc = do_ANN(features_train,labels_train,features_val,labels_val, 256)\n"
   ]
  },
  {
   "cell_type": "code",
   "execution_count": 124,
   "metadata": {},
   "outputs": [
    {
     "data": {
      "text/plain": [
       "0.5011252813203301"
      ]
     },
     "execution_count": 124,
     "metadata": {},
     "output_type": "execute_result"
    }
   ],
   "source": [
    "from sklearn.metrics import accuracy_score\n",
    "\n",
    "indices_train = df_train_text.index\n",
    "y_true = df3[df3.index.isin(indices_train) ][\"Input.true_sent\"]\n",
    "\n",
    "y_pred = model.predict(features_train)\n",
    "\n",
    "y_true.to_numpy()\n",
    "y_pred = np.around(y_pred)\n",
    "\n",
    "accuracy_score(y_true, y_pred)"
   ]
  },
  {
   "cell_type": "code",
   "execution_count": null,
   "metadata": {},
   "outputs": [],
   "source": []
  },
  {
   "cell_type": "markdown",
   "metadata": {},
   "source": [
    "Obtenemos una pequeña mejora, probemos con otro tipo de modelo"
   ]
  },
  {
   "cell_type": "code",
   "execution_count": 125,
   "metadata": {},
   "outputs": [
    {
     "data": {
      "text/plain": [
       "2615    0.0\n",
       "1116    0.0\n",
       "4519    1.0\n",
       "1478    1.0\n",
       "156     0.0\n",
       "       ... \n",
       "4931    1.0\n",
       "3264    0.0\n",
       "1653    0.0\n",
       "2607    0.0\n",
       "2732    1.0\n",
       "Name: Answer.sent, Length: 3999, dtype: float64"
      ]
     },
     "execution_count": 125,
     "metadata": {},
     "output_type": "execute_result"
    }
   ],
   "source": [
    "labels_train"
   ]
  },
  {
   "cell_type": "code",
   "execution_count": 126,
   "metadata": {},
   "outputs": [
    {
     "data": {
      "text/plain": [
       "3999"
      ]
     },
     "execution_count": 126,
     "metadata": {},
     "output_type": "execute_result"
    }
   ],
   "source": [
    "labels_train.size"
   ]
  },
  {
   "cell_type": "code",
   "execution_count": 127,
   "metadata": {},
   "outputs": [],
   "source": [
    "#  Lo corri con todos los valores en 1, pero en 6 horas no se detuvo, \n",
    "#  por lo que solo elegiremos los mejores de la parte 1\n",
    "\n",
    "# https://stackoverflow.com/questions/31681373/making-svm-run-faster-in-python\n",
    "\n",
    "\n",
    "from sklearn.multiclass import OneVsRestClassifier\n",
    "from sklearn.ensemble import BaggingClassifier, RandomForestClassifier\n",
    "\n",
    "from sklearn.model_selection import train_test_split\n",
    "df_train_text = df3[\"Input.stemmed_sent\"]\n",
    "labels_train = df3[\"Answer.sent\"]\n",
    "\n",
    "df_train_text, df_val_text, labels_train, labels_val  = train_test_split(df_train_text, labels_train, test_size=0.2, random_state=0)\n",
    "\n",
    "\n",
    "texts_train = [word_extractor(text) for text in df_train_text]\n",
    "texts_val = [word_extractor(text) for text in df_val_text]\n",
    "\n",
    "n_palabras_max = max(get_n_words(texts_train), get_n_words(texts_val))\n",
    "\n",
    "\n",
    "features_train = create_vector(texts_train,n_palabras_max)\n",
    "features_val = create_vector(texts_val, n_palabras_max)\n",
    "\n",
    "\n",
    "def get_n_words(texts): \n",
    "    palabras_diferentes = 0\n",
    "    palabras = dict()\n",
    "    for linea in texts:\n",
    "        for palabra in linea.split(\" \"):\n",
    "            if palabra not in palabras:\n",
    "                palabras[palabra] = 1\n",
    "                palabras_diferentes+=1\n",
    "            else:\n",
    "                palabras[palabra] +=1\n",
    "    return palabras_diferentes\n",
    "\n",
    "\n",
    "from sklearn.decomposition import PCA\n",
    "\n",
    "\n",
    "from sklearn.svm import SVC as SVM #SVC is for classification\n",
    "def do_SVM(x,y,xv,yv, param, kernel='linear'):\n",
    "    print(\"Param C= \",C, 'Kernel= ', kernel)\n",
    "    d = 2\n",
    "\n",
    "    pca_model = PCA(n_components=d)\n",
    "    pca_model.fit(x)\n",
    "    x_pca = pca_model.transform(x)\n",
    "    pca_model.fit(xv)\n",
    "    xv_pca = pca_model.transform(xv)\n",
    "    \n",
    "    model= SVM(probability=False, class_weight='balanced', C=C,kernel=kernel)\n",
    "    \n",
    "    model.fit(x_pca,y)\n",
    "    train_acc = model.score(x_pca,y)\n",
    "    test_acc = model.score(xv_pca,yv)\n",
    "    return model, train_acc, test_acc\n",
    "Cs = [1000]\n",
    "\n",
    "accuracys_train = dict()\n",
    "accuracys_test  = dict()\n",
    "\n",
    "# Comentado para que no corra hasta infinito\n",
    "\n",
    "\n",
    "#for kernel in ['linear','rbf']:\n",
    "#    for C in Cs:\n",
    "#        model, train_acc, test_acc = do_SVM(features_train[:100],labels_train[:100],features_val[:100],labels_val[:100],C,kernel )\n",
    "#        if kernel not in accuracys_train:\n",
    "#            accuracys_train[kernel] = list()\n",
    "#            accuracys_test[kernel] = list()\n",
    "#        accuracys_train[kernel].append((C,train_acc))\n",
    "#        accuracys_test[kernel].append((C,test_acc))\n",
    "    "
   ]
  },
  {
   "cell_type": "code",
   "execution_count": 128,
   "metadata": {},
   "outputs": [
    {
     "name": "stderr",
     "output_type": "stream",
     "text": [
      "No handles with labels found to put in legend.\n"
     ]
    },
    {
     "data": {
      "text/plain": [
       "<matplotlib.legend.Legend at 0x7f9f3a4096d0>"
      ]
     },
     "execution_count": 128,
     "metadata": {},
     "output_type": "execute_result"
    },
    {
     "data": {
      "image/png": "[encoded data removed]",
      "text/plain": [
       "<Figure size 1440x1080 with 1 Axes>"
      ]
     },
     "metadata": {
      "needs_background": "light"
     },
     "output_type": "display_data"
    }
   ],
   "source": [
    "colores = {\"linear\": \"tab:blue\",\"poly\": \"tab:orange\", \"rbf\":\"tab:green\" , \"sigmoid\":\"tab:cyan\"}\n",
    "\n",
    "plt.figure(figsize=(20,15))\n",
    "for kernel, data in accuracys_train.items():\n",
    "    plt.plot( 'C', 'Training', data=pandas.DataFrame(data, columns=[\"C\", \"Training\"]), marker='', color=colores[kernel], linewidth=2, label=kernel+\" train\")\n",
    "    \n",
    "for kernel, data in accuracys_test.items():\n",
    "    plt.plot( 'C', 'Test', data=pandas.DataFrame(data, columns=[\"C\", \"Test\"]), marker='o', color=colores[kernel], linewidth=2, label=kernel+\" test\")\n",
    "    \n",
    "plt.title('C vs Accuracy (SVM)')\n",
    "plt.ylabel('Accuracy')\n",
    "\n",
    "plt.xlabel('C')\n",
    "plt.xscale('log')\n",
    "plt.legend()"
   ]
  },
  {
   "cell_type": "markdown",
   "metadata": {},
   "source": [
    "Como el anterior se demora mucho, probemos con K nearest\n",
    "\n"
   ]
  },
  {
   "cell_type": "code",
   "execution_count": 129,
   "metadata": {},
   "outputs": [
    {
     "name": "stdout",
     "output_type": "stream",
     "text": [
      "Param K=  1\n",
      "Param K=  41\n",
      "Param K=  81\n"
     ]
    }
   ],
   "source": [
    "from sklearn.neighbors import KNeighborsClassifier\n",
    "def do_KNN(x,y,xv,yv, param):\n",
    "    model = KNeighborsClassifier()\n",
    "    print(\"Param K= \",param)\n",
    "    model.set_params(n_neighbors=param)\n",
    "    model.fit(x,y)\n",
    "    train_acc = model.score(x,y)\n",
    "    test_acc = model.score(xv,yv)\n",
    "    return model, train_acc, test_acc\n",
    "Ks = np.arange(1, 120, 40) # Se decide este rango por que se observo que sobre 500 ya no tenia buen accuracy\n",
    " \n",
    "\n",
    "accuracys_train = []\n",
    "accuracys_test  = []\n",
    "\n",
    "for K in Ks:\n",
    "    model, train_acc, test_acc = do_KNN(features_train,labels_train,features_val,labels_val, K)\n",
    "    accuracys_train.append((K,train_acc))\n",
    "    accuracys_test.append((K,test_acc))\n",
    "    \n",
    "\n"
   ]
  },
  {
   "cell_type": "code",
   "execution_count": 130,
   "metadata": {},
   "outputs": [
    {
     "data": {
      "text/plain": [
       "<matplotlib.legend.Legend at 0x7f9f3b975d90>"
      ]
     },
     "execution_count": 130,
     "metadata": {},
     "output_type": "execute_result"
    },
    {
     "data": {
      "image/png": "[encoded data removed]",
      "text/plain": [
       "<Figure size 432x288 with 1 Axes>"
      ]
     },
     "metadata": {
      "needs_background": "light"
     },
     "output_type": "display_data"
    }
   ],
   "source": [
    "import matplotlib.pyplot as plt\n",
    "df_accuracys_train = pd.DataFrame(accuracys_train, columns=[\"K\", \"Training\"])\n",
    "df_accuracys_test = pd.DataFrame(accuracys_test, columns=[\"K\", \"Test\"])\n",
    "    \n",
    "plt.plot( 'K', 'Training', data=df_accuracys_train, marker='o', color='orange', linewidth=2)\n",
    "plt.plot( 'K', 'Test', data=df_accuracys_test, marker='', color='blue', linewidth=2)\n",
    "plt.title('K vs Accuracy (KNN)')\n",
    "plt.ylabel('Accuracy')\n",
    "plt.xlabel('K')\n",
    "#plt.xscale('log')\n",
    "plt.legend()"
   ]
  },
  {
   "cell_type": "code",
   "execution_count": 131,
   "metadata": {},
   "outputs": [
    {
     "name": "stdout",
     "output_type": "stream",
     "text": [
      "Param K=  1\n",
      "Param K=  2\n",
      "Param K=  3\n",
      "Param K=  4\n",
      "Param K=  5\n",
      "Param K=  6\n",
      "Param K=  7\n",
      "Param K=  8\n",
      "Param K=  9\n"
     ]
    }
   ],
   "source": [
    "Ks = np.arange(1, 10, 1) \n",
    "for K in Ks:\n",
    "    model, train_acc, test_acc = do_KNN(features_train,labels_train,features_val,labels_val, K)\n",
    "    accuracys_train.append((K,train_acc))\n",
    "    accuracys_test.append((K,test_acc))\n",
    "    "
   ]
  },
  {
   "cell_type": "code",
   "execution_count": 132,
   "metadata": {},
   "outputs": [
    {
     "name": "stdout",
     "output_type": "stream",
     "text": [
      "    K  Training\n",
      "0   1  1.000000\n",
      "3   1  1.000000\n",
      "4   2  0.749687\n",
      "5   3  0.744186\n",
      "6   4  0.695424\n",
      "7   5  0.694424\n",
      "8   6  0.650913\n",
      "9   7  0.654414\n",
      "10  8  0.639660\n",
      "11  9  0.635659\n"
     ]
    },
    {
     "data": {
      "text/plain": [
       "<matplotlib.legend.Legend at 0x7f9f39c7c210>"
      ]
     },
     "execution_count": 132,
     "metadata": {},
     "output_type": "execute_result"
    },
    {
     "data": {
      "image/png": "[encoded data removed]",
      "text/plain": [
       "<Figure size 432x288 with 1 Axes>"
      ]
     },
     "metadata": {
      "needs_background": "light"
     },
     "output_type": "display_data"
    }
   ],
   "source": [
    "import matplotlib.pyplot as plt\n",
    "\n",
    "\n",
    "df_accuracys_train = pd.DataFrame(accuracys_train, columns=[\"K\", \"Training\"])\n",
    "df_accuracys_test = pd.DataFrame(accuracys_test, columns=[\"K\", \"Test\"])\n",
    "\n",
    "a = df_accuracys_train[\"K\"] <=10\n",
    "b = df_accuracys_test[\"K\"] <=10\n",
    "\n",
    "df_accuracys_train = df_accuracys_train[a]\n",
    "df_accuracys_test = df_accuracys_test[b]\n",
    "print(df_accuracys_train)\n",
    "\n",
    "plt.plot( 'K', 'Training', data=df_accuracys_train, marker='o', color='orange', linewidth=2)\n",
    "plt.plot( 'K', 'Test', data=df_accuracys_test, marker='', color='blue', linewidth=2)\n",
    "plt.title('K vs Accuracy (KNN)')\n",
    "plt.ylabel('Accuracy')\n",
    "plt.xlabel('K')\n",
    "#plt.xscale('log')\n",
    "plt.legend()"
   ]
  },
  {
   "cell_type": "code",
   "execution_count": 133,
   "metadata": {
    "scrolled": true
   },
   "outputs": [
    {
     "name": "stdout",
     "output_type": "stream",
     "text": [
      "Param K=  2\n"
     ]
    },
    {
     "data": {
      "text/plain": [
       "0.4926231557889472"
      ]
     },
     "execution_count": 133,
     "metadata": {},
     "output_type": "execute_result"
    }
   ],
   "source": [
    "# Usemos 2 por que uno parece demasiado perfecto\n",
    "\n",
    "model, train_acc, test_acc = do_KNN(features_train,labels_train,features_val,labels_val, 2)\n",
    "\n",
    "from sklearn.metrics import accuracy_score\n",
    "\n",
    "indices_train = df_train_text.index\n",
    "y_true = df3[df3.index.isin(indices_train) ][\"Input.true_sent\"]\n",
    "\n",
    "y_pred = model.predict(features_train)\n",
    "\n",
    "y_true.to_numpy()\n",
    "y_pred = np.around(y_pred)\n",
    "\n",
    "accuracy_score(y_true, y_pred)"
   ]
  },
  {
   "cell_type": "markdown",
   "metadata": {},
   "source": [
    "Y... Resulta ser igual de malo que todos, me rindo"
   ]
  },
  {
   "cell_type": "code",
   "execution_count": 134,
   "metadata": {},
   "outputs": [
    {
     "name": "stdout",
     "output_type": "stream",
     "text": [
      "Param K=  1\n"
     ]
    },
    {
     "data": {
      "text/plain": [
       "0.4898724681170293"
      ]
     },
     "execution_count": 134,
     "metadata": {},
     "output_type": "execute_result"
    }
   ],
   "source": [
    "# Solo por si acaso\n",
    "\n",
    "model, train_acc, test_acc = do_KNN(features_train,labels_train,features_val,labels_val, 1)\n",
    "\n",
    "from sklearn.metrics import accuracy_score\n",
    "\n",
    "indices_train = df_train_text.index\n",
    "y_true = df3[df3.index.isin(indices_train) ][\"Input.true_sent\"]\n",
    "\n",
    "y_pred = model.predict(features_train)\n",
    "\n",
    "y_true.to_numpy()\n",
    "y_pred = np.around(y_pred)\n",
    "\n",
    "accuracy_score(y_true, y_pred)"
   ]
  },
  {
   "cell_type": "markdown",
   "metadata": {},
   "source": [
    "Y si, no mejoro."
   ]
  },
  {
   "cell_type": "markdown",
   "metadata": {},
   "source": [
    "<a id=\"refs\"></a>\n",
    "## Referencias\n",
    "[1] Keras: Deep Learning library for Theano and TensorFlow. https://keras.io/  \n",
    "[2] https://www.kaggle.com/c/sentiment-analysis-on-movie-reviews  \n",
    "[3] https://en.wikipedia.org/wiki/Stopwords  \n",
    "[4] https://en.wikipedia.org/wiki/Lemmatisation  \n",
    "[5] Landauer, T. K., Foltz, P. W., & Laham, D. (1998). *An introduction to latent semantic analysis*. Discourse processes, 25(2-3), 259-284.  \n",
    "[6] https://github.com/cjhutto/vaderSentiment  \n",
    "[7] https://en.wikipedia.org/wiki/Stemming  \n",
    "[8] Rodrigues, F., Pereira, F., & Ribeiro, B. (2013). *Learning from multiple annotators: distinguishing good from random labelers*. Pattern Recognition Letters, 34(12), 1428-1436."
   ]
  },
  {
   "cell_type": "code",
   "execution_count": null,
   "metadata": {},
   "outputs": [],
   "source": []
  }
 ],
 "metadata": {
  "kernelspec": {
   "display_name": "Python 3",
   "language": "python",
   "name": "python3"
  },
  "language_info": {
   "codemirror_mode": {
    "name": "ipython",
    "version": 3
   },
   "file_extension": ".py",
   "mimetype": "text/x-python",
   "name": "python",
   "nbconvert_exporter": "python",
   "pygments_lexer": "ipython3",
   "version": "3.7.4"
  }
 },
 "nbformat": 4,
 "nbformat_minor": 2
}
